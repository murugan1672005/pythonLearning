{
 "cells": [
  {
   "cell_type": "code",
   "execution_count": 1,
   "id": "2e8a6e7f-9d77-42cf-bab9-bfa5ceddc654",
   "metadata": {},
   "outputs": [
    {
     "name": "stdout",
     "output_type": "stream",
     "text": [
      "Hello World\n"
     ]
    }
   ],
   "source": [
    "print(\"Hello World\")"
   ]
  },
  {
   "cell_type": "markdown",
   "id": "de4abee4-d5c2-481d-ab6d-2699c0f6403a",
   "metadata": {},
   "source": [
    "# Python Progamming "
   ]
  },
  {
   "cell_type": "markdown",
   "id": "4e3f0627-edad-4d35-8dc8-6dac52dd5837",
   "metadata": {},
   "source": [
    "Why We learn Program?\n"
   ]
  },
  {
   "cell_type": "markdown",
   "id": "d690ef5a-ae28-4e00-9f73-ad293642b389",
   "metadata": {},
   "source": [
    "1)To command the computer to perform certain actions beacuse computer doesnot do actions on its own"
   ]
  },
  {
   "cell_type": "code",
   "execution_count": 3,
   "id": "bd7a25a3-d2c6-478c-b97c-f4095168da73",
   "metadata": {},
   "outputs": [],
   "source": [
    "# Hello World program is the first program in programming\n"
   ]
  },
  {
   "cell_type": "code",
   "execution_count": 4,
   "id": "e980403d-d6f9-40af-b12c-bd786e1c0672",
   "metadata": {},
   "outputs": [
    {
     "name": "stdout",
     "output_type": "stream",
     "text": [
      "Hello world\n"
     ]
    }
   ],
   "source": [
    "print(\"Hello world\")"
   ]
  },
  {
   "cell_type": "markdown",
   "id": "7f9a90d8-8ed0-4819-9d3e-2b5ba4841b59",
   "metadata": {},
   "source": [
    "# Variables"
   ]
  },
  {
   "cell_type": "markdown",
   "id": "58bea7cc-b68d-4da8-8c15-405fd6a90904",
   "metadata": {},
   "source": [
    "1) Variaables are containers to hold the data by most of peoples\n",
    "But Many same say it is like a label to  values\n",
    "2) Data Type is implicitly called at run time in python\n",
    "3) need not declared before its use\n",
    "4) only we need to intialise\n",
    "5) Variables are stored in stack like structure and values are stored in heap like structure"
   ]
  },
  {
   "cell_type": "code",
   "execution_count": 7,
   "id": "8a88a547-3b23-4008-8b3d-72f130aeab20",
   "metadata": {},
   "outputs": [],
   "source": [
    "a = 10\n",
    "b = True\n",
    "c = False\n",
    "d = 20.0\n",
    "e = 10+4j\n",
    "f = [1,2,3,4]\n",
    "g = \"Hello\"\n",
    "h = (1,2,3)\n",
    "i = { \"name\":\"Thiru\",\"age\":21}\n"
   ]
  },
  {
   "cell_type": "code",
   "execution_count": 8,
   "id": "ba6eab85-dea5-4087-9640-fcc1a62b0822",
   "metadata": {},
   "outputs": [],
   "source": [
    "j = set() # set() to declare variable as set"
   ]
  },
  {
   "cell_type": "markdown",
   "id": "0eddcb9a-f459-4366-9303-986b6195c0d6",
   "metadata": {},
   "source": [
    "# Id Function,type() function and Print Function\n"
   ]
  },
  {
   "cell_type": "markdown",
   "id": "21666271-86cb-415e-8610-1a16e870254b",
   "metadata": {},
   "source": [
    "1) References make them together in values\n",
    "2) id function will tells about pointing"
   ]
  },
  {
   "cell_type": "code",
   "execution_count": 9,
   "id": "0b499767-97d9-49ec-98a7-91a9f046d75c",
   "metadata": {},
   "outputs": [
    {
     "name": "stdout",
     "output_type": "stream",
     "text": [
      "140704369497480\n",
      "140704369497480\n"
     ]
    }
   ],
   "source": [
    "x = 20\n",
    "y = 20\n",
    "print(id(x))\n",
    "print(id(y))"
   ]
  },
  {
   "cell_type": "code",
   "execution_count": 10,
   "id": "575fd6c4-0b41-4b77-a66b-c6331199eef2",
   "metadata": {},
   "outputs": [
    {
     "name": "stdout",
     "output_type": "stream",
     "text": [
      "140704369497800\n"
     ]
    }
   ],
   "source": [
    "y = 30\n",
    "print(id(y))"
   ]
  },
  {
   "cell_type": "markdown",
   "id": "2f5eff62-5c00-4284-8275-0ba87bfdb820",
   "metadata": {},
   "source": [
    "print function is important learn about it has sep,end paramerters sep parameter will help which parameter helps to seperate the variables in single line while end to seperate for two print statements\n"
   ]
  },
  {
   "cell_type": "code",
   "execution_count": 11,
   "id": "5f2057d9-188c-4da7-bf54-d5673bc0e9e1",
   "metadata": {},
   "outputs": [
    {
     "name": "stdout",
     "output_type": "stream",
     "text": [
      "12?13\n"
     ]
    }
   ],
   "source": [
    "print(12,13,sep=\"?\")"
   ]
  },
  {
   "cell_type": "code",
   "execution_count": 12,
   "id": "f92d71f3-4a18-453f-9e43-38705e15f03c",
   "metadata": {},
   "outputs": [
    {
     "name": "stdout",
     "output_type": "stream",
     "text": [
      "13*14\n"
     ]
    }
   ],
   "source": [
    "print(13,end=\"*\")\n",
    "print(14)"
   ]
  },
  {
   "cell_type": "markdown",
   "id": "f560872c-c215-4778-9ccc-e9ba0f2b64e9",
   "metadata": {},
   "source": [
    "Normally end is /n sep is \" \"\n"
   ]
  },
  {
   "cell_type": "markdown",
   "id": "85713c3a-39ae-4764-bb2f-cd2d56a85d08",
   "metadata": {},
   "source": [
    "type() function to determine the type of data type"
   ]
  },
  {
   "cell_type": "code",
   "execution_count": 19,
   "id": "fdb45509-e696-4eaf-8b43-be86aea2cd12",
   "metadata": {},
   "outputs": [
    {
     "name": "stdout",
     "output_type": "stream",
     "text": [
      "<class 'int'>\n"
     ]
    }
   ],
   "source": [
    "print(type(a)) # integer"
   ]
  },
  {
   "cell_type": "code",
   "execution_count": 20,
   "id": "1c00b00b-1eae-4112-9ac7-0e1f906961ae",
   "metadata": {},
   "outputs": [
    {
     "name": "stdout",
     "output_type": "stream",
     "text": [
      "<class 'bool'> <class 'bool'>\n"
     ]
    }
   ],
   "source": [
    "print(type(b),type(c)) # bool"
   ]
  },
  {
   "cell_type": "code",
   "execution_count": 21,
   "id": "78a7190b-5e56-4334-9fc1-ca8486c03664",
   "metadata": {},
   "outputs": [
    {
     "name": "stdout",
     "output_type": "stream",
     "text": [
      "<class 'float'>\n"
     ]
    }
   ],
   "source": [
    "print(type(d)) # float"
   ]
  },
  {
   "cell_type": "code",
   "execution_count": 22,
   "id": "ed9035bd-3668-4f13-91e7-eedc52eb15d4",
   "metadata": {},
   "outputs": [
    {
     "name": "stdout",
     "output_type": "stream",
     "text": [
      "<class 'complex'>\n"
     ]
    }
   ],
   "source": [
    "print(type(e)) # complex"
   ]
  },
  {
   "cell_type": "code",
   "execution_count": 23,
   "id": "eebd608a-039a-4bf4-91c2-7d4f9a338e95",
   "metadata": {},
   "outputs": [
    {
     "name": "stdout",
     "output_type": "stream",
     "text": [
      "<class 'list'>\n"
     ]
    }
   ],
   "source": [
    "print(type(f)) # list"
   ]
  },
  {
   "cell_type": "code",
   "execution_count": 24,
   "id": "ad5380a2-3622-40f0-8752-8fa76460ca56",
   "metadata": {},
   "outputs": [
    {
     "name": "stdout",
     "output_type": "stream",
     "text": [
      "<class 'str'>\n"
     ]
    }
   ],
   "source": [
    "print(type(g)) # string"
   ]
  },
  {
   "cell_type": "code",
   "execution_count": 28,
   "id": "5c1bf38d-3ae5-4cdf-8aaf-fb24c0d33984",
   "metadata": {},
   "outputs": [
    {
     "name": "stdout",
     "output_type": "stream",
     "text": [
      "<class 'tuple'>\n"
     ]
    }
   ],
   "source": [
    "print(type(h)) # tupule"
   ]
  },
  {
   "cell_type": "code",
   "execution_count": 29,
   "id": "61d0e4d4-6725-4243-9d9b-2935ba877ae5",
   "metadata": {},
   "outputs": [
    {
     "name": "stdout",
     "output_type": "stream",
     "text": [
      "<class 'dict'>\n"
     ]
    }
   ],
   "source": [
    "print(type(i)) # dict"
   ]
  },
  {
   "cell_type": "code",
   "execution_count": 30,
   "id": "d774d829-05e7-45bb-a1a2-0a01c2b224e5",
   "metadata": {},
   "outputs": [
    {
     "name": "stdout",
     "output_type": "stream",
     "text": [
      "<class 'set'>\n"
     ]
    }
   ],
   "source": [
    "print(type(j)) # set"
   ]
  },
  {
   "cell_type": "markdown",
   "id": "b2c5a443-9851-4415-b1b3-8f2cbbf216fb",
   "metadata": {},
   "source": [
    "We will study them in detail last"
   ]
  },
  {
   "cell_type": "markdown",
   "id": "736621e5-01d5-49e5-8177-308d6cc6c84d",
   "metadata": {},
   "source": [
    "# Comments"
   ]
  },
  {
   "cell_type": "markdown",
   "id": "005fc09d-a2fe-4a39-9874-54253c4eb0ed",
   "metadata": {},
   "source": [
    "Comments are used to describe the program it is denoted by #\n"
   ]
  },
  {
   "cell_type": "code",
   "execution_count": 31,
   "id": "e84c6889-a1e5-40d5-a11a-c47a8c23de9d",
   "metadata": {},
   "outputs": [],
   "source": [
    "# this is comment"
   ]
  },
  {
   "cell_type": "markdown",
   "id": "4af175a6-5450-4d0e-b647-f25c8b1bb3a4",
   "metadata": {},
   "source": [
    "# Multiline Strings and Single Line Strings"
   ]
  },
  {
   "cell_type": "markdown",
   "id": "a79495a1-f3f9-4193-be93-197089e94a94",
   "metadata": {},
   "source": [
    "1) single or double quotation marks used for single line strings\n",
    "2) While three single or double quotations used for multine strings"
   ]
  },
  {
   "cell_type": "code",
   "execution_count": 4,
   "id": "10f2c472-ffd3-4c2a-b344-5ffe168d9e79",
   "metadata": {},
   "outputs": [],
   "source": [
    "name = \"ThiruMurugan\""
   ]
  },
  {
   "cell_type": "code",
   "execution_count": 32,
   "id": "2deadb6d-8d10-42b3-b5be-bdbf0f2843bc",
   "metadata": {},
   "outputs": [],
   "source": [
    "# Multiline Strings\n",
    "str = \"\"\" This is Mutliline sTring \n",
    "after all yu is poking k\n",
    "wdjnj \"\"\""
   ]
  },
  {
   "cell_type": "code",
   "execution_count": 33,
   "id": "d97e8a2c-1fd0-4382-91cb-3eec2992ecfb",
   "metadata": {},
   "outputs": [
    {
     "name": "stdout",
     "output_type": "stream",
     "text": [
      " This is Mutliline sTring \n",
      "after all yu is poking k\n",
      "wdjnj \n"
     ]
    }
   ],
   "source": [
    "print(str)"
   ]
  },
  {
   "cell_type": "markdown",
   "id": "da7428a3-8372-4667-8593-9658601b3d4d",
   "metadata": {},
   "source": [
    "# Keywords\n",
    "Keywords are unique words used in programming to write the program they have predefined functions\n"
   ]
  },
  {
   "cell_type": "code",
   "execution_count": 41,
   "id": "794c3df4-1670-400e-b51e-1e377310dc2f",
   "metadata": {},
   "outputs": [
    {
     "name": "stdout",
     "output_type": "stream",
     "text": [
      "\n",
      "Here is a list of the Python keywords.  Enter any keyword to get more help.\n",
      "\n",
      "False               class               from                or\n",
      "None                continue            global              pass\n",
      "True                def                 if                  raise\n",
      "and                 del                 import              return\n",
      "as                  elif                in                  try\n",
      "assert              else                is                  while\n",
      "async               except              lambda              with\n",
      "await               finally             nonlocal            yield\n",
      "break               for                 not                 \n",
      "\n"
     ]
    }
   ],
   "source": [
    "help(\"keywords\")"
   ]
  },
  {
   "cell_type": "markdown",
   "id": "4904cf65-699d-4a80-aecb-2ecfde39d72a",
   "metadata": {},
   "source": [
    "# Operators\n"
   ]
  },
  {
   "cell_type": "markdown",
   "id": "07b69e85-2889-4be6-8bde-1b0f84936926",
   "metadata": {},
   "source": [
    "Operators are used to peform operations \n"
   ]
  },
  {
   "cell_type": "markdown",
   "id": "0cd211d4-bf33-441b-93fc-6a4a11e9d6c9",
   "metadata": {},
   "source": [
    "1) Arithemetic Operators\n",
    "2) Logical operators\n",
    "3) Relational operators\n",
    "4) MemberShip Operators\n",
    "5) Identiy operators"
   ]
  },
  {
   "cell_type": "markdown",
   "id": "82a16d65-c6e3-4356-b489-8db6f0385862",
   "metadata": {},
   "source": [
    "# Arithemetic Operators"
   ]
  },
  {
   "cell_type": "code",
   "execution_count": 43,
   "id": "aa552b65-fbf6-472d-bbfd-470718911c89",
   "metadata": {},
   "outputs": [
    {
     "name": "stdout",
     "output_type": "stream",
     "text": [
      "3\n",
      "5\n",
      "56\n",
      "1.1428571428571428\n",
      "1\n",
      "1\n",
      "8\n"
     ]
    }
   ],
   "source": [
    "print(1+2) # add\n",
    "print(8-3)#subract\n",
    "print(8*7) #multiply\n",
    "print(8/7) # divide\n",
    "print(8//7) # floor division\n",
    "print(8%7) # remainder\n",
    "print(2**3)#pow function"
   ]
  },
  {
   "cell_type": "markdown",
   "id": "8cf82df0-951f-4c6f-8b75-743ac830c3db",
   "metadata": {},
   "source": [
    "# Comparisonal Operators"
   ]
  },
  {
   "cell_type": "code",
   "execution_count": 44,
   "id": "b6bb4ba1-87a9-4508-979c-0d80568ec937",
   "metadata": {},
   "outputs": [
    {
     "data": {
      "text/plain": [
       "False"
      ]
     },
     "execution_count": 44,
     "metadata": {},
     "output_type": "execute_result"
    }
   ],
   "source": [
    "12 >= 13 # greater than or equal to "
   ]
  },
  {
   "cell_type": "code",
   "execution_count": 45,
   "id": "6fc45c2f-6d76-49be-b21b-b45f94324367",
   "metadata": {},
   "outputs": [
    {
     "data": {
      "text/plain": [
       "True"
      ]
     },
     "execution_count": 45,
     "metadata": {},
     "output_type": "execute_result"
    }
   ],
   "source": [
    "12 <= 13 # lesser than or equal to "
   ]
  },
  {
   "cell_type": "code",
   "execution_count": 46,
   "id": "ecd73776-21bd-4f12-b174-fa9b3ce53d6c",
   "metadata": {},
   "outputs": [
    {
     "data": {
      "text/plain": [
       "False"
      ]
     },
     "execution_count": 46,
     "metadata": {},
     "output_type": "execute_result"
    }
   ],
   "source": [
    "12 > 13 # greater than "
   ]
  },
  {
   "cell_type": "code",
   "execution_count": 47,
   "id": "8d5a48d1-c138-4cbc-9fad-8acf0d9c476a",
   "metadata": {},
   "outputs": [
    {
     "data": {
      "text/plain": [
       "False"
      ]
     },
     "execution_count": 47,
     "metadata": {},
     "output_type": "execute_result"
    }
   ],
   "source": [
    "12 > 13 # lesser than "
   ]
  },
  {
   "cell_type": "code",
   "execution_count": 48,
   "id": "3342a6f6-f64e-41fb-bc54-7d73ae96630d",
   "metadata": {},
   "outputs": [
    {
     "data": {
      "text/plain": [
       "True"
      ]
     },
     "execution_count": 48,
     "metadata": {},
     "output_type": "execute_result"
    }
   ],
   "source": [
    "13 == 13  # equal to"
   ]
  },
  {
   "cell_type": "code",
   "execution_count": 49,
   "id": "fa7605da-9402-4def-a4e4-4c7ebe4fb2cc",
   "metadata": {},
   "outputs": [
    {
     "data": {
      "text/plain": [
       "True"
      ]
     },
     "execution_count": 49,
     "metadata": {},
     "output_type": "execute_result"
    }
   ],
   "source": [
    "13 != 12 # not equal to"
   ]
  },
  {
   "cell_type": "markdown",
   "id": "1e0150d0-54fd-49c7-9674-93f2de98a214",
   "metadata": {},
   "source": [
    "# MemberShip Operators"
   ]
  },
  {
   "cell_type": "code",
   "execution_count": 51,
   "id": "d613cfd9-2d9e-4916-bd71-2024a6565ed1",
   "metadata": {},
   "outputs": [
    {
     "data": {
      "text/plain": [
       "True"
      ]
     },
     "execution_count": 51,
     "metadata": {},
     "output_type": "execute_result"
    }
   ],
   "source": [
    "# bith strings list in operator is used to check if presernt return true else false\n",
    "\"Hello\" in [\"Pokemon\",\"Hello\"]"
   ]
  },
  {
   "cell_type": "code",
   "execution_count": 52,
   "id": "ad9957fd-82c1-49ef-a907-9794c0b06614",
   "metadata": {},
   "outputs": [
    {
     "data": {
      "text/plain": [
       "True"
      ]
     },
     "execution_count": 52,
     "metadata": {},
     "output_type": "execute_result"
    }
   ],
   "source": [
    "\"Hello\" in \"Hello World\""
   ]
  },
  {
   "cell_type": "code",
   "execution_count": 53,
   "id": "c8efecc7-b7e5-4289-9896-b639a0b35bd3",
   "metadata": {},
   "outputs": [
    {
     "data": {
      "text/plain": [
       "False"
      ]
     },
     "execution_count": 53,
     "metadata": {},
     "output_type": "execute_result"
    }
   ],
   "source": [
    "# bith strings list not in operator is used to check if presernt return false else true\n",
    "\"Hello\" not in [\"Pokemon\",\"Hello\"]"
   ]
  },
  {
   "cell_type": "code",
   "execution_count": 54,
   "id": "6167128d-55a1-468d-ac1b-12fd9a535c5f",
   "metadata": {},
   "outputs": [
    {
     "data": {
      "text/plain": [
       "True"
      ]
     },
     "execution_count": 54,
     "metadata": {},
     "output_type": "execute_result"
    }
   ],
   "source": [
    "\"Hello\" not in \" World\""
   ]
  },
  {
   "cell_type": "markdown",
   "id": "d394ddba-c698-4e3d-a424-c7639572094b",
   "metadata": {},
   "source": [
    "# Writting Case of Programming Languages and Rules of identifiers"
   ]
  },
  {
   "cell_type": "markdown",
   "id": "063d78de-6320-4261-895a-73e6e57d06e4",
   "metadata": {},
   "source": [
    "1) Naming Convention is truely used in prgramming languages\n",
    "2) Camel case - letters like every word except first word starts with upper case\n",
    "3) Pascal Case -letters every word starts with uppercase\n",
    "4) snake Case - every words are connected by underscores"
   ]
  },
  {
   "cell_type": "code",
   "execution_count": 55,
   "id": "dce97563-68e1-427d-9aee-792b77820745",
   "metadata": {},
   "outputs": [],
   "source": [
    "name_of_student = \"Sylu\" # snake\n",
    "NameOfStudent = \"malu\" # pascal\n",
    "nameOfStudent = \"mallu\" # camel"
   ]
  },
  {
   "cell_type": "markdown",
   "id": "0e82510a-8f05-45f9-9fd8-5cde11e657e8",
   "metadata": {},
   "source": [
    "1) Rules Of identifiers it should not be keywords"
   ]
  },
  {
   "cell_type": "markdown",
   "id": "fc3ccf1c-f370-4383-b881-2fd4a24dabed",
   "metadata": {},
   "source": [
    "identifiers must not start with digits , it can only starts with letter or underscores\n"
   ]
  },
  {
   "cell_type": "markdown",
   "id": "ac8e2b1d-571a-4188-9f4c-8e7cd6130419",
   "metadata": {},
   "source": [
    "it can contain digits,letters,underscores"
   ]
  },
  {
   "cell_type": "markdown",
   "id": "4b1a1acc-a397-48b4-ae6c-0ba27c31b02b",
   "metadata": {},
   "source": [
    "# MemberShip Operators"
   ]
  },
  {
   "cell_type": "code",
   "execution_count": 2,
   "id": "e8022c66-150e-442d-ae4f-bd40152c516e",
   "metadata": {},
   "outputs": [
    {
     "data": {
      "text/plain": [
       "True"
      ]
     },
     "execution_count": 2,
     "metadata": {},
     "output_type": "execute_result"
    }
   ],
   "source": [
    "# is operator  for id(a) == id(b) if they are in same memory location or not\n",
    "x1 = 12\n",
    "x2 = 12\n",
    "x1 is x2"
   ]
  },
  {
   "cell_type": "code",
   "execution_count": 3,
   "id": "2c82538f-8842-4fca-b5a0-871c4c7ef33d",
   "metadata": {},
   "outputs": [
    {
     "data": {
      "text/plain": [
       "False"
      ]
     },
     "execution_count": 3,
     "metadata": {},
     "output_type": "execute_result"
    }
   ],
   "source": [
    "x1  is not x2"
   ]
  },
  {
   "cell_type": "markdown",
   "id": "cbbdfdf7-5023-42e4-9e99-d2a149318346",
   "metadata": {},
   "source": [
    " not is operator is used to determin whether two variabled are not in same memory locations return true else false\n"
   ]
  },
  {
   "cell_type": "markdown",
   "id": "2ada278f-9bdc-4080-82c2-e9376301d430",
   "metadata": {},
   "source": [
    "# Logical Operators"
   ]
  },
  {
   "cell_type": "code",
   "execution_count": 5,
   "id": "c9d91a78-14e7-441c-9bfd-4affc4f3ceda",
   "metadata": {},
   "outputs": [],
   "source": [
    "# and operator"
   ]
  },
  {
   "cell_type": "markdown",
   "id": "4a5c73b1-4ffc-4a01-935e-24df8b1bf565",
   "metadata": {},
   "source": [
    "And Operator is used when all conditions are true it returns true else false"
   ]
  },
  {
   "cell_type": "code",
   "execution_count": 6,
   "id": "3d44ca85-0730-44b4-87cd-b40662f374bf",
   "metadata": {},
   "outputs": [
    {
     "data": {
      "text/plain": [
       "True"
      ]
     },
     "execution_count": 6,
     "metadata": {},
     "output_type": "execute_result"
    }
   ],
   "source": [
    "number = 20\n",
    "number % 2 == 0 and number % 4 == 0"
   ]
  },
  {
   "cell_type": "code",
   "execution_count": 8,
   "id": "6e49b39f-871e-464f-b4e9-c93d464525c4",
   "metadata": {},
   "outputs": [
    {
     "data": {
      "text/plain": [
       "False"
      ]
     },
     "execution_count": 8,
     "metadata": {},
     "output_type": "execute_result"
    }
   ],
   "source": [
    "number % 3 == 0 and number % 2 == 0"
   ]
  },
  {
   "cell_type": "markdown",
   "id": "07d00251-ad2e-4c58-b1f5-a3abd194846e",
   "metadata": {},
   "source": [
    "Or operator is used when any one of the  condition is true it returns true else false"
   ]
  },
  {
   "cell_type": "code",
   "execution_count": 9,
   "id": "65a9635a-3736-470d-96d7-ab1872082b34",
   "metadata": {},
   "outputs": [
    {
     "data": {
      "text/plain": [
       "True"
      ]
     },
     "execution_count": 9,
     "metadata": {},
     "output_type": "execute_result"
    }
   ],
   "source": [
    "number % 2 == 0 or number % 5 ==0"
   ]
  },
  {
   "cell_type": "code",
   "execution_count": 12,
   "id": "7a6b989c-3421-40ae-aa2d-b3d634ebec60",
   "metadata": {},
   "outputs": [
    {
     "data": {
      "text/plain": [
       "False"
      ]
     },
     "execution_count": 12,
     "metadata": {},
     "output_type": "execute_result"
    }
   ],
   "source": [
    "number % 3 == 0 or number % 13 == 0"
   ]
  },
  {
   "cell_type": "markdown",
   "id": "62f2c793-371a-4529-83c6-58b1347fe4f8",
   "metadata": {},
   "source": [
    "not operator is used to tell if condition is true it returns false else return true\n"
   ]
  },
  {
   "cell_type": "code",
   "execution_count": 13,
   "id": "57fae488-7251-4dc6-8331-377ad9f6ee9f",
   "metadata": {},
   "outputs": [
    {
     "data": {
      "text/plain": [
       "False"
      ]
     },
     "execution_count": 13,
     "metadata": {},
     "output_type": "execute_result"
    }
   ],
   "source": [
    "not number % 5 == 0"
   ]
  },
  {
   "cell_type": "code",
   "execution_count": 14,
   "id": "5fcfa953-51e7-45aa-8395-0c4cf252bbf8",
   "metadata": {},
   "outputs": [
    {
     "data": {
      "text/plain": [
       "True"
      ]
     },
     "execution_count": 14,
     "metadata": {},
     "output_type": "execute_result"
    }
   ],
   "source": [
    "not number % 6 == 0"
   ]
  },
  {
   "cell_type": "markdown",
   "id": "ed664c57-57e7-438c-830f-184da94b4105",
   "metadata": {},
   "source": [
    "# Assignmnet Operator = "
   ]
  },
  {
   "cell_type": "code",
   "execution_count": 15,
   "id": "650f0e19-c7f4-4c1c-a517-59257693a91b",
   "metadata": {},
   "outputs": [
    {
     "name": "stdout",
     "output_type": "stream",
     "text": [
      "4\n"
     ]
    }
   ],
   "source": [
    "a = 2\n",
    "a+=2\n",
    "print(a) # a+=i is same as a = a + i"
   ]
  },
  {
   "cell_type": "code",
   "execution_count": 16,
   "id": "a445679f-0cbf-496e-8cbb-928211ed7356",
   "metadata": {},
   "outputs": [
    {
     "name": "stdout",
     "output_type": "stream",
     "text": [
      "8\n"
     ]
    }
   ],
   "source": [
    "a*=2\n",
    "print(a) # a*=i is same as a= a*i"
   ]
  },
  {
   "cell_type": "code",
   "execution_count": 17,
   "id": "bb516da2-000a-49d6-a49b-94fff50e5e7b",
   "metadata": {},
   "outputs": [
    {
     "name": "stdout",
     "output_type": "stream",
     "text": [
      "0\n"
     ]
    }
   ],
   "source": [
    "a%=2\n",
    "print(a) # a%=2 is same as a = a% 2"
   ]
  },
  {
   "cell_type": "markdown",
   "id": "5a476745-4ecc-46c2-9aa2-c8cb923b4994",
   "metadata": {},
   "source": [
    "# input function and Type Casting\n",
    "\n",
    "to take input and result always string so type casting is used\n"
   ]
  },
  {
   "cell_type": "code",
   "execution_count": 20,
   "id": "018020b2-a387-4d79-a58e-7ba43909bc91",
   "metadata": {},
   "outputs": [
    {
     "name": "stdout",
     "output_type": "stream",
     "text": [
      "Enter a variable 1\n"
     ]
    },
    {
     "name": "stdout",
     "output_type": "stream",
     "text": [
      "<class 'str'>\n"
     ]
    }
   ],
   "source": [
    "number = input(\"Enter a variable\")\n",
    "print(type(number))"
   ]
  },
  {
   "cell_type": "code",
   "execution_count": 22,
   "id": "5bbfb60b-c149-4d5e-9a1b-979536c2440d",
   "metadata": {},
   "outputs": [
    {
     "name": "stdout",
     "output_type": "stream",
     "text": [
      "<class 'str'> <class 'int'>\n"
     ]
    }
   ],
   "source": [
    "d = \"1233\"\n",
    "e = int(d)\n",
    "print(type(d),type(e))"
   ]
  },
  {
   "cell_type": "code",
   "execution_count": 23,
   "id": "97a00564-cb8f-4691-a4d5-39e884ca6900",
   "metadata": {},
   "outputs": [
    {
     "name": "stdout",
     "output_type": "stream",
     "text": [
      "<class 'float'>\n"
     ]
    }
   ],
   "source": [
    "f = float(d)\n",
    "print(type(f))"
   ]
  },
  {
   "cell_type": "code",
   "execution_count": 24,
   "id": "33022ad9-f1b9-4524-beea-40f9e0e577c2",
   "metadata": {},
   "outputs": [
    {
     "name": "stdout",
     "output_type": "stream",
     "text": [
      "1233 <class 'str'>\n"
     ]
    }
   ],
   "source": [
    "g = str(e)\n",
    "print(g,type(g))"
   ]
  },
  {
   "cell_type": "markdown",
   "id": "270027f4-be97-495b-a5f3-d67536812623",
   "metadata": {},
   "source": [
    "# Conditional Statements"
   ]
  },
  {
   "cell_type": "markdown",
   "id": "8acf0fea-bbe0-4723-8e28-ed14e6976b0d",
   "metadata": {},
   "source": [
    "conditional statements are used to check conditions in programming languages\n",
    "1) if\n",
    "2) if else\n",
    "3) if elif els\n",
    "4) Nested is"
   ]
  },
  {
   "cell_type": "code",
   "execution_count": 32,
   "id": "a075ad26-02df-43a9-88e1-d5fa167e38ee",
   "metadata": {},
   "outputs": [
    {
     "name": "stdout",
     "output_type": "stream",
     "text": [
      "Enter a number  123\n"
     ]
    },
    {
     "name": "stdout",
     "output_type": "stream",
     "text": [
      "Odd\n"
     ]
    }
   ],
   "source": [
    "num = int(input(\"Enter a number \"))\n",
    "if num % 2 == 0:\n",
    "    print(\"Even\")\n",
    "else:\n",
    "    print(\"Odd\")"
   ]
  },
  {
   "cell_type": "code",
   "execution_count": 33,
   "id": "09e74755-5218-48b9-811d-331c2b13c7f7",
   "metadata": {},
   "outputs": [
    {
     "name": "stdout",
     "output_type": "stream",
     "text": [
      "Positive\n"
     ]
    }
   ],
   "source": [
    "if num == 0:\n",
    "    print(\"Neutral\")\n",
    "elif num < 0:\n",
    "    print(\"Negaitve\")\n",
    "else:\n",
    "    print(\"Positive\")"
   ]
  },
  {
   "cell_type": "code",
   "execution_count": 34,
   "id": "af4236ce-7a0f-489b-8c7c-124509ef78e3",
   "metadata": {},
   "outputs": [
    {
     "name": "stdout",
     "output_type": "stream",
     "text": [
      "Enter a Year 2024\n"
     ]
    },
    {
     "name": "stdout",
     "output_type": "stream",
     "text": [
      "Leap Year\n"
     ]
    }
   ],
   "source": [
    "year = int(input(\"Enter a Year\"))\n",
    "if year % 400 == 0 or (year % 4 == 0 and year % 100 != 0):\n",
    "    print(\"Leap Year\")\n",
    "else:\n",
    "    print(\"Non-Leap\")"
   ]
  },
  {
   "cell_type": "code",
   "execution_count": 35,
   "id": "d7bf8601-c66c-40ce-9bef-fe90bcd651d0",
   "metadata": {},
   "outputs": [
    {
     "name": "stdout",
     "output_type": "stream",
     "text": [
      "Give Even Number\n"
     ]
    }
   ],
   "source": [
    "if num % 2 == 0:\n",
    "    if num % 3 == 0:\n",
    "        print(\"Divisble by 6 \")\n",
    "    else :\n",
    "        print(\"Indivisble by 6 \")\n",
    "else:\n",
    "    print(\"Give Even Number\")"
   ]
  },
  {
   "cell_type": "markdown",
   "id": "54dda6ab-3277-4225-a790-0b5cd4eeec14",
   "metadata": {},
   "source": [
    "# Looping Statements\n",
    "1) range() function\n",
    "2) for loop\n",
    "3) nested for loop\n",
    "4) while loop\n",
    "5) while loop with else\n",
    "6) for loop with else\n"
   ]
  },
  {
   "cell_type": "code",
   "execution_count": 37,
   "id": "54f4cb99-6d2a-4ea2-b5ec-81acf33c48a1",
   "metadata": {},
   "outputs": [
    {
     "data": {
      "text/plain": [
       "range(0, 5)"
      ]
     },
     "execution_count": 37,
     "metadata": {},
     "output_type": "execute_result"
    }
   ],
   "source": [
    "# range() function\n",
    "range(5) # range from o to n-1 when range(n)"
   ]
  },
  {
   "cell_type": "code",
   "execution_count": 38,
   "id": "1d2e6b6c-e092-4187-87eb-6daaae085b31",
   "metadata": {},
   "outputs": [
    {
     "data": {
      "text/plain": [
       "range(1, 5)"
      ]
     },
     "execution_count": 38,
     "metadata": {},
     "output_type": "execute_result"
    }
   ],
   "source": [
    "range(1,5) # range from 1 to n-1 when when range(a,b)"
   ]
  },
  {
   "cell_type": "code",
   "execution_count": 40,
   "id": "fb718b23-48b7-4f78-9f17-ed46e459db3f",
   "metadata": {},
   "outputs": [
    {
     "name": "stdout",
     "output_type": "stream",
     "text": [
      "0\n",
      "1\n",
      "2\n",
      "3\n",
      "4\n"
     ]
    }
   ],
   "source": [
    "for i in range(5):\n",
    "    print(i)"
   ]
  },
  {
   "cell_type": "code",
   "execution_count": 41,
   "id": "8772033c-a27c-4e2b-9d27-9414e98b24a2",
   "metadata": {},
   "outputs": [
    {
     "name": "stdout",
     "output_type": "stream",
     "text": [
      "2\n",
      "3\n",
      "4\n"
     ]
    }
   ],
   "source": [
    "for i in range(2,5):\n",
    "    print(i)"
   ]
  },
  {
   "cell_type": "code",
   "execution_count": 48,
   "id": "fcb402b8-e846-495d-b1af-2cef483985cc",
   "metadata": {},
   "outputs": [
    {
     "name": "stdout",
     "output_type": "stream",
     "text": [
      "Enter a Number 13\n"
     ]
    },
    {
     "name": "stdout",
     "output_type": "stream",
     "text": [
      "It is prime\n"
     ]
    }
   ],
   "source": [
    "# we are going to determine the prime or not\n",
    "number = int(input(\"Enter a Number\"))\n",
    "if number == 2 :\n",
    "    print(\"It is prime\")\n",
    "elif number <= 0:\n",
    "    print(\"Enter a valid input\")\n",
    "else :\n",
    "    isprime = True\n",
    "    for i in range(2,number):\n",
    "        if number % i == 0:\n",
    "            isprime = False\n",
    "            break;\n",
    "    if isprime:\n",
    "        print(\"It is prime\")\n",
    "    else:\n",
    "        print(\"Non-prime\")"
   ]
  },
  {
   "cell_type": "code",
   "execution_count": 54,
   "id": "fa2899de-80fe-4130-8b94-1fb2b7aa335f",
   "metadata": {},
   "outputs": [
    {
     "name": "stdout",
     "output_type": "stream",
     "text": [
      "Enter a Number 50\n"
     ]
    },
    {
     "name": "stdout",
     "output_type": "stream",
     "text": [
      "5\n"
     ]
    }
   ],
   "source": [
    "num = int(input(\"Enter a Number\"))\n",
    "rev = 0\n",
    "while num > 0:\n",
    "    rev = (rev * 10) + (num % 10)\n",
    "    num//=10\n",
    "print(rev)"
   ]
  },
  {
   "cell_type": "code",
   "execution_count": 61,
   "id": "997a7d9c",
   "metadata": {},
   "outputs": [
    {
     "name": "stdout",
     "output_type": "stream",
     "text": [
      "Enter a number : 100\n"
     ]
    },
    {
     "name": "stdout",
     "output_type": "stream",
     "text": [
      "2, 3, 5, 7, 11, 13, 17, 19, 23, 29, 31, 37, 41, 43, 47, 53, 59, 61, 67, 71, 73, 79, 83, 89, 97, "
     ]
    }
   ],
   "source": [
    "num = int(input(\"Enter a number :\"))\n",
    "for i in range(2,num+1):\n",
    "    isPrime = True\n",
    "    for j in range(2,i):\n",
    "        if i % j == 0:\n",
    "            isPrime = False\n",
    "            break\n",
    "    if isPrime:\n",
    "        print(i,end=\", \")\n",
    "    "
   ]
  },
  {
   "cell_type": "code",
   "execution_count": 64,
   "id": "dc51e2fd-252e-4743-86e3-34f0c99f5f2e",
   "metadata": {},
   "outputs": [
    {
     "name": "stdout",
     "output_type": "stream",
     "text": [
      "Enter a number: 12\n"
     ]
    },
    {
     "name": "stdout",
     "output_type": "stream",
     "text": [
      "12\n",
      "11\n",
      "10\n",
      "9\n",
      "8\n",
      "7\n",
      "6\n",
      "5\n",
      "4\n",
      "3\n",
      "2\n",
      "1\n",
      "0\n",
      "Now it is negative\n"
     ]
    }
   ],
   "source": [
    "num = int(input(\"Enter a number:\"))\n",
    "while num >= 0:\n",
    "    print(num)\n",
    "    num-=1\n",
    "else:\n",
    "    print(\"Now it is negative\")\n",
    "    "
   ]
  },
  {
   "cell_type": "code",
   "execution_count": 65,
   "id": "80ff26c6-8c74-46a5-8e3d-af45518a65a7",
   "metadata": {},
   "outputs": [
    {
     "name": "stdout",
     "output_type": "stream",
     "text": [
      "0\n",
      "1\n",
      "2\n",
      "3\n",
      "4\n",
      "5\n",
      "6\n",
      "7\n",
      "8\n",
      "9\n",
      "loop ends\n"
     ]
    }
   ],
   "source": [
    "for i in range(10):\n",
    "    print(i)\n",
    "else:\n",
    "    print(\"loop ends\")"
   ]
  },
  {
   "cell_type": "code",
   "execution_count": 70,
   "id": "00041a6a-4163-45ef-91f9-9595070c459d",
   "metadata": {},
   "outputs": [
    {
     "name": "stdout",
     "output_type": "stream",
     "text": [
      "Enter a number 153\n"
     ]
    },
    {
     "name": "stdout",
     "output_type": "stream",
     "text": [
      "Not Armstrong number\n"
     ]
    }
   ],
   "source": [
    "# Armstrong number\n",
    "num = int(input(\"Enter a number\"))\n",
    "n = str(num)\n",
    "length = len(n)\n",
    "rev = 0\n",
    "while num > 0:\n",
    "    rev =  rev + ((num%10)**length)\n",
    "    num//=10\n",
    "if rev == num:\n",
    "    print(\"Armstrong number\")\n",
    "else:\n",
    "    print(\"Not Armstrong number\")"
   ]
  },
  {
   "cell_type": "markdown",
   "id": "576c6e45-79bc-4a87-ab28-f0c505d847d0",
   "metadata": {},
   "source": [
    "# Break and Continue ,Pass Statement"
   ]
  },
  {
   "cell_type": "markdown",
   "id": "dfa1e1b3-ed42-4111-bd6a-e06b496a4b36",
   "metadata": {},
   "source": [
    "break statement is used to break the loops "
   ]
  },
  {
   "cell_type": "markdown",
   "id": "41572b61-8c62-4255-b370-1e7f3615deec",
   "metadata": {},
   "source": [
    "continue statement is used to skip the iteration"
   ]
  },
  {
   "cell_type": "markdown",
   "id": "0878f0c0-5cd6-40b7-9f90-93c0cef8d0f8",
   "metadata": {},
   "source": [
    "pass statements is used to pass the statements for syntax"
   ]
  },
  {
   "cell_type": "code",
   "execution_count": 71,
   "id": "c109d472-add1-4445-9f47-21fd9546cedb",
   "metadata": {},
   "outputs": [],
   "source": [
    "def func(a):\n",
    "    pass"
   ]
  },
  {
   "cell_type": "code",
   "execution_count": 72,
   "id": "8d9a7396-973e-42dc-b73e-62fd2ed1b2fb",
   "metadata": {},
   "outputs": [],
   "source": [
    "class Student:\n",
    "    pass"
   ]
  },
  {
   "cell_type": "markdown",
   "id": "4f12661b-a966-48ff-a7d3-2f887748552a",
   "metadata": {},
   "source": [
    "# Functions"
   ]
  },
  {
   "cell_type": "markdown",
   "id": "fb130f86-5da6-43ce-a25d-e4291ee0cb05",
   "metadata": {},
   "source": [
    "functions are block of reuasable codes"
   ]
  },
  {
   "cell_type": "markdown",
   "id": "bdbee679-4b07-48d6-97e4-00e7772d497e",
   "metadata": {},
   "source": [
    "1) default arguments -are passed arguments no worth fo arguments when calling function"
   ]
  },
  {
   "cell_type": "code",
   "execution_count": 73,
   "id": "e320292c-342b-4680-92cc-f3c9d2c63994",
   "metadata": {},
   "outputs": [
    {
     "name": "stdout",
     "output_type": "stream",
     "text": [
      "30\n"
     ]
    }
   ],
   "source": [
    "def add(a=10,b=20):\n",
    "    print(a+b)\n",
    "add()"
   ]
  },
  {
   "cell_type": "code",
   "execution_count": 76,
   "id": "a5834ee0-0e3d-4f75-9001-bfb82861e6bf",
   "metadata": {},
   "outputs": [
    {
     "name": "stdout",
     "output_type": "stream",
     "text": [
      "21\n"
     ]
    }
   ],
   "source": [
    "def add(a,b):\n",
    "    print(a+b)\n",
    "add(1,20)"
   ]
  },
  {
   "cell_type": "code",
   "execution_count": 80,
   "id": "841fa70a-95de-4fec-b337-c9a07765d139",
   "metadata": {},
   "outputs": [
    {
     "name": "stdout",
     "output_type": "stream",
     "text": [
      "88\n"
     ]
    }
   ],
   "source": [
    "def sub(a,b=100):\n",
    "    print(b-a)\n",
    "sub(12)"
   ]
  },
  {
   "cell_type": "markdown",
   "id": "38a15eaa-8dc8-45cd-b21c-591a0e9a59c1",
   "metadata": {},
   "source": [
    "1) once defined functions can be called at multiple times\n",
    "2) return values one or moe\n",
    "3) program can be broken down to numerous functions for better understand"
   ]
  },
  {
   "cell_type": "markdown",
   "id": "b177e544-2da3-4be6-b3ff-f28aad4494ab",
   "metadata": {},
   "source": [
    "1) keyword def is used as catchphrase\n",
    "2) function name - name of function\n",
    "3) arguments - to pass values\n",
    "4) () function header's end"
   ]
  },
  {
   "cell_type": "markdown",
   "id": "0e54aea5-5f98-4f64-b333-8ee09cd171e0",
   "metadata": {},
   "source": [
    "keyword arguments - client must tell what argument by using keyword\n"
   ]
  },
  {
   "cell_type": "code",
   "execution_count": 7,
   "id": "201f88a5-6891-4d37-bac7-d26c1a23f08f",
   "metadata": {},
   "outputs": [
    {
     "name": "stdout",
     "output_type": "stream",
     "text": [
      "23 34\n",
      "23 34\n"
     ]
    }
   ],
   "source": [
    "def printNumber(n1,n2):\n",
    "    print(n1,n2);\n",
    "printNumber(23,34)\n",
    "printNumber(n2=34,n1=23)"
   ]
  },
  {
   "cell_type": "markdown",
   "id": "48ea16cb-adf5-40d7-9243-68dc7c4da570",
   "metadata": {},
   "source": [
    "varible length arguments - varys with length of arguments\n",
    "1)  tells about list (*)\n",
    "2)  tells about dict (**)\n"
   ]
  },
  {
   "cell_type": "code",
   "execution_count": 8,
   "id": "8ef238a6-33a6-418f-85b6-7f6a7a689ca6",
   "metadata": {},
   "outputs": [
    {
     "name": "stdout",
     "output_type": "stream",
     "text": [
      "(0, 9, 87)\n"
     ]
    }
   ],
   "source": [
    "def printList(*list):\n",
    "    print(list)\n",
    "printList(0,9,87)"
   ]
  },
  {
   "cell_type": "code",
   "execution_count": 19,
   "id": "324d4a78-5e16-4766-ab3d-cedc836bf5d9",
   "metadata": {},
   "outputs": [],
   "source": [
    "def printDict(**f):\n",
    "    for key,value in f.items():\n",
    "        print(key,\"=\",value)\n"
   ]
  },
  {
   "cell_type": "code",
   "execution_count": 20,
   "id": "28018351-a8a7-4ae5-83fd-f7b6a0f9714b",
   "metadata": {},
   "outputs": [
    {
     "name": "stdout",
     "output_type": "stream",
     "text": [
      "name = ThiruMurugan\n",
      "age = 18\n",
      "gender = Male\n"
     ]
    }
   ],
   "source": [
    "printDict(name=\"ThiruMurugan\", age=18, gender=\"Male\")"
   ]
  },
  {
   "cell_type": "code",
   "execution_count": 35,
   "id": "89858583-c700-4c96-b63a-5fb5fdb7e6e1",
   "metadata": {},
   "outputs": [
    {
     "name": "stdout",
     "output_type": "stream",
     "text": [
      "Found at  4\n"
     ]
    }
   ],
   "source": [
    "# return statement\n",
    "list = [1,2,3,4,5]\n",
    "def BinarySearchAlgorithm(l,data):\n",
    "    left = 0\n",
    "    right = len(l)-1\n",
    "    while left <= right:\n",
    "        mid = left + (right-left)//2\n",
    "        if l[mid] == data:\n",
    "            return mid\n",
    "        elif l[mid] > data:\n",
    "            right = mid -1\n",
    "        else:\n",
    "            left = mid +1\n",
    "    return -1\n",
    "ans =BinarySearchAlgorithm(list,data = 5)\n",
    "if ans == -1:\n",
    "    print(\"Not Found\")\n",
    "else:\n",
    "    print(\"Found at \",ans)\n",
    "    "
   ]
  },
  {
   "cell_type": "code",
   "execution_count": 36,
   "id": "fd6782ec-8169-4de2-8098-532bfd6596d0",
   "metadata": {},
   "outputs": [],
   "source": [
    "# Tommorrow Scope and Life time of variables functions recap ,list,string "
   ]
  },
  {
   "cell_type": "markdown",
   "id": "77abcd9e-76ac-4fe9-894e-d80882c1418b",
   "metadata": {},
   "source": [
    "# Strings"
   ]
  },
  {
   "cell_type": "markdown",
   "id": "62fc6d6e-7531-4ea5-954e-73424158e6f9",
   "metadata": {},
   "source": [
    "Strings are sequence of characters which are enclosed by double quotes or single auotes"
   ]
  },
  {
   "cell_type": "markdown",
   "id": "d4aaaace-5724-41a8-8c3d-947fd817aa3e",
   "metadata": {},
   "source": [
    "Multiline strings are enclosed with triple qoutes while single line strings enclosed with single or double auotes"
   ]
  },
  {
   "cell_type": "code",
   "execution_count": 1,
   "id": "cf67aea3-3d0b-458e-b71b-c72dbca99abe",
   "metadata": {},
   "outputs": [],
   "source": [
    "name = \"Thiru\"\n",
    "street = 'street'\n",
    "desc = \"\"\" Hello\n",
    "Here this is sample description\"\"\"\n",
    "f =  '''pokemon\n",
    "is his favorite '''"
   ]
  },
  {
   "cell_type": "code",
   "execution_count": 4,
   "id": "86e4ed54-a8b2-4671-b3da-7a929142237b",
   "metadata": {},
   "outputs": [
    {
     "name": "stdout",
     "output_type": "stream",
     "text": [
      "Thiru\n",
      "street\n",
      " Hello\n",
      "Here this is sample description\n",
      "pokemon\n",
      "is his favorite \n"
     ]
    }
   ],
   "source": [
    "print(name,street,desc,f,sep=\"\\n\")"
   ]
  },
  {
   "cell_type": "markdown",
   "id": "2b197c36-0f45-4d97-9d1e-951f35a63df5",
   "metadata": {},
   "source": [
    "# String slicing\n",
    "string slcing is used to make substrings"
   ]
  },
  {
   "cell_type": "code",
   "execution_count": 7,
   "id": "88206556-dc5a-46f6-95ac-91035744898e",
   "metadata": {},
   "outputs": [
    {
     "name": "stdout",
     "output_type": "stream",
     "text": [
      "iru\n"
     ]
    }
   ],
   "source": [
    "print(name[2:]) # starts from a to len(str)-1 when str[a:]"
   ]
  },
  {
   "cell_type": "code",
   "execution_count": 9,
   "id": "b8625ecd-aeba-4eac-a3c1-62d207219784",
   "metadata": {},
   "outputs": [
    {
     "name": "stdout",
     "output_type": "stream",
     "text": [
      "Thi\n"
     ]
    }
   ],
   "source": [
    "print(name[:3]) # starts from 0 to b-1 when str[:b]"
   ]
  },
  {
   "cell_type": "code",
   "execution_count": 10,
   "id": "7b843766-7054-4b64-b977-785cf8380e16",
   "metadata": {},
   "outputs": [
    {
     "name": "stdout",
     "output_type": "stream",
     "text": [
      "Thiru\n"
     ]
    }
   ],
   "source": [
    "print(name[:])# starts from 0 to len(str)-1"
   ]
  },
  {
   "cell_type": "code",
   "execution_count": 11,
   "id": "bf0e9a91-089a-49ed-9be8-64631acdb3ac",
   "metadata": {},
   "outputs": [
    {
     "name": "stdout",
     "output_type": "stream",
     "text": [
      "ir\n"
     ]
    }
   ],
   "source": [
    "print(name[2:4]) # starts from a to b-1 when a to b-1"
   ]
  },
  {
   "cell_type": "markdown",
   "id": "9dafc2fb-4fc7-432f-bbc3-c7181498f1c7",
   "metadata": {},
   "source": [
    "# Negaitve indexing of Strings"
   ]
  },
  {
   "cell_type": "code",
   "execution_count": 12,
   "id": "558cc788-1368-4832-ad86-4ea4c694529c",
   "metadata": {},
   "outputs": [
    {
     "name": "stdout",
     "output_type": "stream",
     "text": [
      "P\n",
      "n\n"
     ]
    }
   ],
   "source": [
    "example = \"Pokemon\"\n",
    "print(example[0])\n",
    "print(example[-1])"
   ]
  },
  {
   "cell_type": "code",
   "execution_count": 15,
   "id": "c7404e20-a9dc-4d88-8549-ef379c6ac2bb",
   "metadata": {},
   "outputs": [
    {
     "name": "stdout",
     "output_type": "stream",
     "text": [
      "n\n"
     ]
    }
   ],
   "source": [
    "print(example[len(example)-1])"
   ]
  },
  {
   "cell_type": "code",
   "execution_count": 16,
   "id": "991a088e-0483-44f0-8a63-f0b5c0f31e04",
   "metadata": {},
   "outputs": [
    {
     "name": "stdout",
     "output_type": "stream",
     "text": [
      "P\n"
     ]
    }
   ],
   "source": [
    "print(example[-len(example)])"
   ]
  },
  {
   "cell_type": "code",
   "execution_count": 17,
   "id": "77ea3dce-e527-4c46-a559-3c35ff3dc104",
   "metadata": {},
   "outputs": [],
   "source": [
    "# positive index from 0 to len(str)-1\n",
    "# negative index from -1 to - len(str)"
   ]
  },
  {
   "cell_type": "code",
   "execution_count": 18,
   "id": "8cf17b6d-d3bb-4f83-9b3d-1321139f9eaf",
   "metadata": {},
   "outputs": [
    {
     "name": "stdout",
     "output_type": "stream",
     "text": [
      "u\n"
     ]
    }
   ],
   "source": [
    "print(name[-1:])"
   ]
  },
  {
   "cell_type": "code",
   "execution_count": 21,
   "id": "a6c32b77-bb79-40cb-834f-6f7c835f0939",
   "metadata": {},
   "outputs": [
    {
     "name": "stdout",
     "output_type": "stream",
     "text": [
      "ir\n"
     ]
    }
   ],
   "source": [
    "print(name[-3:-1])"
   ]
  },
  {
   "cell_type": "code",
   "execution_count": 22,
   "id": "5cd63594-8759-4eae-9d80-6cf662f1964b",
   "metadata": {},
   "outputs": [],
   "source": [
    "# Jump is postive when traversal of string from left to right"
   ]
  },
  {
   "cell_type": "code",
   "execution_count": 28,
   "id": "7e614d5b-0d80-4e07-b111-d515b592d679",
   "metadata": {},
   "outputs": [
    {
     "name": "stdout",
     "output_type": "stream",
     "text": [
      "nmk\n"
     ]
    }
   ],
   "source": [
    "print(example[-1:-6:-2])"
   ]
  },
  {
   "cell_type": "markdown",
   "id": "91fb239c-810b-4796-8727-353f0fde371b",
   "metadata": {},
   "source": [
    "# printing reverse of string\n",
    "print(name[len(example)::-1])"
   ]
  },
  {
   "cell_type": "code",
   "execution_count": 42,
   "id": "9e6151b7-459c-46b8-8104-c5b697c32387",
   "metadata": {},
   "outputs": [
    {
     "name": "stdout",
     "output_type": "stream",
     "text": [
      "Thiru\n"
     ]
    }
   ],
   "source": [
    "print(name[-len(example)::1])"
   ]
  },
  {
   "cell_type": "markdown",
   "id": "18af04c3-13f2-4695-bc20-f182d14f10b2",
   "metadata": {},
   "source": [
    "# String methods "
   ]
  },
  {
   "cell_type": "code",
   "execution_count": 1,
   "id": "db000958-805b-4e1c-ad2a-106543e71033",
   "metadata": {},
   "outputs": [],
   "source": [
    "str = \"ThiruMurugan\"\n",
    "\n"
   ]
  },
  {
   "cell_type": "markdown",
   "id": "ae1ae56a-bdd7-4449-b966-46e36a192d23",
   "metadata": {},
   "source": [
    "printing upper ,lower,swap case"
   ]
  },
  {
   "cell_type": "code",
   "execution_count": 2,
   "id": "6d18dd1f-b914-4d71-9564-fc3b633264f3",
   "metadata": {},
   "outputs": [
    {
     "name": "stdout",
     "output_type": "stream",
     "text": [
      "THIRUMURUGAN\n",
      "thirumurugan\n",
      "tHIRUmURUGAN\n"
     ]
    }
   ],
   "source": [
    "print(str.upper()) # upper case\n",
    "print(str.lower()) # lower case\n",
    "print(str.swapcase()) # swwap case"
   ]
  },
  {
   "cell_type": "code",
   "execution_count": 3,
   "id": "d024881f-058f-4dfd-a852-bc0fc3dd3d5c",
   "metadata": {},
   "outputs": [],
   "source": [
    "str = \"she is good girl\"\n"
   ]
  },
  {
   "cell_type": "markdown",
   "id": "d0bf0c3a-fa90-41b5-b8c1-ccf1614987bd",
   "metadata": {},
   "source": [
    "captialize and title "
   ]
  },
  {
   "cell_type": "code",
   "execution_count": 5,
   "id": "8249f590-262f-47a4-a92d-293f769b0217",
   "metadata": {},
   "outputs": [
    {
     "name": "stdout",
     "output_type": "stream",
     "text": [
      "She is good girl\n",
      "She Is Good Girl\n"
     ]
    }
   ],
   "source": [
    "print(str.capitalize()) # captialize\n",
    "print(str.title()) # captialize every first word"
   ]
  },
  {
   "cell_type": "code",
   "execution_count": 6,
   "id": "c8520519-d6a8-40f9-a359-a55a81947ee2",
   "metadata": {},
   "outputs": [
    {
     "name": "stdout",
     "output_type": "stream",
     "text": [
      "False\n",
      "True\n",
      "False\n"
     ]
    }
   ],
   "source": [
    "print(str.isupper())\n",
    "print(str.islower())\n",
    "print(str.istitle())"
   ]
  },
  {
   "cell_type": "code",
   "execution_count": 7,
   "id": "1b906d9f-b3b7-497e-83f9-fa70a4282780",
   "metadata": {},
   "outputs": [
    {
     "name": "stdout",
     "output_type": "stream",
     "text": [
      "['she', 'is', 'good', 'girl']\n"
     ]
    }
   ],
   "source": [
    "print(str.split()) # split"
   ]
  },
  {
   "cell_type": "code",
   "execution_count": 9,
   "id": "e344165a-99b5-4feb-b7aa-4bf9f1e34a88",
   "metadata": {},
   "outputs": [
    {
     "name": "stdout",
     "output_type": "stream",
     "text": [
      "she?is?good?girl\n"
     ]
    }
   ],
   "source": [
    "print(str.replace(\" \",\"?\")) # replace"
   ]
  },
  {
   "cell_type": "code",
   "execution_count": 10,
   "id": "7768565f-52d1-40e0-bcf2-75a1402a07f9",
   "metadata": {},
   "outputs": [
    {
     "name": "stdout",
     "output_type": "stream",
     "text": [
      "False\n"
     ]
    }
   ],
   "source": [
    "print(str.isalpha())"
   ]
  },
  {
   "cell_type": "code",
   "execution_count": 11,
   "id": "0fa81800-174e-4134-9863-f18c3bf450aa",
   "metadata": {},
   "outputs": [
    {
     "name": "stdout",
     "output_type": "stream",
     "text": [
      "False\n"
     ]
    }
   ],
   "source": [
    "print(str.isdigit()) # digit or not"
   ]
  },
  {
   "cell_type": "code",
   "execution_count": 12,
   "id": "647c8edd-ced2-403d-b5cb-3c59661e37c7",
   "metadata": {},
   "outputs": [
    {
     "name": "stdout",
     "output_type": "stream",
     "text": [
      "True\n"
     ]
    }
   ],
   "source": [
    "print(\"123\".isdigit())"
   ]
  },
  {
   "cell_type": "code",
   "execution_count": 13,
   "id": "c4fa85fd-796c-4f71-872a-e8c27f73cb8e",
   "metadata": {},
   "outputs": [
    {
     "name": "stdout",
     "output_type": "stream",
     "text": [
      "True\n"
     ]
    }
   ],
   "source": [
    "print(\"qwerty\".isalpha())"
   ]
  },
  {
   "cell_type": "code",
   "execution_count": 14,
   "id": "6dae7a3f-9793-4aa5-b275-88b5911ea539",
   "metadata": {},
   "outputs": [
    {
     "name": "stdout",
     "output_type": "stream",
     "text": [
      "True\n"
     ]
    }
   ],
   "source": [
    "print(\" \".isspace()) # space"
   ]
  },
  {
   "cell_type": "markdown",
   "id": "567a32ec-f5b4-4665-85bd-43bb2c84268b",
   "metadata": {},
   "source": [
    "startswith,endswith"
   ]
  },
  {
   "cell_type": "code",
   "execution_count": 15,
   "id": "f1a46c72-7483-4f36-b7a7-3edd0a449766",
   "metadata": {},
   "outputs": [
    {
     "name": "stdout",
     "output_type": "stream",
     "text": [
      "True\n"
     ]
    }
   ],
   "source": [
    "print(str.startswith(\"s\"))"
   ]
  },
  {
   "cell_type": "code",
   "execution_count": 16,
   "id": "7386d6f7-9d50-4c40-ac29-39e369de4e3d",
   "metadata": {},
   "outputs": [
    {
     "name": "stdout",
     "output_type": "stream",
     "text": [
      "True\n"
     ]
    }
   ],
   "source": [
    "print(str.endswith(\"l\"))"
   ]
  },
  {
   "cell_type": "code",
   "execution_count": 17,
   "id": "985442c4-e8ce-4db4-90e9-ab4b9a36a851",
   "metadata": {},
   "outputs": [
    {
     "name": "stdout",
     "output_type": "stream",
     "text": [
      "0\n"
     ]
    }
   ],
   "source": [
    "print(str.count(\"hello\"))"
   ]
  },
  {
   "cell_type": "code",
   "execution_count": 22,
   "id": "8475200f-8978-461c-b00d-908439e4dd8a",
   "metadata": {},
   "outputs": [
    {
     "ename": "ValueError",
     "evalue": "substring not found",
     "output_type": "error",
     "traceback": [
      "\u001b[1;31m---------------------------------------------------------------------------\u001b[0m",
      "\u001b[1;31mValueError\u001b[0m                                Traceback (most recent call last)",
      "Cell \u001b[1;32mIn[22], line 1\u001b[0m\n\u001b[1;32m----> 1\u001b[0m \u001b[38;5;28mprint\u001b[39m(\u001b[38;5;28;43mstr\u001b[39;49m\u001b[38;5;241;43m.\u001b[39;49m\u001b[43mindex\u001b[49m\u001b[43m(\u001b[49m\u001b[38;5;124;43m\"\u001b[39;49m\u001b[38;5;124;43msdf\u001b[39;49m\u001b[38;5;124;43m\"\u001b[39;49m\u001b[43m)\u001b[49m)\n",
      "\u001b[1;31mValueError\u001b[0m: substring not found"
     ]
    }
   ],
   "source": [
    "print(str.index(\"sdf\"))"
   ]
  },
  {
   "cell_type": "code",
   "execution_count": 23,
   "id": "8607777d-8a8c-41f8-a9f5-6e126ee15d2a",
   "metadata": {},
   "outputs": [
    {
     "name": "stdout",
     "output_type": "stream",
     "text": [
      "0\n"
     ]
    }
   ],
   "source": [
    "print(str.index(\"s\"))"
   ]
  },
  {
   "cell_type": "code",
   "execution_count": 24,
   "id": "fce3d457-f86f-4ea9-b0bc-67c3b07745c7",
   "metadata": {},
   "outputs": [
    {
     "name": "stdout",
     "output_type": "stream",
     "text": [
      "-1\n"
     ]
    }
   ],
   "source": [
    "print(str.find(\"sdf\"))"
   ]
  },
  {
   "cell_type": "code",
   "execution_count": 25,
   "id": "45bd0b13-481d-41e3-89e7-12eb645df660",
   "metadata": {},
   "outputs": [
    {
     "name": "stdout",
     "output_type": "stream",
     "text": [
      "0\n"
     ]
    }
   ],
   "source": [
    "print(str.find(\"s\"))"
   ]
  },
  {
   "cell_type": "code",
   "execution_count": 27,
   "id": "96f5cb01-3e31-42aa-a53a-656ba4d7317a",
   "metadata": {},
   "outputs": [
    {
     "name": "stdout",
     "output_type": "stream",
     "text": [
      "Hello World\n"
     ]
    }
   ],
   "source": [
    "list = [\"Hello\",\"World\"]\n",
    "s = \" \".join(list)\n",
    "print(s)"
   ]
  },
  {
   "cell_type": "code",
   "execution_count": 28,
   "id": "da35dda1-2f28-4832-b87d-d711f42974e0",
   "metadata": {},
   "outputs": [
    {
     "name": "stdout",
     "output_type": "stream",
     "text": [
      "she is good girl\n"
     ]
    }
   ],
   "source": [
    "print(str.strip(\"!\")) # strip "
   ]
  },
  {
   "cell_type": "code",
   "execution_count": 4,
   "id": "2058cad4-bee4-4b9f-acd8-446185149a97",
   "metadata": {},
   "outputs": [
    {
     "name": "stdout",
     "output_type": "stream",
     "text": [
      "True\n"
     ]
    }
   ],
   "source": [
    "str=\"123al\"\n",
    "print(str.isalnum())"
   ]
  },
  {
   "cell_type": "code",
   "execution_count": 6,
   "id": "eef3cea8-a450-409b-9ae7-9b444816e7ea",
   "metadata": {},
   "outputs": [
    {
     "name": "stdout",
     "output_type": "stream",
     "text": [
      "True\n"
     ]
    }
   ],
   "source": [
    "print(str.startswith(\"2\",1))"
   ]
  },
  {
   "cell_type": "code",
   "execution_count": 11,
   "id": "7c31d79d-906d-4f67-a539-354be272f43d",
   "metadata": {},
   "outputs": [
    {
     "name": "stdout",
     "output_type": "stream",
     "text": [
      "False\n"
     ]
    }
   ],
   "source": [
    "print(str.endswith(\"l\",2,3))"
   ]
  },
  {
   "cell_type": "code",
   "execution_count": 9,
   "id": "8b2dcdfb-fdc2-4b67-9019-1700f26d9d2b",
   "metadata": {},
   "outputs": [
    {
     "name": "stdout",
     "output_type": "stream",
     "text": [
      "\u001b[1;31mSignature:\u001b[0m \u001b[0mstr\u001b[0m\u001b[1;33m.\u001b[0m\u001b[0mreplace\u001b[0m\u001b[1;33m(\u001b[0m\u001b[0mself\u001b[0m\u001b[1;33m,\u001b[0m \u001b[0mold\u001b[0m\u001b[1;33m,\u001b[0m \u001b[0mnew\u001b[0m\u001b[1;33m,\u001b[0m \u001b[0mcount\u001b[0m\u001b[1;33m=\u001b[0m\u001b[1;33m-\u001b[0m\u001b[1;36m1\u001b[0m\u001b[1;33m,\u001b[0m \u001b[1;33m/\u001b[0m\u001b[1;33m)\u001b[0m\u001b[1;33m\u001b[0m\u001b[1;33m\u001b[0m\u001b[0m\n",
      "\u001b[1;31mDocstring:\u001b[0m\n",
      "Return a copy with all occurrences of substring old replaced by new.\n",
      "\n",
      "  count\n",
      "    Maximum number of occurrences to replace.\n",
      "    -1 (the default value) means replace all occurrences.\n",
      "\n",
      "If the optional argument count is given, only the first count occurrences are\n",
      "replaced.\n",
      "\u001b[1;31mType:\u001b[0m      method_descriptor"
     ]
    }
   ],
   "source": [
    "str.replace??\n"
   ]
  },
  {
   "cell_type": "code",
   "execution_count": 14,
   "id": "e2318952-34b5-4a92-97a5-0450821637c4",
   "metadata": {},
   "outputs": [
    {
     "data": {
      "text/plain": [
       "\u001b[1;31mSignature:\u001b[0m \u001b[0mstr\u001b[0m\u001b[1;33m.\u001b[0m\u001b[0mupper\u001b[0m\u001b[1;33m(\u001b[0m\u001b[1;33m)\u001b[0m\u001b[1;33m\u001b[0m\u001b[1;33m\u001b[0m\u001b[0m\n",
       "\u001b[1;31mDocstring:\u001b[0m Return a copy of the string converted to uppercase.\n",
       "\u001b[1;31mType:\u001b[0m      builtin_function_or_method"
      ]
     },
     "metadata": {},
     "output_type": "display_data"
    }
   ],
   "source": [
    "str.upper??"
   ]
  },
  {
   "cell_type": "code",
   "execution_count": 15,
   "id": "0c9ef9bd-1c2a-472f-81c4-9933afbcb587",
   "metadata": {},
   "outputs": [
    {
     "data": {
      "text/plain": [
       "\u001b[1;31mSignature:\u001b[0m \u001b[0mstr\u001b[0m\u001b[1;33m.\u001b[0m\u001b[0mlower\u001b[0m\u001b[1;33m(\u001b[0m\u001b[1;33m)\u001b[0m\u001b[1;33m\u001b[0m\u001b[1;33m\u001b[0m\u001b[0m\n",
       "\u001b[1;31mDocstring:\u001b[0m Return a copy of the string converted to lowercase.\n",
       "\u001b[1;31mType:\u001b[0m      builtin_function_or_method"
      ]
     },
     "metadata": {},
     "output_type": "display_data"
    }
   ],
   "source": [
    "str.lower??"
   ]
  },
  {
   "cell_type": "code",
   "execution_count": 16,
   "id": "a22815f9-b6a5-4019-8af6-8a974e7c64a2",
   "metadata": {},
   "outputs": [
    {
     "data": {
      "text/plain": [
       "\u001b[1;31mSignature:\u001b[0m \u001b[0mstr\u001b[0m\u001b[1;33m.\u001b[0m\u001b[0mstrip\u001b[0m\u001b[1;33m(\u001b[0m\u001b[0mchars\u001b[0m\u001b[1;33m=\u001b[0m\u001b[1;32mNone\u001b[0m\u001b[1;33m,\u001b[0m \u001b[1;33m/\u001b[0m\u001b[1;33m)\u001b[0m\u001b[1;33m\u001b[0m\u001b[1;33m\u001b[0m\u001b[0m\n",
       "\u001b[1;31mDocstring:\u001b[0m\n",
       "Return a copy of the string with leading and trailing whitespace removed.\n",
       "\n",
       "If chars is given and not None, remove characters in chars instead.\n",
       "\u001b[1;31mType:\u001b[0m      builtin_function_or_method"
      ]
     },
     "metadata": {},
     "output_type": "display_data"
    }
   ],
   "source": [
    "str.strip??"
   ]
  },
  {
   "cell_type": "code",
   "execution_count": 17,
   "id": "b0c5cc42-0b52-4a97-a312-958c4bd44024",
   "metadata": {},
   "outputs": [
    {
     "data": {
      "text/plain": [
       "\u001b[1;31mSignature:\u001b[0m \u001b[0mstr\u001b[0m\u001b[1;33m.\u001b[0m\u001b[0mrstrip\u001b[0m\u001b[1;33m(\u001b[0m\u001b[0mchars\u001b[0m\u001b[1;33m=\u001b[0m\u001b[1;32mNone\u001b[0m\u001b[1;33m,\u001b[0m \u001b[1;33m/\u001b[0m\u001b[1;33m)\u001b[0m\u001b[1;33m\u001b[0m\u001b[1;33m\u001b[0m\u001b[0m\n",
       "\u001b[1;31mDocstring:\u001b[0m\n",
       "Return a copy of the string with trailing whitespace removed.\n",
       "\n",
       "If chars is given and not None, remove characters in chars instead.\n",
       "\u001b[1;31mType:\u001b[0m      builtin_function_or_method"
      ]
     },
     "metadata": {},
     "output_type": "display_data"
    }
   ],
   "source": [
    "str.rstrip??"
   ]
  },
  {
   "cell_type": "code",
   "execution_count": 18,
   "id": "ea401e9c-0043-49d4-8cea-306f90a34ac8",
   "metadata": {},
   "outputs": [
    {
     "data": {
      "text/plain": [
       "\u001b[1;31mDocstring:\u001b[0m\n",
       "S.index(sub[, start[, end]]) -> int\n",
       "\n",
       "Return the lowest index in S where substring sub is found,\n",
       "such that sub is contained within S[start:end].  Optional\n",
       "arguments start and end are interpreted as in slice notation.\n",
       "\n",
       "Raises ValueError when the substring is not found.\n",
       "\u001b[1;31mType:\u001b[0m      builtin_function_or_method"
      ]
     },
     "metadata": {},
     "output_type": "display_data"
    }
   ],
   "source": [
    "str.index??"
   ]
  },
  {
   "cell_type": "code",
   "execution_count": 19,
   "id": "8757a674-1a45-4ba5-ad25-a76046259678",
   "metadata": {},
   "outputs": [
    {
     "data": {
      "text/plain": [
       "\u001b[1;31mDocstring:\u001b[0m\n",
       "S.find(sub[, start[, end]]) -> int\n",
       "\n",
       "Return the lowest index in S where substring sub is found,\n",
       "such that sub is contained within S[start:end].  Optional\n",
       "arguments start and end are interpreted as in slice notation.\n",
       "\n",
       "Return -1 on failure.\n",
       "\u001b[1;31mType:\u001b[0m      builtin_function_or_method"
      ]
     },
     "metadata": {},
     "output_type": "display_data"
    }
   ],
   "source": [
    "str.find??"
   ]
  },
  {
   "cell_type": "code",
   "execution_count": 20,
   "id": "f6d2e778-23f8-48d9-b536-3d8c6ebc1031",
   "metadata": {},
   "outputs": [
    {
     "data": {
      "text/plain": [
       "\u001b[1;31mDocstring:\u001b[0m\n",
       "S.count(sub[, start[, end]]) -> int\n",
       "\n",
       "Return the number of non-overlapping occurrences of substring sub in\n",
       "string S[start:end].  Optional arguments start and end are\n",
       "interpreted as in slice notation.\n",
       "\u001b[1;31mType:\u001b[0m      builtin_function_or_method"
      ]
     },
     "metadata": {},
     "output_type": "display_data"
    }
   ],
   "source": [
    "str.count??"
   ]
  },
  {
   "cell_type": "markdown",
   "id": "11a374f2-9966-4eed-8a6f-0323711cd6ae",
   "metadata": {},
   "source": [
    "# String problems"
   ]
  },
  {
   "cell_type": "code",
   "execution_count": 2,
   "id": "b1707781-8caa-47a2-9830-4cc6a3f25c14",
   "metadata": {},
   "outputs": [
    {
     "name": "stdout",
     "output_type": "stream",
     "text": [
      "2\n"
     ]
    }
   ],
   "source": [
    "str = \"abababa\"\n",
    "match = \"abab\"\n",
    "count = 0\n",
    "for i in range(len(str)):\n",
    "    if str[i:i+len(match)] == match:\n",
    "        count+=1\n",
    "print(count)"
   ]
  },
  {
   "cell_type": "markdown",
   "id": "3c744709-891a-4170-9c0f-f51d97a995cd",
   "metadata": {},
   "source": [
    "# Lists\n"
   ]
  },
  {
   "cell_type": "markdown",
   "id": "b8038b02-d0d4-416b-9070-451be802fb8f",
   "metadata": {},
   "source": [
    "List is datastructure in python it is just ordered collection of data"
   ]
  },
  {
   "cell_type": "code",
   "execution_count": 3,
   "id": "425a7db1-eb4f-4b74-9eab-2927734c4294",
   "metadata": {},
   "outputs": [],
   "source": [
    "list = [1,True,\"str\",12.00]"
   ]
  },
  {
   "cell_type": "code",
   "execution_count": 4,
   "id": "658d5bce-9dd1-48e7-aab2-b846c0345fb8",
   "metadata": {},
   "outputs": [
    {
     "name": "stdout",
     "output_type": "stream",
     "text": [
      "1\n",
      "True\n",
      "str\n",
      "12.0\n"
     ]
    }
   ],
   "source": [
    "for i in list:\n",
    "    print(i)"
   ]
  },
  {
   "cell_type": "code",
   "execution_count": 9,
   "id": "711feba3-1844-4e5d-994d-da0714af0142",
   "metadata": {},
   "outputs": [
    {
     "name": "stdout",
     "output_type": "stream",
     "text": [
      "1\n",
      "True\n",
      "str\n",
      "12.0\n"
     ]
    }
   ],
   "source": [
    "for i in range(len(list)):\n",
    "    print(list[i])"
   ]
  },
  {
   "cell_type": "markdown",
   "id": "ecf465af-2339-4491-8c16-13cad72e18f5",
   "metadata": {},
   "source": [
    "# Slicing of List"
   ]
  },
  {
   "cell_type": "code",
   "execution_count": 10,
   "id": "53192ad9-66d7-4ef9-ae1f-b0b56cc5e34d",
   "metadata": {},
   "outputs": [
    {
     "data": {
      "text/plain": [
       "[1, True, 'str', 12.0]"
      ]
     },
     "execution_count": 10,
     "metadata": {},
     "output_type": "execute_result"
    }
   ],
   "source": [
    "list[0:] # start to le(list)-1"
   ]
  },
  {
   "cell_type": "code",
   "execution_count": 11,
   "id": "30543dc0-b3f1-45b6-861f-44fd2d572758",
   "metadata": {},
   "outputs": [
    {
     "data": {
      "text/plain": [
       "[1, True, 'str', 12.0]"
      ]
     },
     "execution_count": 11,
     "metadata": {},
     "output_type": "execute_result"
    }
   ],
   "source": [
    "list[:] # print everything from 0 to len(list)-1"
   ]
  },
  {
   "cell_type": "code",
   "execution_count": 12,
   "id": "872cd5b4-29ab-481d-95c8-741e6fdbf5a7",
   "metadata": {},
   "outputs": [
    {
     "data": {
      "text/plain": [
       "[1, True, 'str']"
      ]
     },
     "execution_count": 12,
     "metadata": {},
     "output_type": "execute_result"
    }
   ],
   "source": [
    "list[:3] # from  0 to end -1"
   ]
  },
  {
   "cell_type": "code",
   "execution_count": 13,
   "id": "fab968ba-cbad-409c-9341-562a83242791",
   "metadata": {},
   "outputs": [
    {
     "data": {
      "text/plain": [
       "['str', 12.0]"
      ]
     },
     "execution_count": 13,
     "metadata": {},
     "output_type": "execute_result"
    }
   ],
   "source": [
    "list[2:4] # from start to end -1"
   ]
  },
  {
   "cell_type": "code",
   "execution_count": 14,
   "id": "18a661f8-9236-4e9a-b9b7-06d2d00b7879",
   "metadata": {},
   "outputs": [
    {
     "data": {
      "text/plain": [
       "[True]"
      ]
     },
     "execution_count": 14,
     "metadata": {},
     "output_type": "execute_result"
    }
   ],
   "source": [
    "list[1:2:2] # jump +ve left to right"
   ]
  },
  {
   "cell_type": "code",
   "execution_count": 16,
   "id": "ea108156-2950-4a36-823c-a2a034336d9b",
   "metadata": {},
   "outputs": [
    {
     "data": {
      "text/plain": [
       "\u001b[1;31mType:\u001b[0m        list\n",
       "\u001b[1;31mString form:\u001b[0m [1, True, 'str', 12.0]\n",
       "\u001b[1;31mLength:\u001b[0m      4\n",
       "\u001b[1;31mDocstring:\u001b[0m  \n",
       "Built-in mutable sequence.\n",
       "\n",
       "If no argument is given, the constructor creates a new empty list.\n",
       "The argument must be an iterable if specified."
      ]
     },
     "metadata": {},
     "output_type": "display_data"
    }
   ],
   "source": [
    "list??"
   ]
  },
  {
   "cell_type": "code",
   "execution_count": 17,
   "id": "936eab3b-5323-4168-be2a-b501dd68eade",
   "metadata": {},
   "outputs": [
    {
     "data": {
      "text/plain": [
       "12.0"
      ]
     },
     "execution_count": 17,
     "metadata": {},
     "output_type": "execute_result"
    }
   ],
   "source": [
    "list[-1] # negative index"
   ]
  },
  {
   "cell_type": "code",
   "execution_count": 21,
   "id": "6c9f4c51-f1bf-4f52-95ca-feb7277014d0",
   "metadata": {},
   "outputs": [
    {
     "data": {
      "text/plain": [
       "[12.0, 'str', True, 1]"
      ]
     },
     "execution_count": 21,
     "metadata": {},
     "output_type": "execute_result"
    }
   ],
   "source": [
    "list[-1:-5:-1] # jump negative from right to left"
   ]
  },
  {
   "cell_type": "markdown",
   "id": "7c019567-f3a8-4cb7-ab01-fb8c396a29f3",
   "metadata": {},
   "source": [
    "# characteristics of list"
   ]
  },
  {
   "cell_type": "markdown",
   "id": "7614bc86-549b-412b-b213-f17ff7ee9d53",
   "metadata": {},
   "source": [
    "1) List is mutable\n",
    "2) List contain any data type\n",
    "3) accessible via index\n",
    "4) orderly collection"
   ]
  },
  {
   "cell_type": "code",
   "execution_count": 22,
   "id": "21aacb21-99d2-4c6b-9d6b-fc893ff220b2",
   "metadata": {},
   "outputs": [
    {
     "name": "stdout",
     "output_type": "stream",
     "text": [
      "[1, True, 'str', 'Horse']\n"
     ]
    }
   ],
   "source": [
    "list[-1]=\"Horse\"\n",
    "print(list)"
   ]
  },
  {
   "cell_type": "code",
   "execution_count": 32,
   "id": "373d570f-5f53-4b3f-bc0f-bf2c53bd4702",
   "metadata": {},
   "outputs": [
    {
     "name": "stdout",
     "output_type": "stream",
     "text": [
      "[1, 2, 3, 4, 5, 6]\n"
     ]
    }
   ],
   "source": [
    "# concatentation operator + \n",
    "list1 = [1,2,3]\n",
    "list2 = [4,5,6]\n",
    "list1 = list1+list2\n",
    "print(list1)"
   ]
  },
  {
   "cell_type": "code",
   "execution_count": 33,
   "id": "59168b90-cbb6-47f9-8ebc-6c3eae8881a3",
   "metadata": {},
   "outputs": [
    {
     "name": "stdout",
     "output_type": "stream",
     "text": [
      "[1, 2, 3, 1, 2, 3]\n"
     ]
    }
   ],
   "source": [
    "# repetiton *\n",
    "list=[1,2,3]\n",
    "list = list * 2\n",
    "print(list)"
   ]
  },
  {
   "cell_type": "code",
   "execution_count": 34,
   "id": "b8229b9b-d4f5-44b1-803e-4cc13b3db0c2",
   "metadata": {},
   "outputs": [
    {
     "data": {
      "text/plain": [
       "False"
      ]
     },
     "execution_count": 34,
     "metadata": {},
     "output_type": "execute_result"
    }
   ],
   "source": [
    "# membership in , not in\n",
    "\"Horse\" in list\n",
    "\n"
   ]
  },
  {
   "cell_type": "code",
   "execution_count": 35,
   "id": "9ade2f4d-3a18-4a26-9fca-0d46b049d41d",
   "metadata": {},
   "outputs": [
    {
     "data": {
      "text/plain": [
       "True"
      ]
     },
     "execution_count": 35,
     "metadata": {},
     "output_type": "execute_result"
    }
   ],
   "source": [
    "\"Horse\" not in list"
   ]
  },
  {
   "cell_type": "code",
   "execution_count": 36,
   "id": "c605612b-7b90-4f3f-b4a6-81575490c3e7",
   "metadata": {},
   "outputs": [
    {
     "name": "stdout",
     "output_type": "stream",
     "text": [
      "6\n"
     ]
    }
   ],
   "source": [
    "# length\n",
    "print(len(list))"
   ]
  },
  {
   "cell_type": "markdown",
   "id": "eaf0209c-ffe9-4e0b-9af9-b44e9bcf674f",
   "metadata": {},
   "source": [
    "# List Methods"
   ]
  },
  {
   "cell_type": "code",
   "execution_count": 46,
   "id": "61fd1bff-83a4-4828-97e0-d3732d7975f8",
   "metadata": {},
   "outputs": [
    {
     "name": "stdout",
     "output_type": "stream",
     "text": [
      "[1, 2]\n"
     ]
    }
   ],
   "source": [
    "# append  will add at the end of list\n",
    "list = [1,2]\n",
    "print(list)\n",
    "list.append(3)"
   ]
  },
  {
   "cell_type": "code",
   "execution_count": 47,
   "id": "e032003b-753a-4be6-a51d-265904bc0073",
   "metadata": {},
   "outputs": [
    {
     "name": "stdout",
     "output_type": "stream",
     "text": [
      "[1, 2, 3]\n"
     ]
    }
   ],
   "source": [
    "print(list)"
   ]
  },
  {
   "cell_type": "code",
   "execution_count": 48,
   "id": "fa6c40df-a12d-4895-905f-5e5249d655d2",
   "metadata": {},
   "outputs": [
    {
     "data": {
      "text/plain": [
       "\u001b[1;31mSignature:\u001b[0m \u001b[0mlist\u001b[0m\u001b[1;33m.\u001b[0m\u001b[0minsert\u001b[0m\u001b[1;33m(\u001b[0m\u001b[0mindex\u001b[0m\u001b[1;33m,\u001b[0m \u001b[0mobject\u001b[0m\u001b[1;33m,\u001b[0m \u001b[1;33m/\u001b[0m\u001b[1;33m)\u001b[0m\u001b[1;33m\u001b[0m\u001b[1;33m\u001b[0m\u001b[0m\n",
       "\u001b[1;31mDocstring:\u001b[0m Insert object before index.\n",
       "\u001b[1;31mType:\u001b[0m      builtin_function_or_method"
      ]
     },
     "metadata": {},
     "output_type": "display_data"
    }
   ],
   "source": [
    "# insert (index,object) ->it adds the object before index\n",
    "list.insert??\n"
   ]
  },
  {
   "cell_type": "code",
   "execution_count": 51,
   "id": "53276860-0060-4732-8be0-b2e0485157d9",
   "metadata": {},
   "outputs": [],
   "source": [
    "list.insert(0,12)"
   ]
  },
  {
   "cell_type": "code",
   "execution_count": 52,
   "id": "ab3b7fd7-96e3-49ae-bda8-6aa925963c6c",
   "metadata": {},
   "outputs": [
    {
     "name": "stdout",
     "output_type": "stream",
     "text": [
      "[12, '', 1, 2, 3]\n"
     ]
    }
   ],
   "source": [
    "print(list)"
   ]
  },
  {
   "cell_type": "code",
   "execution_count": 54,
   "id": "f15d7e4e-45ee-4bc1-8182-a0cc3282c01c",
   "metadata": {},
   "outputs": [
    {
     "data": {
      "text/plain": [
       "\u001b[1;31mSignature:\u001b[0m \u001b[0mlist\u001b[0m\u001b[1;33m.\u001b[0m\u001b[0mindex\u001b[0m\u001b[1;33m(\u001b[0m\u001b[0mvalue\u001b[0m\u001b[1;33m,\u001b[0m \u001b[0mstart\u001b[0m\u001b[1;33m=\u001b[0m\u001b[1;36m0\u001b[0m\u001b[1;33m,\u001b[0m \u001b[0mstop\u001b[0m\u001b[1;33m=\u001b[0m\u001b[1;36m9223372036854775807\u001b[0m\u001b[1;33m,\u001b[0m \u001b[1;33m/\u001b[0m\u001b[1;33m)\u001b[0m\u001b[1;33m\u001b[0m\u001b[1;33m\u001b[0m\u001b[0m\n",
       "\u001b[1;31mDocstring:\u001b[0m\n",
       "Return first index of value.\n",
       "\n",
       "Raises ValueError if the value is not present.\n",
       "\u001b[1;31mType:\u001b[0m      builtin_function_or_method"
      ]
     },
     "metadata": {},
     "output_type": "display_data"
    }
   ],
   "source": [
    "list.index??"
   ]
  },
  {
   "cell_type": "markdown",
   "id": "c8583b5b-328c-47fd-a411-ef2c7bee0720",
   "metadata": {},
   "source": [
    "index(value,start,end) in index method if element exists within range start to end -1 it returns the index of first occurence else raise value error"
   ]
  },
  {
   "cell_type": "code",
   "execution_count": 60,
   "id": "cdbb0211-1ae3-49d5-94ea-79839650399f",
   "metadata": {},
   "outputs": [
    {
     "data": {
      "text/plain": [
       "2"
      ]
     },
     "execution_count": 60,
     "metadata": {},
     "output_type": "execute_result"
    }
   ],
   "source": [
    "list.index(1,2,5)"
   ]
  },
  {
   "cell_type": "markdown",
   "id": "cbe41291-a425-4407-9cfb-bbdfaff912c9",
   "metadata": {},
   "source": [
    "by default it is range zero and stop is 922..."
   ]
  },
  {
   "cell_type": "code",
   "execution_count": 64,
   "id": "d8d99fd5-8f96-488c-8c03-1ecd5b85484a",
   "metadata": {},
   "outputs": [
    {
     "name": "stdout",
     "output_type": "stream",
     "text": [
      "[0, 1, 4]\n"
     ]
    }
   ],
   "source": [
    "list = [4,1,0]\n",
    "list.sort()\n",
    "print(list) "
   ]
  },
  {
   "cell_type": "code",
   "execution_count": 66,
   "id": "b3173ec9-c1b1-4f7d-b5e1-a03e9491488a",
   "metadata": {},
   "outputs": [
    {
     "data": {
      "text/plain": [
       "\u001b[1;31mSignature:\u001b[0m \u001b[0mlist\u001b[0m\u001b[1;33m.\u001b[0m\u001b[0msort\u001b[0m\u001b[1;33m(\u001b[0m\u001b[1;33m*\u001b[0m\u001b[1;33m,\u001b[0m \u001b[0mkey\u001b[0m\u001b[1;33m=\u001b[0m\u001b[1;32mNone\u001b[0m\u001b[1;33m,\u001b[0m \u001b[0mreverse\u001b[0m\u001b[1;33m=\u001b[0m\u001b[1;32mFalse\u001b[0m\u001b[1;33m)\u001b[0m\u001b[1;33m\u001b[0m\u001b[1;33m\u001b[0m\u001b[0m\n",
       "\u001b[1;31mDocstring:\u001b[0m\n",
       "Sort the list in ascending order and return None.\n",
       "\n",
       "The sort is in-place (i.e. the list itself is modified) and stable (i.e. the\n",
       "order of two equal elements is maintained).\n",
       "\n",
       "If a key function is given, apply it once to each list item and sort them,\n",
       "ascending or descending, according to their function values.\n",
       "\n",
       "The reverse flag can be set to sort in descending order.\n",
       "\u001b[1;31mType:\u001b[0m      builtin_function_or_method"
      ]
     },
     "metadata": {},
     "output_type": "display_data"
    }
   ],
   "source": [
    "list.sort??"
   ]
  },
  {
   "cell_type": "code",
   "execution_count": 67,
   "id": "0004814c-fb9a-4eaf-9720-f851c33408d2",
   "metadata": {},
   "outputs": [],
   "source": [
    "list.sort(reverse=True)"
   ]
  },
  {
   "cell_type": "code",
   "execution_count": 68,
   "id": "093c2a3d-b24f-4272-9823-96ba27938183",
   "metadata": {},
   "outputs": [
    {
     "name": "stdout",
     "output_type": "stream",
     "text": [
      "[4, 1, 0]\n"
     ]
    }
   ],
   "source": [
    "print(list)"
   ]
  },
  {
   "cell_type": "code",
   "execution_count": 69,
   "id": "c8b754b9-c513-4521-a0dc-182af0068b8a",
   "metadata": {},
   "outputs": [
    {
     "data": {
      "text/plain": [
       "\u001b[1;31mSignature:\u001b[0m \u001b[0mlist\u001b[0m\u001b[1;33m.\u001b[0m\u001b[0mcount\u001b[0m\u001b[1;33m(\u001b[0m\u001b[0mvalue\u001b[0m\u001b[1;33m,\u001b[0m \u001b[1;33m/\u001b[0m\u001b[1;33m)\u001b[0m\u001b[1;33m\u001b[0m\u001b[1;33m\u001b[0m\u001b[0m\n",
       "\u001b[1;31mDocstring:\u001b[0m Return number of occurrences of value.\n",
       "\u001b[1;31mType:\u001b[0m      builtin_function_or_method"
      ]
     },
     "metadata": {},
     "output_type": "display_data"
    }
   ],
   "source": [
    "list.count??"
   ]
  },
  {
   "cell_type": "code",
   "execution_count": 70,
   "id": "f69daad1-fe8b-44f2-a3f5-68be12b5af3d",
   "metadata": {},
   "outputs": [
    {
     "data": {
      "text/plain": [
       "0"
      ]
     },
     "execution_count": 70,
     "metadata": {},
     "output_type": "execute_result"
    }
   ],
   "source": [
    "list.count(\"P\") # count the number of occurences of element in list if no such return 0"
   ]
  },
  {
   "cell_type": "code",
   "execution_count": 71,
   "id": "764cbb55-0678-4da0-8c47-45a334b2de81",
   "metadata": {},
   "outputs": [
    {
     "name": "stdout",
     "output_type": "stream",
     "text": [
      "[0, 1, 0]\n"
     ]
    }
   ],
   "source": [
    "m = list # m is refernce of list\n",
    "m[0]=0\n",
    "print(list)"
   ]
  },
  {
   "cell_type": "code",
   "execution_count": 72,
   "id": "d1c111c0-15cd-4d21-8aff-2f89a481306e",
   "metadata": {},
   "outputs": [
    {
     "name": "stdout",
     "output_type": "stream",
     "text": [
      "1762838319744\n"
     ]
    }
   ],
   "source": [
    "print(id(m))"
   ]
  },
  {
   "cell_type": "code",
   "execution_count": 73,
   "id": "0131aef6-ab90-41ff-bd12-55bec02eccf8",
   "metadata": {},
   "outputs": [
    {
     "name": "stdout",
     "output_type": "stream",
     "text": [
      "1762838319744\n"
     ]
    }
   ],
   "source": [
    "print(id(list))"
   ]
  },
  {
   "cell_type": "code",
   "execution_count": 78,
   "id": "b55cbfd4-d571-43e8-bacd-80bc8ebc4432",
   "metadata": {},
   "outputs": [
    {
     "name": "stdout",
     "output_type": "stream",
     "text": [
      "[0, 1, 0]\n"
     ]
    }
   ],
   "source": [
    "m = list.copy() # copy method avoids the error\n",
    "m[0]=9\n",
    "print(list)\n",
    "list[0]=19"
   ]
  },
  {
   "cell_type": "code",
   "execution_count": 80,
   "id": "c8927c84-fbcd-45be-b4db-538846fc820c",
   "metadata": {},
   "outputs": [
    {
     "name": "stdout",
     "output_type": "stream",
     "text": [
      "[1, 2, 4]\n",
      "[4, 2, 1]\n"
     ]
    }
   ],
   "source": [
    "list = [1,2,4]\n",
    "print(list)\n",
    "list.reverse() # reversing thwe list\n",
    "print(list)"
   ]
  },
  {
   "cell_type": "code",
   "execution_count": 81,
   "id": "81c10bfb-5c85-4e5d-9c54-061aa4aedf22",
   "metadata": {},
   "outputs": [
    {
     "data": {
      "text/plain": [
       "\u001b[1;31mSignature:\u001b[0m \u001b[0mlist\u001b[0m\u001b[1;33m.\u001b[0m\u001b[0mextend\u001b[0m\u001b[1;33m(\u001b[0m\u001b[0miterable\u001b[0m\u001b[1;33m,\u001b[0m \u001b[1;33m/\u001b[0m\u001b[1;33m)\u001b[0m\u001b[1;33m\u001b[0m\u001b[1;33m\u001b[0m\u001b[0m\n",
       "\u001b[1;31mDocstring:\u001b[0m Extend list by appending elements from the iterable.\n",
       "\u001b[1;31mType:\u001b[0m      builtin_function_or_method"
      ]
     },
     "metadata": {},
     "output_type": "display_data"
    }
   ],
   "source": [
    "list.extend??"
   ]
  },
  {
   "cell_type": "code",
   "execution_count": 82,
   "id": "a84bfe8f-d2be-4b7c-b7a7-ec3570d514c3",
   "metadata": {},
   "outputs": [
    {
     "name": "stdout",
     "output_type": "stream",
     "text": [
      "[4, 2, 1, 1, 2, 3, 4, 5, 6]\n"
     ]
    }
   ],
   "source": [
    "list.extend(list1)\n",
    "print(list)"
   ]
  },
  {
   "cell_type": "markdown",
   "id": "cb1e5048-2e6b-4be5-8312-0e3595553a4e",
   "metadata": {},
   "source": [
    "# Tupules"
   ]
  },
  {
   "cell_type": "code",
   "execution_count": 84,
   "id": "cc7d7670-0f13-4840-8af2-89d490475b29",
   "metadata": {},
   "outputs": [
    {
     "name": "stdout",
     "output_type": "stream",
     "text": [
      "<class 'tuple'>\n"
     ]
    }
   ],
   "source": [
    "tup = (1,2,4)\n",
    "print(type(tup))"
   ]
  },
  {
   "cell_type": "markdown",
   "id": "d40d0c28-4e52-41ca-8bae-d26a3b3afc36",
   "metadata": {},
   "source": [
    "1) Tupules are collection of data enclosed by round brackets seperated by commas\n",
    "2) unmutable it cannot be changed after it is created"
   ]
  },
  {
   "cell_type": "code",
   "execution_count": 86,
   "id": "417fa58a-288f-4e6a-8190-275c901861b0",
   "metadata": {},
   "outputs": [
    {
     "data": {
      "text/plain": [
       "1"
      ]
     },
     "execution_count": 86,
     "metadata": {},
     "output_type": "execute_result"
    }
   ],
   "source": [
    "tup[0] # we can access by index "
   ]
  },
  {
   "cell_type": "code",
   "execution_count": 89,
   "id": "3632966e-b4f3-42fa-8bfe-d71befa13ec3",
   "metadata": {},
   "outputs": [
    {
     "ename": "TypeError",
     "evalue": "'tuple' object does not support item assignment",
     "output_type": "error",
     "traceback": [
      "\u001b[1;31m---------------------------------------------------------------------------\u001b[0m",
      "\u001b[1;31mTypeError\u001b[0m                                 Traceback (most recent call last)",
      "Cell \u001b[1;32mIn[89], line 1\u001b[0m\n\u001b[1;32m----> 1\u001b[0m \u001b[43mtup\u001b[49m\u001b[43m[\u001b[49m\u001b[38;5;241;43m0\u001b[39;49m\u001b[43m]\u001b[49m \u001b[38;5;241m=\u001b[39m \u001b[38;5;241m3\u001b[39m \u001b[38;5;66;03m# it cannot be changed\u001b[39;00m\n",
      "\u001b[1;31mTypeError\u001b[0m: 'tuple' object does not support item assignment"
     ]
    }
   ],
   "source": [
    "tup[0] = 3 # it cannot be changed if we try to change it hrows type error"
   ]
  },
  {
   "cell_type": "code",
   "execution_count": 88,
   "id": "42bb46f2-f853-425a-af41-3667b1e863b3",
   "metadata": {},
   "outputs": [
    {
     "data": {
      "text/plain": [
       "3"
      ]
     },
     "execution_count": 88,
     "metadata": {},
     "output_type": "execute_result"
    }
   ],
   "source": [
    "len(tup) # length of tupule"
   ]
  },
  {
   "cell_type": "code",
   "execution_count": 90,
   "id": "23122f03-dd8b-440b-bdd9-ce952de81c96",
   "metadata": {},
   "outputs": [
    {
     "data": {
      "text/plain": [
       "4"
      ]
     },
     "execution_count": 90,
     "metadata": {},
     "output_type": "execute_result"
    }
   ],
   "source": [
    "tup[len(tup)-1] # postive index from 0 to len(tupule)-1"
   ]
  },
  {
   "cell_type": "code",
   "execution_count": 91,
   "id": "adf2d2be-018f-4938-addb-85b731d426e0",
   "metadata": {},
   "outputs": [
    {
     "data": {
      "text/plain": [
       "1"
      ]
     },
     "execution_count": 91,
     "metadata": {},
     "output_type": "execute_result"
    }
   ],
   "source": [
    "tup[-len(tup)] # negatuive index from -1 to -len(tup) in reverse for negative indexing"
   ]
  },
  {
   "cell_type": "code",
   "execution_count": 92,
   "id": "0c8f8f5d-fd4e-49c3-b2f2-62ccaff4546f",
   "metadata": {},
   "outputs": [
    {
     "data": {
      "text/plain": [
       "(1, 4)"
      ]
     },
     "execution_count": 92,
     "metadata": {},
     "output_type": "execute_result"
    }
   ],
   "source": [
    "tup[0:3:2] # it is that slicing"
   ]
  },
  {
   "cell_type": "code",
   "execution_count": 94,
   "id": "c3a8d355-2ce0-400a-94e4-ebf0edad1a8c",
   "metadata": {},
   "outputs": [
    {
     "data": {
      "text/plain": [
       "(1, 2, 4)"
      ]
     },
     "execution_count": 94,
     "metadata": {},
     "output_type": "execute_result"
    }
   ],
   "source": [
    "tup[:] # 0 to len(tup)-1"
   ]
  },
  {
   "cell_type": "code",
   "execution_count": 95,
   "id": "deecba0d-aede-4fb5-b9f7-c2c7b561c3e7",
   "metadata": {},
   "outputs": [
    {
     "data": {
      "text/plain": [
       "(4,)"
      ]
     },
     "execution_count": 95,
     "metadata": {},
     "output_type": "execute_result"
    }
   ],
   "source": [
    "tup[2:] # from start to len(tup)-1"
   ]
  },
  {
   "cell_type": "code",
   "execution_count": 97,
   "id": "51988aeb-6d43-4942-9753-7de274dea0d8",
   "metadata": {},
   "outputs": [
    {
     "data": {
      "text/plain": [
       "(1, 2)"
      ]
     },
     "execution_count": 97,
     "metadata": {},
     "output_type": "execute_result"
    }
   ],
   "source": [
    "tup[:2] # from 0 to end -1"
   ]
  },
  {
   "cell_type": "code",
   "execution_count": 98,
   "id": "ad910a45-3045-4b7a-8e4e-842acadfa5d3",
   "metadata": {},
   "outputs": [
    {
     "data": {
      "text/plain": [
       "(1, 4)"
      ]
     },
     "execution_count": 98,
     "metadata": {},
     "output_type": "execute_result"
    }
   ],
   "source": [
    "tup[0::2] # jump positive from left to right"
   ]
  },
  {
   "cell_type": "code",
   "execution_count": 109,
   "id": "32c5e00b-8869-4a5e-8fbd-8e0ca156b187",
   "metadata": {},
   "outputs": [],
   "source": [
    "tup2 =tup[::-1] # negative jump from right to left"
   ]
  },
  {
   "cell_type": "code",
   "execution_count": 107,
   "id": "1dca3071-739a-41aa-b156-8a42429b874c",
   "metadata": {},
   "outputs": [
    {
     "data": {
      "text/plain": [
       "True"
      ]
     },
     "execution_count": 107,
     "metadata": {},
     "output_type": "execute_result"
    }
   ],
   "source": [
    "# membership operators also works on tupules\n",
    "1 in tup"
   ]
  },
  {
   "cell_type": "code",
   "execution_count": 108,
   "id": "1485d441-c531-427c-a063-df560653a1fb",
   "metadata": {},
   "outputs": [
    {
     "data": {
      "text/plain": [
       "True"
      ]
     },
     "execution_count": 108,
     "metadata": {},
     "output_type": "execute_result"
    }
   ],
   "source": [
    "5 not in tup"
   ]
  },
  {
   "cell_type": "code",
   "execution_count": 111,
   "id": "d0255d78-884e-4363-9057-fb4eb35a7da5",
   "metadata": {},
   "outputs": [
    {
     "name": "stdout",
     "output_type": "stream",
     "text": [
      "(4, 2, 1)\n"
     ]
    }
   ],
   "source": [
    "print(tup2) # new tupule can be created"
   ]
  },
  {
   "cell_type": "markdown",
   "id": "5738861c-65e0-44c5-9260-a9231d05e1b0",
   "metadata": {},
   "source": [
    "# Tupule Methods\n",
    "tupules cannot be added or removed or updated change to list and do and then change back to tupule"
   ]
  },
  {
   "cell_type": "code",
   "execution_count": 13,
   "id": "7dbc85ca-d171-47bd-94bc-9d4c30751513",
   "metadata": {},
   "outputs": [
    {
     "name": "stdout",
     "output_type": "stream",
     "text": [
      "('India', 'Bangladesh', 'Russia', 'Srilanka', 'NorthKorea')\n"
     ]
    }
   ],
   "source": [
    "tup = (\"India\",\"Bangladesh\",\"Russia\",\"Srilanka\",\"NorthKorea\")\n",
    "print(tup)"
   ]
  },
  {
   "cell_type": "code",
   "execution_count": 14,
   "id": "13be79a7-0dc9-4d23-824e-a72bb6a74fab",
   "metadata": {},
   "outputs": [],
   "source": [
    "li = list(tup)\n",
    "li.remove(\"NorthKorea\")\n",
    "li.append(\"SouthKorea\")\n",
    "li[3]=\"Australis\"\n",
    "\n"
   ]
  },
  {
   "cell_type": "code",
   "execution_count": 15,
   "id": "b591a9ee-3b4e-44c1-a73b-8bc075b5548d",
   "metadata": {},
   "outputs": [],
   "source": [
    "tup = tuple(li)"
   ]
  },
  {
   "cell_type": "code",
   "execution_count": 16,
   "id": "29bea13a-9a3b-49a0-814b-34b5b902442d",
   "metadata": {},
   "outputs": [
    {
     "name": "stdout",
     "output_type": "stream",
     "text": [
      "('India', 'Bangladesh', 'Russia', 'Australis', 'SouthKorea')\n"
     ]
    }
   ],
   "source": [
    "print(tup)"
   ]
  },
  {
   "cell_type": "code",
   "execution_count": 17,
   "id": "71fd9d4a-6a17-4dde-8d90-a43ba5b384ce",
   "metadata": {},
   "outputs": [
    {
     "data": {
      "text/plain": [
       "\u001b[1;31mSignature:\u001b[0m \u001b[0mtuple\u001b[0m\u001b[1;33m.\u001b[0m\u001b[0mcount\u001b[0m\u001b[1;33m(\u001b[0m\u001b[0mself\u001b[0m\u001b[1;33m,\u001b[0m \u001b[0mvalue\u001b[0m\u001b[1;33m,\u001b[0m \u001b[1;33m/\u001b[0m\u001b[1;33m)\u001b[0m\u001b[1;33m\u001b[0m\u001b[1;33m\u001b[0m\u001b[0m\n",
       "\u001b[1;31mDocstring:\u001b[0m Return number of occurrences of value.\n",
       "\u001b[1;31mType:\u001b[0m      method_descriptor"
      ]
     },
     "metadata": {},
     "output_type": "display_data"
    }
   ],
   "source": [
    "tuple.count??"
   ]
  },
  {
   "cell_type": "code",
   "execution_count": 18,
   "id": "2e3ffeba-f802-49e5-be19-25726c87578d",
   "metadata": {},
   "outputs": [
    {
     "data": {
      "text/plain": [
       "1"
      ]
     },
     "execution_count": 18,
     "metadata": {},
     "output_type": "execute_result"
    }
   ],
   "source": [
    "tup.count(\"Russia\") # count the number  occurences "
   ]
  },
  {
   "cell_type": "code",
   "execution_count": 19,
   "id": "ae5d4947-7dfa-468b-89a2-537dda6fc684",
   "metadata": {},
   "outputs": [
    {
     "data": {
      "text/plain": [
       "0"
      ]
     },
     "execution_count": 19,
     "metadata": {},
     "output_type": "execute_result"
    }
   ],
   "source": [
    "tup.index(\"India\")"
   ]
  },
  {
   "cell_type": "code",
   "execution_count": 20,
   "id": "019b7b71-57f4-4c8e-8e40-fcad04e86948",
   "metadata": {},
   "outputs": [
    {
     "ename": "ValueError",
     "evalue": "tuple.index(x): x not in tuple",
     "output_type": "error",
     "traceback": [
      "\u001b[1;31m---------------------------------------------------------------------------\u001b[0m",
      "\u001b[1;31mValueError\u001b[0m                                Traceback (most recent call last)",
      "Cell \u001b[1;32mIn[20], line 1\u001b[0m\n\u001b[1;32m----> 1\u001b[0m \u001b[43mtup\u001b[49m\u001b[38;5;241;43m.\u001b[39;49m\u001b[43mindex\u001b[49m\u001b[43m(\u001b[49m\u001b[38;5;124;43m\"\u001b[39;49m\u001b[38;5;124;43mf\u001b[39;49m\u001b[38;5;124;43m\"\u001b[39;49m\u001b[43m)\u001b[49m \u001b[38;5;66;03m# value error occurs if there is no such that in tupule\u001b[39;00m\n",
      "\u001b[1;31mValueError\u001b[0m: tuple.index(x): x not in tuple"
     ]
    }
   ],
   "source": [
    "tup.index(\"f\") # value error occurs if there is no such that in tupule"
   ]
  },
  {
   "cell_type": "code",
   "execution_count": 12,
   "id": "6d79281a-7d84-42d8-901b-1b35e91e80e3",
   "metadata": {},
   "outputs": [
    {
     "name": "stdout",
     "output_type": "stream",
     "text": [
      "(1, 2, 3, 4, 5, 6)\n"
     ]
    }
   ],
   "source": [
    "tup1 = (1,2,3)\n",
    "tup2 =(4,5,6)\n",
    "tup1 = tup1 + tup2\n",
    "print(tup)"
   ]
  },
  {
   "cell_type": "markdown",
   "id": "d3c957ca-ee2d-4952-9882-8ba5b9c971fa",
   "metadata": {},
   "source": [
    "# Time Module"
   ]
  },
  {
   "cell_type": "code",
   "execution_count": 4,
   "id": "93c1bc36-aa91-454f-8882-24b81da949db",
   "metadata": {},
   "outputs": [
    {
     "name": "stdout",
     "output_type": "stream",
     "text": [
      "20:56:31\n"
     ]
    }
   ],
   "source": [
    "import time\n",
    "timestamp = time.strftime(\"%H:%M:%S\") # hours:minutes:seconds %H -hours %M -minutes %S-seconds\n",
    "print(timestamp)"
   ]
  },
  {
   "cell_type": "code",
   "execution_count": 5,
   "id": "748a1335-12d4-44e6-ac0d-da7a6291be24",
   "metadata": {},
   "outputs": [],
   "source": [
    "timestamp2 = time.strftime(\"%d:%m:%y\")# %d - day ,%m -month,%y -year"
   ]
  },
  {
   "cell_type": "code",
   "execution_count": 6,
   "id": "3a4d697d-8dfc-4a7c-ba29-e57aa6f8bef3",
   "metadata": {},
   "outputs": [
    {
     "name": "stdout",
     "output_type": "stream",
     "text": [
      "26:06:24\n"
     ]
    }
   ],
   "source": [
    "print(timestamp2)# %m - month"
   ]
  },
  {
   "cell_type": "code",
   "execution_count": 7,
   "id": "51398be5-78e8-47ac-bd67-d806f3284ca4",
   "metadata": {},
   "outputs": [],
   "source": [
    "timestamp1 = time.strftime(\"%d:%m:%Y\") # Y - gives full year"
   ]
  },
  {
   "cell_type": "code",
   "execution_count": 8,
   "id": "acece277-541d-4a4d-8671-6aac313ebf35",
   "metadata": {},
   "outputs": [
    {
     "name": "stdout",
     "output_type": "stream",
     "text": [
      "26:06:2024\n"
     ]
    }
   ],
   "source": [
    "print(timestamp1)"
   ]
  },
  {
   "cell_type": "code",
   "execution_count": 22,
   "id": "65415ae0-d117-40b9-91fd-ec4c5ea15d0e",
   "metadata": {},
   "outputs": [],
   "source": [
    "t = time.strftime(\"%D\")"
   ]
  },
  {
   "cell_type": "code",
   "execution_count": 23,
   "id": "765df709-6a8a-40a4-b5be-a365ad7b7d1f",
   "metadata": {},
   "outputs": [
    {
     "name": "stdout",
     "output_type": "stream",
     "text": [
      "05/08/24\n"
     ]
    }
   ],
   "source": [
    "print(t)"
   ]
  },
  {
   "cell_type": "code",
   "execution_count": 25,
   "id": "7bb75797-3b05-4306-afa4-4ff55dc0f626",
   "metadata": {},
   "outputs": [
    {
     "name": "stdout",
     "output_type": "stream",
     "text": [
      "Good Morning\n"
     ]
    }
   ],
   "source": [
    "# problem\n",
    "import time\n",
    "timestamp = time.strftime(\"%H:%M:%S\")\n",
    "hours = int(time.strftime(\"%H\"))\n",
    "if hours > 0 and hours <12:\n",
    "    print(\"Good Morning\")\n",
    "elif hours >= 12 and hours < 17:\n",
    "    print(\"Good Afternoon\")\n",
    "elif hours >= 17 and hours < 19:\n",
    "    print(\"Good Evening\")\n",
    "else:\n",
    "    print(\"Good Noght\")"
   ]
  },
  {
   "cell_type": "markdown",
   "id": "3520b5a8-3e19-48bd-a10b-05b6bd45d5b9",
   "metadata": {},
   "source": [
    "# String Formatting - f-strings"
   ]
  },
  {
   "cell_type": "code",
   "execution_count": 3,
   "id": "00f17b23-36a5-41af-8898-2021eb860b45",
   "metadata": {},
   "outputs": [
    {
     "name": "stdout",
     "output_type": "stream",
     "text": [
      "Hello I am coming from Bihar and Surrender all Your Jewellery  \n",
      "Hello I am coming from Jewellery and Surrender all Your Bihar  \n",
      "Hello I am coming from Bihar and Surrender all Your Jewellery  \n"
     ]
    }
   ],
   "source": [
    "sentence1 = \"Hello I am coming from {} and Surrender all Your {}  \";\n",
    "sentence2 = \"Hello I am coming from {1} and Surrender all Your {0}  \";\n",
    "state = \"Bihar\"\n",
    "things = \"Jewellery\"\n",
    "print(sentence1.format(state,things))\n",
    "print(sentence1.format(things,state))\n",
    "print(sentence2.format(things,state))"
   ]
  },
  {
   "cell_type": "code",
   "execution_count": 4,
   "id": "08118b8d-5777-41b3-b518-2b6e1dfc5c09",
   "metadata": {},
   "outputs": [
    {
     "name": "stdout",
     "output_type": "stream",
     "text": [
      "Hello I am from Bihar give all your Jewellery\n"
     ]
    }
   ],
   "source": [
    "# fstrings\n",
    "print(f\"Hello I am from {state} give all your {things}\")"
   ]
  },
  {
   "cell_type": "code",
   "execution_count": 5,
   "id": "d512125a-faa0-4236-b462-65f1392001c6",
   "metadata": {},
   "outputs": [
    {
     "name": "stdout",
     "output_type": "stream",
     "text": [
      "You go to that the 21.0000\n"
     ]
    }
   ],
   "source": [
    "price = 20.99999\n",
    "print(f\"You go to that the {price:.4f}\") # for decimal precision"
   ]
  },
  {
   "cell_type": "code",
   "execution_count": 6,
   "id": "a4cc5af6-5dc3-4376-b7da-61a83c8a5571",
   "metadata": {},
   "outputs": [
    {
     "name": "stdout",
     "output_type": "stream",
     "text": [
      "6\n"
     ]
    }
   ],
   "source": [
    "print(f\"{2*3}\")"
   ]
  },
  {
   "cell_type": "code",
   "execution_count": 7,
   "id": "c4c1c93a-1bd2-477d-8240-f72147b742be",
   "metadata": {},
   "outputs": [],
   "source": [
    "txt = f\"Hello You are from {state} \""
   ]
  },
  {
   "cell_type": "code",
   "execution_count": 8,
   "id": "8c67dd01-a7ff-4ecf-b51f-d447786e4682",
   "metadata": {},
   "outputs": [
    {
     "name": "stdout",
     "output_type": "stream",
     "text": [
      "Hello You are from Bihar \n"
     ]
    }
   ],
   "source": [
    "print(txt)"
   ]
  },
  {
   "cell_type": "markdown",
   "id": "669275f7-faea-4eb7-b7ea-eb3d3a466a2b",
   "metadata": {},
   "source": [
    "# docstrings\n",
    "docstrings are comments that much will not affect output"
   ]
  },
  {
   "cell_type": "code",
   "execution_count": 10,
   "id": "372ce33e-1f38-481e-a1dd-af3a12a965bd",
   "metadata": {},
   "outputs": [
    {
     "name": "stdout",
     "output_type": "stream",
     "text": [
      " 12\n",
      " 12\n"
     ]
    },
    {
     "name": "stdout",
     "output_type": "stream",
     "text": [
      "Help on function add in module __main__:\n",
      "\n",
      "add(a, b)\n",
      "    Add two numbers\n",
      "\n"
     ]
    }
   ],
   "source": [
    "def add(a,b):\n",
    "    '''Add two numbers'''\n",
    "    return a+b\n",
    "a = int(input())\n",
    "b = int(input())\n",
    "add(a,b)\n",
    "help(add) # to get doc strings"
   ]
  },
  {
   "cell_type": "markdown",
   "id": "182a016c-e2ce-430b-abf6-3d55f8ca34ba",
   "metadata": {},
   "source": [
    "# Recursion\n",
    "function within function is called recursion\n"
   ]
  },
  {
   "cell_type": "code",
   "execution_count": 11,
   "id": "68748411-eab8-4e8c-bc30-490ecbc66b76",
   "metadata": {},
   "outputs": [
    {
     "data": {
      "text/plain": [
       "720"
      ]
     },
     "execution_count": 11,
     "metadata": {},
     "output_type": "execute_result"
    }
   ],
   "source": [
    "def factorial(n):\n",
    "    if n == 0:\n",
    "        return 1\n",
    "    else:\n",
    "        return n * factorial(n-1)\n",
    "factorial(6)"
   ]
  },
  {
   "cell_type": "code",
   "execution_count": 2,
   "id": "a55ae40d-1a24-48b2-9df2-d63aa15dd665",
   "metadata": {},
   "outputs": [
    {
     "name": "stdout",
     "output_type": "stream",
     "text": [
      "0 1 1 2 3 5 8 13 21 34 "
     ]
    }
   ],
   "source": [
    "def fib(a,b,n):\n",
    "    if n == 0:\n",
    "        return\n",
    "    print(a,end=\" \")\n",
    "    fib(b,a+b,n-1)\n",
    "fib(0,1,10)"
   ]
  },
  {
   "cell_type": "code",
   "execution_count": 5,
   "id": "4de200b3-184b-4832-b050-2f9044ade8e2",
   "metadata": {},
   "outputs": [],
   "source": [
    "def fibanocci(n):\n",
    "    if n <= 1:\n",
    "        return n\n",
    "    else:\n",
    "        return fibanocci(n-1) + fibanocci(n-2)"
   ]
  },
  {
   "cell_type": "code",
   "execution_count": 6,
   "id": "d19040d4-4072-4466-ae75-e10f165109e5",
   "metadata": {},
   "outputs": [
    {
     "data": {
      "text/plain": [
       "55"
      ]
     },
     "execution_count": 6,
     "metadata": {},
     "output_type": "execute_result"
    }
   ],
   "source": [
    "fibanocci(10)"
   ]
  },
  {
   "cell_type": "code",
   "execution_count": 8,
   "id": "ce171630-3708-48e7-a464-03837250b0a6",
   "metadata": {},
   "outputs": [
    {
     "data": {
      "text/plain": [
       "6"
      ]
     },
     "execution_count": 8,
     "metadata": {},
     "output_type": "execute_result"
    }
   ],
   "source": [
    "def sumOfdigits(n):\n",
    "    if n == 0:\n",
    "        return 0\n",
    "    return n % 10 + sumOfdigits(n//10)\n",
    "sumOfdigits(123)"
   ]
  },
  {
   "cell_type": "code",
   "execution_count": 9,
   "id": "5ccc08e6-7e12-44dc-83d5-2c2db5eb0856",
   "metadata": {},
   "outputs": [
    {
     "data": {
      "text/plain": [
       "10101"
      ]
     },
     "execution_count": 9,
     "metadata": {},
     "output_type": "execute_result"
    }
   ],
   "source": [
    "def Binary(n):\n",
    "    if n == 0:\n",
    "        return 0\n",
    "    else:\n",
    "        return n % 2 + 10*Binary(n//2)\n",
    "Binary(21)"
   ]
  },
  {
   "cell_type": "markdown",
   "id": "ed15e777-9d0c-4cdd-b18c-f6155ffe40b7",
   "metadata": {},
   "source": [
    "# Sets"
   ]
  },
  {
   "cell_type": "markdown",
   "id": "b3236ec0-15dc-41a0-9ca1-86e12aba466a",
   "metadata": {},
   "source": [
    "1) Sets is collection of well defined objects. \n",
    "2) it is unordered. it cannot have duplicate and immutable.\n",
    "3) it cannot have duplicate elements\n",
    "4) it is enclosed by {}"
   ]
  },
  {
   "cell_type": "code",
   "execution_count": 23,
   "id": "6964c89d-4f14-4be1-b05b-9151a6f1f204",
   "metadata": {},
   "outputs": [],
   "source": [
    "word = set()"
   ]
  },
  {
   "cell_type": "code",
   "execution_count": 24,
   "id": "c6e6403f-f856-4bb6-a0c6-c81079380c4c",
   "metadata": {},
   "outputs": [
    {
     "name": "stdout",
     "output_type": "stream",
     "text": [
      "<class 'set'>\n"
     ]
    }
   ],
   "source": [
    "print(type(word))"
   ]
  },
  {
   "cell_type": "code",
   "execution_count": 25,
   "id": "78448387-c710-4612-b978-89ae3dcaa758",
   "metadata": {},
   "outputs": [],
   "source": [
    "word = {1,2,1}"
   ]
  },
  {
   "cell_type": "code",
   "execution_count": 26,
   "id": "27aeb036-6838-4ffe-b125-6af4e8503a55",
   "metadata": {},
   "outputs": [
    {
     "name": "stdout",
     "output_type": "stream",
     "text": [
      "<class 'set'>\n"
     ]
    }
   ],
   "source": [
    "print(type(word))"
   ]
  },
  {
   "cell_type": "code",
   "execution_count": 27,
   "id": "f3cda997-34ab-4276-a1bc-62e2f685abbe",
   "metadata": {},
   "outputs": [
    {
     "name": "stdout",
     "output_type": "stream",
     "text": [
      "1\n",
      "2\n"
     ]
    }
   ],
   "source": [
    "for i in word:\n",
    "    print(i)"
   ]
  },
  {
   "cell_type": "code",
   "execution_count": 28,
   "id": "98a65b1c-2ea2-4b69-ad45-c412ab16d6cb",
   "metadata": {},
   "outputs": [
    {
     "name": "stdout",
     "output_type": "stream",
     "text": [
      "{1, 2}\n"
     ]
    }
   ],
   "source": [
    "print(word)"
   ]
  },
  {
   "cell_type": "code",
   "execution_count": 29,
   "id": "0c05e95f-e246-4bee-867b-d5af7332a0f8",
   "metadata": {},
   "outputs": [
    {
     "name": "stdout",
     "output_type": "stream",
     "text": [
      "{'Pakistan', 'Russia', 'Horse', 'India'}\n"
     ]
    }
   ],
   "source": [
    "countries = {\"India\",\"Pakistan\",\"Russia\",\"Horse\"} # it will maintain sort order\n",
    "print(countries)"
   ]
  },
  {
   "cell_type": "code",
   "execution_count": 32,
   "id": "38168f29-2485-444e-a568-1407cbf3be83",
   "metadata": {},
   "outputs": [
    {
     "ename": "TypeError",
     "evalue": "'set' object is not subscriptable",
     "output_type": "error",
     "traceback": [
      "\u001b[1;31m---------------------------------------------------------------------------\u001b[0m",
      "\u001b[1;31mTypeError\u001b[0m                                 Traceback (most recent call last)",
      "Cell \u001b[1;32mIn[32], line 2\u001b[0m\n\u001b[0;32m      1\u001b[0m \u001b[38;5;66;03m# sets cannot be accessed by index\u001b[39;00m\n\u001b[1;32m----> 2\u001b[0m \u001b[43mcountries\u001b[49m\u001b[43m[\u001b[49m\u001b[38;5;241;43m0\u001b[39;49m\u001b[43m]\u001b[49m\n",
      "\u001b[1;31mTypeError\u001b[0m: 'set' object is not subscriptable"
     ]
    }
   ],
   "source": [
    "# sets cannot be accessed by index\n",
    "countries[0]"
   ]
  },
  {
   "cell_type": "code",
   "execution_count": 33,
   "id": "a94c8b5a-caa4-4e21-9514-391db0f9f511",
   "metadata": {},
   "outputs": [
    {
     "name": "stdout",
     "output_type": "stream",
     "text": [
      "Pakistan\n",
      "Russia\n",
      "Horse\n",
      "India\n"
     ]
    }
   ],
   "source": [
    "# using for loop we can access sets\n",
    "for i in countries:\n",
    "    print(i)"
   ]
  },
  {
   "cell_type": "code",
   "execution_count": 36,
   "id": "0c71ef05-2593-4f8e-bb45-0008ae86d1ba",
   "metadata": {},
   "outputs": [],
   "source": [
    "# declaring empty sets\n",
    "harry1 = {}\n",
    "harry2 = set()"
   ]
  },
  {
   "cell_type": "code",
   "execution_count": 37,
   "id": "8b6be14c-8cd8-455e-a965-3c57f58eb7b9",
   "metadata": {},
   "outputs": [
    {
     "name": "stdout",
     "output_type": "stream",
     "text": [
      "{} set()\n"
     ]
    }
   ],
   "source": [
    "print(harry1,harry2)"
   ]
  },
  {
   "cell_type": "code",
   "execution_count": 38,
   "id": "da2bad59-21b7-4efd-a4f7-f804fc9f49b5",
   "metadata": {},
   "outputs": [
    {
     "name": "stdout",
     "output_type": "stream",
     "text": [
      "4\n"
     ]
    }
   ],
   "source": [
    "print(len(countries))"
   ]
  },
  {
   "cell_type": "markdown",
   "id": "b1c8c926-61cd-4c64-99c1-09a4f7af7b7c",
   "metadata": {},
   "source": [
    "# Set Methods"
   ]
  },
  {
   "cell_type": "code",
   "execution_count": 1,
   "id": "11e17c40-7b7f-4a8e-bab5-6c919cffc584",
   "metadata": {},
   "outputs": [
    {
     "name": "stdout",
     "output_type": "stream",
     "text": [
      "{1, 2, 3, 4, 5}\n"
     ]
    }
   ],
   "source": [
    "set1 = {1,2,3,4}\n",
    "set2 = {1,2,4,5}\n",
    "print(set1.union(set2)) # present in set1,set2 but not both"
   ]
  },
  {
   "cell_type": "code",
   "execution_count": 2,
   "id": "eab99af5-2b3a-40d7-b5f1-99eb0a5fb901",
   "metadata": {},
   "outputs": [
    {
     "name": "stdout",
     "output_type": "stream",
     "text": [
      "{1, 2, 4}\n"
     ]
    }
   ],
   "source": [
    "print(set1.intersection(set2)) # present both values of set1 and set2"
   ]
  },
  {
   "cell_type": "code",
   "execution_count": 3,
   "id": "0f8e8040-938c-45a1-adf4-7b12f18209b2",
   "metadata": {},
   "outputs": [
    {
     "name": "stdout",
     "output_type": "stream",
     "text": [
      "{'Chennai', 'Lakshadweep', 'Punjab', 'Bangalore', 'Hyderabad'}\n",
      "{'Chennai'}\n"
     ]
    }
   ],
   "source": [
    "cities1 = {\"Chennai\",\"Bangalore\",\"Hyderabad\"}\n",
    "cities2 = {\"Punjab\",\"Lakshadweep\",\"Chennai\"}\n",
    "cities3 = cities1.union(cities2)\n",
    "cities4 = cities1.intersection(cities2)\n",
    "print(cities3)\n",
    "print(cities4)"
   ]
  },
  {
   "cell_type": "code",
   "execution_count": 4,
   "id": "2725a111-cfbd-4ac4-b9ab-6255e5e050f8",
   "metadata": {},
   "outputs": [
    {
     "data": {
      "text/plain": [
       "\u001b[1;31mDocstring:\u001b[0m Update a set with the intersection of itself and another.\n",
       "\u001b[1;31mType:\u001b[0m      builtin_function_or_method"
      ]
     },
     "metadata": {},
     "output_type": "display_data"
    }
   ],
   "source": [
    "cities3.intersection_update??"
   ]
  },
  {
   "cell_type": "code",
   "execution_count": 5,
   "id": "587e2bd4-b445-4c00-9c77-43e75518fceb",
   "metadata": {},
   "outputs": [
    {
     "name": "stdout",
     "output_type": "stream",
     "text": [
      "{'Bangladesh', 'Pakistan', 'Dubai', 'India', 'King'}\n"
     ]
    }
   ],
   "source": [
    "countries1 = {\"Pakistan\",\"India\",\"Bangladesh\"}\n",
    "countries2 = {\"Dubai\",\"King\",\"India\"}\n",
    "countries1.update(countries2) # tske union of two sets and update to first set \n",
    "print(countries1)\n",
    "countries3 = {\"Hello\",}"
   ]
  },
  {
   "cell_type": "code",
   "execution_count": 7,
   "id": "6cb28228-5113-4774-9420-5a1821909c69",
   "metadata": {},
   "outputs": [],
   "source": [
    "countries2.intersection_update(countries3) # take intersection and update it to first set\n"
   ]
  },
  {
   "cell_type": "code",
   "execution_count": 8,
   "id": "dca71464-127b-4aad-952a-4629c1e4640a",
   "metadata": {},
   "outputs": [
    {
     "name": "stdout",
     "output_type": "stream",
     "text": [
      "set()\n"
     ]
    }
   ],
   "source": [
    "print(countries2)"
   ]
  },
  {
   "cell_type": "code",
   "execution_count": 5,
   "id": "a216ddb5-8671-40d0-9000-7dfec1c39e74",
   "metadata": {},
   "outputs": [
    {
     "name": "stdout",
     "output_type": "stream",
     "text": [
      "{'Nepal', 'Pakistan', 'SouthAfrica', 'Brazil', 'Bangladesh'}\n"
     ]
    }
   ],
   "source": [
    "# symmetric difference -ignoring the elements present on both sets\n",
    "countries1 = {\"India\",\"Pakistan\",\"Brazil\"}\n",
    "countries2={\"SouthAfrica\",\"Bangladesh\",\"Nepal\",\"India\"}\n",
    "print(countries1.symmetric_difference(countries2))"
   ]
  },
  {
   "cell_type": "code",
   "execution_count": 6,
   "id": "c4edfb68-baa6-4d5d-93b1-53757caf3b99",
   "metadata": {},
   "outputs": [
    {
     "name": "stdout",
     "output_type": "stream",
     "text": [
      "{'Nepal', 'Pakistan', 'SouthAfrica', 'Brazil', 'Bangladesh'}\n"
     ]
    }
   ],
   "source": [
    "# symmeteric_difference_update -peform symmetric_difference update first set with this set\n",
    "countries1.symmetric_difference_update(countries2)\n",
    "print(countries1)"
   ]
  },
  {
   "cell_type": "code",
   "execution_count": 11,
   "id": "8dacf4df-c8de-450a-9d69-0c3b69078ee8",
   "metadata": {},
   "outputs": [
    {
     "name": "stdout",
     "output_type": "stream",
     "text": [
      "{'Caterpillar', 'Larva', 'Hello'}\n",
      "False\n"
     ]
    }
   ],
   "source": [
    "# difference -> A-B present in A but not in B\n",
    "team1={\"Larva\",\"Caterpillar\",\"Hello\",True}\n",
    "team2 = {\"Mapla\",False,123,True}\n",
    "print(team1.difference(team2))\n",
    "print(team1.isdisjoint(team2))"
   ]
  },
  {
   "cell_type": "code",
   "execution_count": 8,
   "id": "71174222-413d-478e-8b3f-8484b8f73c32",
   "metadata": {},
   "outputs": [
    {
     "name": "stdout",
     "output_type": "stream",
     "text": [
      "{'Caterpillar', 'Larva', 'Hello'}\n"
     ]
    }
   ],
   "source": [
    "# difference_update -> A-B is peformed and stored in set A\n",
    "team1.difference_update(team2)\n",
    "print(team1)"
   ]
  },
  {
   "cell_type": "code",
   "execution_count": 9,
   "id": "2e545378-f37d-4e2f-8121-74b4f342cafa",
   "metadata": {},
   "outputs": [
    {
     "data": {
      "text/plain": [
       "True"
      ]
     },
     "execution_count": 9,
     "metadata": {},
     "output_type": "execute_result"
    }
   ],
   "source": [
    "# Disjoint sets - When There is no common element in the set\n",
    "\n",
    "set1={\"Jack\",\"Jhon\",\"Ravi\"}\n",
    "set2={\"Sriram\",\"Murugan\",\"Subash\"}\n",
    "set1.isdisjoint(set2)"
   ]
  },
  {
   "cell_type": "code",
   "execution_count": 13,
   "id": "2319688d-1ea4-436c-bb03-7a7576e6ac75",
   "metadata": {},
   "outputs": [
    {
     "data": {
      "text/plain": [
       "False"
      ]
     },
     "execution_count": 13,
     "metadata": {},
     "output_type": "execute_result"
    }
   ],
   "source": [
    "set1.issuperset(set2)"
   ]
  },
  {
   "cell_type": "code",
   "execution_count": 15,
   "id": "2b490161-9c16-4e05-8471-1b9df770507d",
   "metadata": {},
   "outputs": [
    {
     "data": {
      "text/plain": [
       "True"
      ]
     },
     "execution_count": 15,
     "metadata": {},
     "output_type": "execute_result"
    }
   ],
   "source": [
    "set1 = {1,2,3,4,5,6,7,8,9,10}\n",
    "set2 = {1,2,3,4,5}\n",
    "set1.issuperset(set2)"
   ]
  },
  {
   "cell_type": "code",
   "execution_count": 16,
   "id": "11829d3e-1122-4c83-b4f8-8f9cf4977021",
   "metadata": {},
   "outputs": [
    {
     "data": {
      "text/plain": [
       "False"
      ]
     },
     "execution_count": 16,
     "metadata": {},
     "output_type": "execute_result"
    }
   ],
   "source": [
    "set1.issubset(set2)"
   ]
  },
  {
   "cell_type": "code",
   "execution_count": 19,
   "id": "254c1c4c-d194-43b3-af39-9b6c10599986",
   "metadata": {},
   "outputs": [
    {
     "data": {
      "text/plain": [
       "False"
      ]
     },
     "execution_count": 19,
     "metadata": {},
     "output_type": "execute_result"
    }
   ],
   "source": [
    "# issubset() - checks whether set1 is subset of set2\n",
    "# means all elements of set1 is present in set2\n",
    "set1.issubset(set2)"
   ]
  },
  {
   "cell_type": "code",
   "execution_count": 17,
   "id": "fc4f950e-4ba7-4795-83e2-55679deedd79",
   "metadata": {},
   "outputs": [
    {
     "data": {
      "text/plain": [
       "True"
      ]
     },
     "execution_count": 17,
     "metadata": {},
     "output_type": "execute_result"
    }
   ],
   "source": [
    "set2.issubset(set1)"
   ]
  },
  {
   "cell_type": "code",
   "execution_count": 22,
   "id": "89a14a30-32d8-41ea-b467-4b91a41b4710",
   "metadata": {},
   "outputs": [
    {
     "name": "stdout",
     "output_type": "stream",
     "text": [
      "{1, 2, 3, 4, 5, 6, 7, 8, 9, 10, '23'}\n"
     ]
    }
   ],
   "source": [
    "# add - > add the element\n",
    "set1.add('23')\n",
    "print(set1)"
   ]
  },
  {
   "cell_type": "code",
   "execution_count": 23,
   "id": "fdf635bf-7270-4a07-93da-c166ef998a55",
   "metadata": {},
   "outputs": [],
   "source": [
    "set1.add(34)"
   ]
  },
  {
   "cell_type": "code",
   "execution_count": 24,
   "id": "5c27f11c-c3bc-44e1-a35d-45f8937c3bf0",
   "metadata": {},
   "outputs": [
    {
     "name": "stdout",
     "output_type": "stream",
     "text": [
      "{1, 2, 3, 4, 5, 6, 7, 8, 9, 10, '23', 34}\n"
     ]
    }
   ],
   "source": [
    "print(set1)"
   ]
  },
  {
   "cell_type": "code",
   "execution_count": 25,
   "id": "cf23cbc0-36be-4d88-ad6a-c05c9bb6493a",
   "metadata": {},
   "outputs": [],
   "source": [
    "# remove / discard element - both removes the element while discard does not raises error and remove raises error\n",
    "set1.discard(0)"
   ]
  },
  {
   "cell_type": "code",
   "execution_count": 26,
   "id": "2fd87bea-2dc3-490c-8efb-b8259aef3cec",
   "metadata": {},
   "outputs": [],
   "source": [
    "set1.discard(8)\n"
   ]
  },
  {
   "cell_type": "code",
   "execution_count": 27,
   "id": "c32ace13-d867-4224-9cb0-8bc4d7ac9be5",
   "metadata": {},
   "outputs": [
    {
     "name": "stdout",
     "output_type": "stream",
     "text": [
      "{1, 2, 3, 4, 5, 6, 7, 9, 10, '23', 34}\n"
     ]
    }
   ],
   "source": [
    "print(set1)"
   ]
  },
  {
   "cell_type": "code",
   "execution_count": 28,
   "id": "faf0081e-24d6-4074-85d4-d93a3a8f8dd7",
   "metadata": {},
   "outputs": [
    {
     "ename": "KeyError",
     "evalue": "0",
     "output_type": "error",
     "traceback": [
      "\u001b[1;31m---------------------------------------------------------------------------\u001b[0m",
      "\u001b[1;31mKeyError\u001b[0m                                  Traceback (most recent call last)",
      "Cell \u001b[1;32mIn[28], line 1\u001b[0m\n\u001b[1;32m----> 1\u001b[0m \u001b[43mset1\u001b[49m\u001b[38;5;241;43m.\u001b[39;49m\u001b[43mremove\u001b[49m\u001b[43m(\u001b[49m\u001b[38;5;241;43m0\u001b[39;49m\u001b[43m)\u001b[49m\n",
      "\u001b[1;31mKeyError\u001b[0m: 0"
     ]
    }
   ],
   "source": [
    "set1.remove(0) # raises error"
   ]
  },
  {
   "cell_type": "code",
   "execution_count": 29,
   "id": "1f9eccf4-7757-4ace-96e5-7334861feae8",
   "metadata": {},
   "outputs": [],
   "source": [
    "set1.remove(9)"
   ]
  },
  {
   "cell_type": "code",
   "execution_count": 30,
   "id": "90fcefb9-ea88-4e94-b813-d089a1679a6c",
   "metadata": {},
   "outputs": [
    {
     "name": "stdout",
     "output_type": "stream",
     "text": [
      "{1, 2, 3, 4, 5, 6, 7, 10, '23', 34}\n"
     ]
    }
   ],
   "source": [
    "print(set1)"
   ]
  },
  {
   "cell_type": "code",
   "execution_count": 32,
   "id": "0be33039-576d-4d67-a88f-8660da4ab63f",
   "metadata": {},
   "outputs": [
    {
     "name": "stdout",
     "output_type": "stream",
     "text": [
      "2\n",
      "{3, 4, 5, 6, 7, 10, '23', 34}\n"
     ]
    }
   ],
   "source": [
    "# pop - it is used to remove last element but we did not know which elemnt is deleted but can access assign variable to it\n",
    "print(set1.pop())\n",
    "print(set1)"
   ]
  },
  {
   "cell_type": "code",
   "execution_count": 33,
   "id": "94e93ebf-e686-4aad-ac07-2163f24b5a2c",
   "metadata": {},
   "outputs": [
    {
     "name": "stdout",
     "output_type": "stream",
     "text": [
      "{1, 2, 3, 4, 5}\n"
     ]
    }
   ],
   "source": [
    "print(set2)"
   ]
  },
  {
   "cell_type": "code",
   "execution_count": 34,
   "id": "0b83fd04-8252-42f0-8a0e-2f5fc9140292",
   "metadata": {},
   "outputs": [],
   "source": [
    "del set2 # delete entire set"
   ]
  },
  {
   "cell_type": "code",
   "execution_count": 36,
   "id": "c9c3982a-1d1d-43d2-baa1-0ed8bf36fc7c",
   "metadata": {},
   "outputs": [
    {
     "ename": "NameError",
     "evalue": "name 'set2' is not defined",
     "output_type": "error",
     "traceback": [
      "\u001b[1;31m---------------------------------------------------------------------------\u001b[0m",
      "\u001b[1;31mNameError\u001b[0m                                 Traceback (most recent call last)",
      "Cell \u001b[1;32mIn[36], line 1\u001b[0m\n\u001b[1;32m----> 1\u001b[0m \u001b[38;5;28mprint\u001b[39m(\u001b[43mset2\u001b[49m)\n",
      "\u001b[1;31mNameError\u001b[0m: name 'set2' is not defined"
     ]
    }
   ],
   "source": [
    "print(set2)"
   ]
  },
  {
   "cell_type": "markdown",
   "id": "a64aa0c2-8763-4812-924a-81396bc33f71",
   "metadata": {},
   "source": [
    "set1.clear() # clear the values inside set\n",
    "print(set1)"
   ]
  },
  {
   "cell_type": "code",
   "execution_count": 38,
   "id": "78cd9a98-cd7d-48dc-a093-fc71dc31edf5",
   "metadata": {},
   "outputs": [
    {
     "data": {
      "text/plain": [
       "False"
      ]
     },
     "execution_count": 38,
     "metadata": {},
     "output_type": "execute_result"
    }
   ],
   "source": [
    "# Member ship operator to check value is present in set or not\n",
    "\"Hello\" in set1"
   ]
  },
  {
   "cell_type": "markdown",
   "id": "db993b75-3ac7-4906-880a-e00095ec18a4",
   "metadata": {},
   "source": [
    "# Dictonaries in python"
   ]
  },
  {
   "cell_type": "markdown",
   "id": "a3ec8d2f-3f5c-48bc-b847-aee9a9e8c1be",
   "metadata": {},
   "source": [
    "dictonary is ordered collection of data and multiple datas are stored in single variable"
   ]
  },
  {
   "cell_type": "code",
   "execution_count": 31,
   "id": "7e6c4eba-2bfc-4d5a-b6bd-a41299d11f95",
   "metadata": {},
   "outputs": [
    {
     "name": "stdout",
     "output_type": "stream",
     "text": [
      "{'name': 'ThiruMurugan', 'email': '727722eucs191@skcet.ac.in', 'age': 21, 'gender': 'Male'}\n"
     ]
    }
   ],
   "source": [
    "studentData={\n",
    "    \"name\":\"ThiruMurugan\",\n",
    "    \"email\":\"727722eucs191@skcet.ac.in\",\n",
    "    \"age\":21,\n",
    "    \"gender\":\"Male\"\n",
    "}\n",
    "print(studentData)\n",
    "    "
   ]
  },
  {
   "cell_type": "code",
   "execution_count": 32,
   "id": "acad432d-b746-4820-ba08-3afce26c7a66",
   "metadata": {},
   "outputs": [
    {
     "name": "stdout",
     "output_type": "stream",
     "text": [
      "ThiruMurugan\n"
     ]
    }
   ],
   "source": [
    "print(studentData['name']) # we can access by keys"
   ]
  },
  {
   "cell_type": "markdown",
   "id": "40d21982-ba04-4af7-8e6d-f9c13fe667cb",
   "metadata": {},
   "source": [
    "{\n",
    "    \"key\":\"value\"\n",
    "}\n",
    "1) to print keys dict.keys() is used\n",
    "2) to print values dict.values() is used\n"
   ]
  },
  {
   "cell_type": "code",
   "execution_count": 33,
   "id": "6216d4af-0a8d-41c2-b66f-876486af6ef6",
   "metadata": {},
   "outputs": [
    {
     "name": "stdout",
     "output_type": "stream",
     "text": [
      "dict_keys(['name', 'email', 'age', 'gender'])\n"
     ]
    }
   ],
   "source": [
    "# print keys of dictonary by dict.keys() method\n",
    "print(studentData.keys())"
   ]
  },
  {
   "cell_type": "code",
   "execution_count": 34,
   "id": "9480ab87-fa6d-4902-8fc0-eaa45c848d81",
   "metadata": {},
   "outputs": [
    {
     "name": "stdout",
     "output_type": "stream",
     "text": [
      "dict_values(['ThiruMurugan', '727722eucs191@skcet.ac.in', 21, 'Male'])\n"
     ]
    }
   ],
   "source": [
    "# print values of dictionary by dict.values() method\n",
    "print(studentData.values())"
   ]
  },
  {
   "cell_type": "code",
   "execution_count": 35,
   "id": "48d03b6d-2035-45a9-87ff-5fed007984f2",
   "metadata": {},
   "outputs": [
    {
     "name": "stdout",
     "output_type": "stream",
     "text": [
      "The value corresponding to name is ThiruMurugan\n",
      "The value corresponding to email is 727722eucs191@skcet.ac.in\n",
      "The value corresponding to age is 21\n",
      "The value corresponding to gender is Male\n"
     ]
    }
   ],
   "source": [
    "# Access dict by for loop\n",
    "for key in studentData.keys():\n",
    "    print(f\"The value corresponding to {key} is {studentData[key]}\")"
   ]
  },
  {
   "cell_type": "code",
   "execution_count": 36,
   "id": "1b481e68-ab2a-4ce9-bcb6-42d757be515d",
   "metadata": {},
   "outputs": [
    {
     "name": "stdout",
     "output_type": "stream",
     "text": [
      "The key is name and corresponding value is ThiruMurugan\n",
      "The key is email and corresponding value is 727722eucs191@skcet.ac.in\n",
      "The key is age and corresponding value is 21\n",
      "The key is gender and corresponding value is Male\n"
     ]
    }
   ],
   "source": [
    "# Access dict by for loop with help of items()method\n",
    "for key,value in studentData.items():\n",
    "    print(f\"The key is {key} and corresponding value is {value}\")"
   ]
  },
  {
   "cell_type": "code",
   "execution_count": 37,
   "id": "8ee60919-23ed-48ab-a9a0-80d79d8ad4d5",
   "metadata": {},
   "outputs": [
    {
     "name": "stdout",
     "output_type": "stream",
     "text": [
      "dict_items([('name', 'ThiruMurugan'), ('email', '727722eucs191@skcet.ac.in'), ('age', 21), ('gender', 'Male')])\n"
     ]
    }
   ],
   "source": [
    "print(studentData.items())"
   ]
  },
  {
   "cell_type": "code",
   "execution_count": 38,
   "id": "f7876c37-9b43-4096-9c6f-de601363312b",
   "metadata": {},
   "outputs": [
    {
     "name": "stdout",
     "output_type": "stream",
     "text": [
      "{'name': 'ThiruMurugan', 'email': '727722eucs191@skcet.ac.in', 'age': 21, 'gender': 'Male'}\n",
      "{'name': 'ThiruMurugan', 'email': '727722eucs191@skcet.ac.in', 'age': 18, 'gender': 'Male', 'Dob': '16/7/2005'}\n"
     ]
    }
   ],
   "source": [
    "# update is method accepts key:value pair if key exists it updates values else create a new key-value pair\n",
    "print(studentData)\n",
    "studentData.update({\"age\":18})\n",
    "studentData.update({\"Dob\":\"16/7/2005\"})\n",
    "print(studentData)"
   ]
  },
  {
   "cell_type": "code",
   "execution_count": 39,
   "id": "d05bdff1-c93b-49fa-8bd9-84a58ae6478f",
   "metadata": {},
   "outputs": [
    {
     "name": "stdout",
     "output_type": "stream",
     "text": [
      "{'email': '727722eucs191@skcet.ac.in', 'age': 18, 'gender': 'Male', 'Dob': '16/7/2005'}\n"
     ]
    }
   ],
   "source": [
    "# remove th eparticular value by key =.pop(key) is used\n",
    "studentData.pop(\"name\")\n",
    "print(studentData)"
   ]
  },
  {
   "cell_type": "code",
   "execution_count": 40,
   "id": "2b4c59dc-2a17-43a0-a7e4-ab0a3fbbb7af",
   "metadata": {},
   "outputs": [
    {
     "data": {
      "text/plain": [
       "('Dob', '16/7/2005')"
      ]
     },
     "execution_count": 40,
     "metadata": {},
     "output_type": "execute_result"
    }
   ],
   "source": [
    "# remove the last key:value pair popitem() method is used\n",
    "studentData.popitem()"
   ]
  },
  {
   "cell_type": "code",
   "execution_count": 41,
   "id": "b2feb0f0-43ab-4b98-8966-83173b9bc89f",
   "metadata": {},
   "outputs": [
    {
     "name": "stdout",
     "output_type": "stream",
     "text": [
      "{'email': '727722eucs191@skcet.ac.in', 'age': 18, 'gender': 'Male'}\n"
     ]
    }
   ],
   "source": [
    "print(studentData)"
   ]
  },
  {
   "cell_type": "code",
   "execution_count": 42,
   "id": "ae785209-4999-458e-89f3-8b4a0805dade",
   "metadata": {},
   "outputs": [],
   "source": [
    "s={\n",
    "    123:\"Subash\",\n",
    "    124:\"Sriram\"\n",
    "}\n",
    "s.clear() # it clear all the values inside the dict"
   ]
  },
  {
   "cell_type": "code",
   "execution_count": 43,
   "id": "9577cc2b-9804-41f8-a87b-9fc67a24259d",
   "metadata": {},
   "outputs": [
    {
     "name": "stdout",
     "output_type": "stream",
     "text": [
      "{}\n"
     ]
    }
   ],
   "source": [
    "print(s)"
   ]
  },
  {
   "cell_type": "code",
   "execution_count": 44,
   "id": "aca62fc6-7382-471f-8525-5ec9dc2e14d0",
   "metadata": {},
   "outputs": [],
   "source": [
    "del studentData[\"email\"] # del method deletes the particular value by key in dictonary"
   ]
  },
  {
   "cell_type": "code",
   "execution_count": 45,
   "id": "44d1fdb1-d6b8-494e-a69d-4691cf431b8a",
   "metadata": {},
   "outputs": [
    {
     "name": "stdout",
     "output_type": "stream",
     "text": [
      "{'age': 18, 'gender': 'Male'}\n"
     ]
    }
   ],
   "source": [
    "print(studentData)"
   ]
  },
  {
   "cell_type": "code",
   "execution_count": 46,
   "id": "a4b820d3-420b-45fa-9a3d-e914ceb3dd58",
   "metadata": {},
   "outputs": [],
   "source": [
    "del studentData # if key not provided delete the entire dict"
   ]
  },
  {
   "cell_type": "code",
   "execution_count": 47,
   "id": "7861f10f-7458-4552-b03c-2d1e9b031dd1",
   "metadata": {},
   "outputs": [
    {
     "ename": "NameError",
     "evalue": "name 'studentData' is not defined",
     "output_type": "error",
     "traceback": [
      "\u001b[1;31m---------------------------------------------------------------------------\u001b[0m",
      "\u001b[1;31mNameError\u001b[0m                                 Traceback (most recent call last)",
      "Cell \u001b[1;32mIn[47], line 1\u001b[0m\n\u001b[1;32m----> 1\u001b[0m \u001b[38;5;28mprint\u001b[39m(\u001b[43mstudentData\u001b[49m)\n",
      "\u001b[1;31mNameError\u001b[0m: name 'studentData' is not defined"
     ]
    }
   ],
   "source": [
    "print(studentData)"
   ]
  },
  {
   "cell_type": "code",
   "execution_count": null,
   "id": "b1d36c55-14c8-4323-afbe-2d6df743cd08",
   "metadata": {},
   "outputs": [],
   "source": []
  }
 ],
 "metadata": {
  "kernelspec": {
   "display_name": "Python 3 (ipykernel)",
   "language": "python",
   "name": "python3"
  },
  "language_info": {
   "codemirror_mode": {
    "name": "ipython",
    "version": 3
   },
   "file_extension": ".py",
   "mimetype": "text/x-python",
   "name": "python",
   "nbconvert_exporter": "python",
   "pygments_lexer": "ipython3",
   "version": "3.12.2"
  }
 },
 "nbformat": 4,
 "nbformat_minor": 5
}

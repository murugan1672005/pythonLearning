{
 "cells": [
  {
   "cell_type": "markdown",
   "id": "89dbc796",
   "metadata": {},
   "source": [
    "Hello World is the first program we always learn in programming languages \n",
    "python in order to print something to console print() function is used"
   ]
  },
  {
   "cell_type": "code",
   "execution_count": 2,
   "id": "a86f8d10",
   "metadata": {},
   "outputs": [
    {
     "name": "stdout",
     "output_type": "stream",
     "text": [
      "Hello World\n"
     ]
    }
   ],
   "source": [
    "print(\"Hello World\")"
   ]
  },
  {
   "cell_type": "markdown",
   "id": "b4ba580b",
   "metadata": {},
   "source": [
    "print() function has attributes like end,sep while end describes about how two print statments should end with but default newnline \\n character , sep is used to give\n",
    "seperate within print() function statement while default is \" \""
   ]
  },
  {
   "cell_type": "code",
   "execution_count": 2,
   "id": "a1722e4d",
   "metadata": {},
   "outputs": [
    {
     "name": "stdout",
     "output_type": "stream",
     "text": [
      "Hello World\n"
     ]
    }
   ],
   "source": [
    "print(\"Hello World\");"
   ]
  },
  {
   "cell_type": "code",
   "execution_count": 3,
   "id": "65c7b6cd",
   "metadata": {},
   "outputs": [
    {
     "name": "stdout",
     "output_type": "stream",
     "text": [
      "Hi Ramesh i am here /The girl is in your person i think?Probably it is misunderstanding\n"
     ]
    }
   ],
   "source": [
    "print(\"Hi Ramesh i am here \",end = \"/\");\n",
    "print(\"The girl is in your person i think\",\"Probably it is misunderstanding\",sep=\"?\");\n"
   ]
  },
  {
   "cell_type": "code",
   "execution_count": 5,
   "id": "a6f0f2d4",
   "metadata": {},
   "outputs": [
    {
     "name": "stdout",
     "output_type": "stream",
     "text": [
      "'Hello' World\n"
     ]
    }
   ],
   "source": [
    "print(\"'Hello' World\");"
   ]
  },
  {
   "cell_type": "code",
   "execution_count": 6,
   "id": "0d4cfdbd",
   "metadata": {},
   "outputs": [
    {
     "name": "stdout",
     "output_type": "stream",
     "text": [
      "\"Hello World\"\n"
     ]
    }
   ],
   "source": [
    "print(\"\\\"Hello World\\\"\");# Escape Sequences"
   ]
  },
  {
   "cell_type": "code",
   "execution_count": 8,
   "id": "d85e8f35",
   "metadata": {},
   "outputs": [
    {
     "name": "stdout",
     "output_type": "stream",
     "text": [
      "Hello World I am president \n",
      "      from now on you are going to be my peoples \n"
     ]
    }
   ],
   "source": [
    "print(\"\"\"Hello World I am president \n",
    "      from now on you are going to be my peoples \"\"\"); # printing multiple lines"
   ]
  },
  {
   "cell_type": "code",
   "execution_count": 10,
   "id": "fba5f436",
   "metadata": {},
   "outputs": [
    {
     "name": "stdout",
     "output_type": "stream",
     "text": [
      "Hello World is program \n",
      "      in you like \n"
     ]
    }
   ],
   "source": [
    "print('''Hello World is program \n",
    "      in you like ''');"
   ]
  },
  {
   "cell_type": "markdown",
   "id": "b80df8a8",
   "metadata": {},
   "source": [
    "variables are containers of data that variable holds \n",
    "data types \n",
    "1) integer\n",
    "2) float\n",
    "3) complex\n",
    "4) boolean\n",
    "5) string\n",
    "6) none\n",
    "7) list\n",
    "8) tuple\n",
    "9) set\n",
    "10) dictionary\n"
   ]
  },
  {
   "cell_type": "code",
   "execution_count": 11,
   "id": "8d81eda4",
   "metadata": {},
   "outputs": [
    {
     "name": "stdout",
     "output_type": "stream",
     "text": [
      "<class 'int'>\n",
      "<class 'float'>\n",
      "<class 'complex'>\n",
      "<class 'bool'> <class 'bool'>\n",
      "<class 'NoneType'>\n",
      "<class 'list'>\n",
      "<class 'tuple'>\n",
      "<class 'dict'>\n"
     ]
    }
   ],
   "source": [
    "# type() function 0 tells the data type of variable\n",
    "a = 21\n",
    "print(type(a))\n",
    "b = 22.33\n",
    "print(type(b))\n",
    "c = 3+4j\n",
    "print(type(c))\n",
    "d = False\n",
    "e = True\n",
    "print(type(d),type(e))\n",
    "f = None\n",
    "print(type(f))\n",
    "g = [1,2,3]\n",
    "print(type(g))\n",
    "h = (1,2,3)\n",
    "print(type(h))\n",
    "i = {\n",
    "    \"name\":\"Thiru\",\n",
    "    \"age\":21,\n",
    "    \"gender\":\"Male\",\n",
    "    \"address\":\"Theni\"\n",
    "}\n",
    "print(type(i));"
   ]
  },
  {
   "cell_type": "code",
   "execution_count": 12,
   "id": "5372a258",
   "metadata": {},
   "outputs": [
    {
     "name": "stdout",
     "output_type": "stream",
     "text": [
      "<class 'str'>\n"
     ]
    }
   ],
   "source": [
    "print(type(\"T\"))"
   ]
  },
  {
   "cell_type": "code",
   "execution_count": 14,
   "id": "1f7e450a",
   "metadata": {},
   "outputs": [
    {
     "name": "stdout",
     "output_type": "stream",
     "text": [
      "<class 'set'>\n"
     ]
    }
   ],
   "source": [
    "g = set();\n",
    "print(type(g))"
   ]
  },
  {
   "cell_type": "markdown",
   "id": "65451a3a",
   "metadata": {},
   "source": [
    "Operators\n",
    "Operators are used to perform operations\n",
    "1) Aritemetic Operators\n",
    "2) Logical Operators\n",
    "3) Relational Operators\n",
    "4) Bitwise Operators\n",
    "5) Assignment Operators\n"
   ]
  },
  {
   "cell_type": "code",
   "execution_count": 15,
   "id": "02e68145",
   "metadata": {},
   "outputs": [
    {
     "name": "stdout",
     "output_type": "stream",
     "text": [
      "44\n",
      "-2\n",
      "0.9130434782608695\n",
      "21\n"
     ]
    }
   ],
   "source": [
    "# operators \n",
    "# Arithemetic Operators\n",
    "x = 21 \n",
    "y = 23\n",
    "print(x+y); #ADD\n",
    "print(x-y); # SUBRACT\n",
    "print(x/y); # FLOAT DIVISION\n",
    "print(x%y); # MODULUS TO FIND REMAINDER\n"
   ]
  },
  {
   "cell_type": "code",
   "execution_count": 16,
   "id": "cbdca098",
   "metadata": {},
   "outputs": [
    {
     "name": "stdout",
     "output_type": "stream",
     "text": [
      "483\n",
      "0\n",
      "8\n"
     ]
    }
   ],
   "source": [
    "print(x*y); # MULTIPLY\n",
    "print(x//y); # INTEGER DIVISION\n",
    "z1 = 3\n",
    "z2 = 2\n",
    "print(z2**z1); # POWER OPERATOR\n"
   ]
  },
  {
   "cell_type": "code",
   "execution_count": 1,
   "id": "7e0574b2",
   "metadata": {},
   "outputs": [
    {
     "name": "stdout",
     "output_type": "stream",
     "text": [
      "HelloWorld\n",
      "\" Hello\"\"\" Hello\"\"\" Hello\"\"/WorldWorldWorldWorld\n"
     ]
    }
   ],
   "source": [
    "# CONCATENATION OPERATOR and Multiply for Strings\n",
    "print(\"Hello\"+\"World\");\n",
    "# Multiplying operator\n",
    "print(\"\\\" Hello\\\"\\\"\"*3,\"World\"*4,sep=\"/\");"
   ]
  },
  {
   "cell_type": "code",
   "execution_count": 3,
   "id": "ac02465a",
   "metadata": {},
   "outputs": [
    {
     "name": "stdout",
     "output_type": "stream",
     "text": [
      "30\n",
      "50\n"
     ]
    }
   ],
   "source": [
    "a = 20\n",
    "b=30\n",
    "print(b)\n",
    "b+=a # Assignment operator\n",
    "print(b)\n"
   ]
  },
  {
   "cell_type": "code",
   "execution_count": 4,
   "id": "4993f854",
   "metadata": {},
   "outputs": [
    {
     "name": "stdout",
     "output_type": "stream",
     "text": [
      "True\n",
      "False\n",
      "False\n",
      "True\n"
     ]
    }
   ],
   "source": [
    "# Logical operators\n",
    "age = 20\n",
    "print(age > 18) # greater than\n",
    "print(age < 18) # lesser than\n",
    "print(age<=18) # greater than or equal to\n",
    "print(age>=18) # lesser than or equal to\n"
   ]
  },
  {
   "cell_type": "code",
   "execution_count": 6,
   "id": "aadfbcf4",
   "metadata": {},
   "outputs": [
    {
     "name": "stdout",
     "output_type": "stream",
     "text": [
      "True\n",
      "False\n"
     ]
    }
   ],
   "source": [
    "print(age == 20) # equal to\n",
    "print(age!=20) # not equal to"
   ]
  },
  {
   "cell_type": "code",
   "execution_count": 7,
   "id": "b2ea41cf",
   "metadata": {},
   "outputs": [
    {
     "name": "stdout",
     "output_type": "stream",
     "text": [
      "True\n"
     ]
    }
   ],
   "source": [
    "# Relational operators\n",
    "print(age >18 and age<=20) # and operator"
   ]
  },
  {
   "cell_type": "code",
   "execution_count": 8,
   "id": "00ae89fb",
   "metadata": {},
   "outputs": [
    {
     "name": "stdout",
     "output_type": "stream",
     "text": [
      "False\n"
     ]
    }
   ],
   "source": [
    "print(age<0 and age>=20)"
   ]
  },
  {
   "cell_type": "code",
   "execution_count": 9,
   "id": "39183d1f",
   "metadata": {},
   "outputs": [
    {
     "name": "stdout",
     "output_type": "stream",
     "text": [
      "True\n"
     ]
    }
   ],
   "source": [
    "print(age<0 or age>=20) # or operator"
   ]
  },
  {
   "cell_type": "code",
   "execution_count": 12,
   "id": "d395d50d",
   "metadata": {},
   "outputs": [
    {
     "name": "stdout",
     "output_type": "stream",
     "text": [
      "True\n"
     ]
    }
   ],
   "source": [
    "print(not age !=20) # NOT operator"
   ]
  },
  {
   "cell_type": "code",
   "execution_count": 15,
   "id": "b1ebacb3",
   "metadata": {},
   "outputs": [
    {
     "name": "stdout",
     "output_type": "stream",
     "text": [
      "10\n",
      "40\n"
     ]
    }
   ],
   "source": [
    "# bitwise operator\n",
    "a = 20\n",
    "print(a>>1) # right shift\n",
    "print(a<<1) # left shift"
   ]
  },
  {
   "cell_type": "code",
   "execution_count": 16,
   "id": "dfb0a960",
   "metadata": {},
   "outputs": [
    {
     "name": "stdout",
     "output_type": "stream",
     "text": [
      "even\n"
     ]
    }
   ],
   "source": [
    "if (a & 1 == 0): \n",
    "    print(\"even\");\n",
    "else:\n",
    "    print(\"odd\");"
   ]
  },
  {
   "cell_type": "code",
   "execution_count": 17,
   "id": "3fd42a7e",
   "metadata": {},
   "outputs": [
    {
     "name": "stdout",
     "output_type": "stream",
     "text": [
      "\n",
      "Here is a list of the Python keywords.  Enter any keyword to get more help.\n",
      "\n",
      "False               class               from                or\n",
      "None                continue            global              pass\n",
      "True                def                 if                  raise\n",
      "and                 del                 import              return\n",
      "as                  elif                in                  try\n",
      "assert              else                is                  while\n",
      "async               except              lambda              with\n",
      "await               finally             nonlocal            yield\n",
      "break               for                 not                 \n",
      "\n"
     ]
    }
   ],
   "source": [
    "help(\"keywords\"); # help keywords is to explain the python documentation"
   ]
  },
  {
   "cell_type": "markdown",
   "id": "f6eb84c3",
   "metadata": {},
   "source": [
    "We are learn getting input from user\n",
    "when we take input from user input() function we will return as always string"
   ]
  },
  {
   "cell_type": "markdown",
   "id": "520576c3",
   "metadata": {},
   "source": [
    "Now Type cast to integer ,string ,float"
   ]
  },
  {
   "cell_type": "code",
   "execution_count": 18,
   "id": "34acfcfd",
   "metadata": {},
   "outputs": [
    {
     "name": "stdout",
     "output_type": "stream",
     "text": [
      "ThiruMuruganHello\n",
      "Everything is opened\n"
     ]
    }
   ],
   "source": [
    "# input() function to take inputs\n",
    "b = input(\"Enter Your Username :\");\n",
    "c = input(\"Enter your Password : \");\n",
    "print(b+c);\n",
    "print(\"Everything is opened\")"
   ]
  },
  {
   "cell_type": "code",
   "execution_count": 19,
   "id": "953b7abb",
   "metadata": {},
   "outputs": [
    {
     "name": "stdout",
     "output_type": "stream",
     "text": [
      "25\n"
     ]
    }
   ],
   "source": [
    "a = int(input(\"Get a Number1 : \"))\n",
    "b = int(input(\"Get a Number2 : \"))\n",
    "print(a+b);"
   ]
  },
  {
   "cell_type": "code",
   "execution_count": 20,
   "id": "75f8713e",
   "metadata": {},
   "outputs": [
    {
     "name": "stdout",
     "output_type": "stream",
     "text": [
      "-22.110000000000003\n"
     ]
    }
   ],
   "source": [
    "a = float(input(\"Get a float1 :\"))\n",
    "b= float(input(\"Get a float2 : \"))\n",
    "print(a-b)"
   ]
  },
  {
   "cell_type": "code",
   "execution_count": 21,
   "id": "17bbe07d",
   "metadata": {},
   "outputs": [
    {
     "name": "stdout",
     "output_type": "stream",
     "text": [
      "<class 'int'>\n"
     ]
    }
   ],
   "source": [
    "a= 23\n",
    "print(type(a))\n"
   ]
  },
  {
   "cell_type": "code",
   "execution_count": 24,
   "id": "5fb4b342",
   "metadata": {},
   "outputs": [
    {
     "name": "stdout",
     "output_type": "stream",
     "text": [
      "<class 'str'>\n"
     ]
    }
   ],
   "source": [
    "a = str(a)\n",
    "print(type(a))"
   ]
  },
  {
   "cell_type": "markdown",
   "id": "ad0ad851",
   "metadata": {},
   "source": [
    "Change boolean ,string,list,tuple,set"
   ]
  },
  {
   "cell_type": "code",
   "execution_count": 34,
   "id": "992b2d91",
   "metadata": {},
   "outputs": [
    {
     "name": "stdout",
     "output_type": "stream",
     "text": [
      "True\n",
      "<class 'str'>\n",
      "<class 'bool'>\n"
     ]
    }
   ],
   "source": [
    "a= True\n",
    "print(a)\n",
    "a = str(a)\n",
    "print(type(a))\n",
    "b = \"False\";\n",
    "b=bool(b)\n",
    "print(type(b))\n"
   ]
  },
  {
   "cell_type": "code",
   "execution_count": 33,
   "id": "1b3315bb",
   "metadata": {},
   "outputs": [
    {
     "name": "stdout",
     "output_type": "stream",
     "text": [
      "<class 'list'>\n",
      "<class 'tuple'>\n",
      "<class 'set'>\n"
     ]
    }
   ],
   "source": [
    "list = [1,2,3]\n",
    "print(type(list))\n",
    "list = tuple(list)\n",
    "print(type(list))\n",
    "list = set(list)\n",
    "print(type(list))"
   ]
  },
  {
   "cell_type": "code",
   "execution_count": 52,
   "id": "8c3515b7",
   "metadata": {},
   "outputs": [
    {
     "name": "stdout",
     "output_type": "stream",
     "text": [
      "65\n",
      "A\n"
     ]
    }
   ],
   "source": [
    "print(ord(\"A\"))\n",
    "print(chr(65))\n"
   ]
  },
  {
   "cell_type": "code",
   "execution_count": 53,
   "id": "8f7ae8ce",
   "metadata": {},
   "outputs": [
    {
     "name": "stdout",
     "output_type": "stream",
     "text": [
      "Help on built-in function print in module builtins:\n",
      "\n",
      "print(*args, sep=' ', end='\\n', file=None, flush=False)\n",
      "    Prints the values to a stream, or to sys.stdout by default.\n",
      "\n",
      "    sep\n",
      "      string inserted between values, default a space.\n",
      "    end\n",
      "      string appended after the last value, default a newline.\n",
      "    file\n",
      "      a file-like object (stream); defaults to the current sys.stdout.\n",
      "    flush\n",
      "      whether to forcibly flush the stream.\n",
      "\n"
     ]
    }
   ],
   "source": [
    "help(\"print\")"
   ]
  },
  {
   "cell_type": "markdown",
   "id": "b0b22eba",
   "metadata": {},
   "source": [
    "1) is operator checks whether operands located to same value or same memory location\n",
    "2) in operator checks whether first operand is present in another operand"
   ]
  },
  {
   "cell_type": "code",
   "execution_count": 1,
   "id": "b99d3b17",
   "metadata": {},
   "outputs": [
    {
     "data": {
      "text/plain": [
       "True"
      ]
     },
     "execution_count": 1,
     "metadata": {},
     "output_type": "execute_result"
    }
   ],
   "source": [
    "a= 20\n",
    "b = 20\n",
    "a is b"
   ]
  },
  {
   "cell_type": "code",
   "execution_count": 64,
   "id": "5329b2a6",
   "metadata": {},
   "outputs": [
    {
     "data": {
      "text/plain": [
       "True"
      ]
     },
     "execution_count": 64,
     "metadata": {},
     "output_type": "execute_result"
    }
   ],
   "source": [
    "\"Thiru\" in \"ThiruMurugan\""
   ]
  },
  {
   "cell_type": "markdown",
   "id": "2d6fb880",
   "metadata": {},
   "source": [
    "1) ord() is uses to encode characters to chracter\n",
    "2) chr() is used to decode back to characters"
   ]
  },
  {
   "cell_type": "code",
   "execution_count": 2,
   "id": "9043e5b3",
   "metadata": {},
   "outputs": [
    {
     "data": {
      "text/plain": [
       "'😄'"
      ]
     },
     "execution_count": 2,
     "metadata": {},
     "output_type": "execute_result"
    }
   ],
   "source": [
    "ord(\"A\")\n",
    "chr(128516)"
   ]
  },
  {
   "cell_type": "markdown",
   "id": "e2786795",
   "metadata": {},
   "source": [
    "1) Conditional Statements are used to control the statements\n",
    "2) We used some conditions as people as like that\n",
    "3) if statement elif else statement\n"
   ]
  },
  {
   "cell_type": "code",
   "execution_count": 9,
   "id": "9484eaf9",
   "metadata": {},
   "outputs": [
    {
     "name": "stdout",
     "output_type": "stream",
     "text": [
      "You can permit to vote only\n"
     ]
    }
   ],
   "source": [
    "age = int(input(\"Enter The Age of Person : \"))\n",
    "if age <21 and age>=18:\n",
    "    print(\"You can permit to vote only\")\n",
    "elif age >=18:\n",
    "    print(\"You can permit to vote and marry \")\n",
    "else:\n",
    "    print(\"You are Minor!\")\n",
    "    "
   ]
  },
  {
   "cell_type": "markdown",
   "id": "89f0802a",
   "metadata": {},
   "source": [
    "Match case statements\n",
    "1) Like C++ Match case statements are like switch statements with one variable comparing with diiferent values"
   ]
  },
  {
   "cell_type": "code",
   "execution_count": 2,
   "id": "a22e22e7",
   "metadata": {},
   "outputs": [
    {
     "name": "stdout",
     "output_type": "stream",
     "text": [
      "Invalid Input\n"
     ]
    }
   ],
   "source": [
    "num = int(input(\"Enter a Month :\"))\n",
    "match num:\n",
    "    case 1:\n",
    "        print(\"January\")\n",
    "    case 2:\n",
    "        print(\"Feburuary\")\n",
    "    case 3:\n",
    "        print(\"March\")\n",
    "    case 4:\n",
    "        print(\"April\")\n",
    "    case 5:\n",
    "        print(\"May\")\n",
    "    case 6:\n",
    "        print(\"June\")\n",
    "    case 7:\n",
    "        print(\"July\")\n",
    "    case 8:\n",
    "        print(\"August\")\n",
    "    case 9:\n",
    "        print(\"September\")\n",
    "    case 10:\n",
    "        print(\"October\")\n",
    "    case 11:\n",
    "        print(\"November\")\n",
    "    case 12:\n",
    "        print(\"December\")\n",
    "    case _: # default\n",
    "        print(\"Invalid Input\")"
   ]
  },
  {
   "cell_type": "code",
   "execution_count": 2,
   "id": "e772c93f",
   "metadata": {},
   "outputs": [
    {
     "name": "stdout",
     "output_type": "stream",
     "text": [
      "range(0, 12)\n"
     ]
    }
   ],
   "source": [
    "# Looping statements\n",
    "range(0,12);\n",
    "\n",
    "print(range(0,12))"
   ]
  },
  {
   "cell_type": "code",
   "execution_count": 3,
   "id": "61925efb",
   "metadata": {},
   "outputs": [
    {
     "name": "stdout",
     "output_type": "stream",
     "text": [
      "0\n",
      "1\n",
      "2\n",
      "3\n",
      "4\n",
      "5\n",
      "6\n",
      "7\n",
      "8\n",
      "9\n",
      "10\n",
      "11\n"
     ]
    }
   ],
   "source": [
    "for i in range(0,12): # 0 to n-1\n",
    "    print(i)"
   ]
  },
  {
   "cell_type": "code",
   "execution_count": 4,
   "id": "2de893c0",
   "metadata": {},
   "outputs": [
    {
     "name": "stdout",
     "output_type": "stream",
     "text": [
      "0\n",
      "2\n",
      "4\n",
      "6\n",
      "8\n",
      "10\n"
     ]
    }
   ],
   "source": [
    "for i in range(0,12,2): # jump is 2\n",
    "    print(i)"
   ]
  },
  {
   "cell_type": "code",
   "execution_count": 5,
   "id": "2e8d04ff",
   "metadata": {},
   "outputs": [
    {
     "name": "stdout",
     "output_type": "stream",
     "text": [
      "10\n",
      "9\n",
      "8\n",
      "7\n",
      "6\n",
      "5\n",
      "4\n",
      "3\n",
      "2\n",
      "1\n"
     ]
    }
   ],
   "source": [
    "for i in range(10,0,-1): # iterating from backwards negative jump\n",
    "    print(i)"
   ]
  },
  {
   "cell_type": "code",
   "execution_count": 6,
   "id": "dd8f8fd1",
   "metadata": {},
   "outputs": [
    {
     "name": "stdout",
     "output_type": "stream",
     "text": [
      "10\n",
      "8\n",
      "6\n",
      "4\n",
      "2\n"
     ]
    }
   ],
   "source": [
    "for i in range(10,0,-2):\n",
    "    print(i)"
   ]
  },
  {
   "cell_type": "code",
   "execution_count": 9,
   "id": "1e4f2b75",
   "metadata": {},
   "outputs": [
    {
     "name": "stdout",
     "output_type": "stream",
     "text": [
      "* \n",
      "* * \n",
      "* * * \n",
      "* * * * \n",
      "* * * * * \n",
      "* * * * * * \n",
      "* * * * * * * \n",
      "* * * * * * * * \n",
      "* * * * * * * * * \n",
      "* * * * * * * * * * \n",
      "* * * * * * * * * * * \n",
      "* * * * * * * * * * * * \n"
     ]
    }
   ],
   "source": [
    "# traingle pattern\n",
    "n = int(input())\n",
    "for i in range(0,n):\n",
    "    for j in range(0,i+1):\n",
    "        print(\"*\",end=\" \")\n",
    "    print()"
   ]
  },
  {
   "cell_type": "code",
   "execution_count": 26,
   "id": "f66f13df",
   "metadata": {},
   "outputs": [
    {
     "name": "stdout",
     "output_type": "stream",
     "text": [
      "                        * \n",
      "                      * * \n",
      "                    * * * \n",
      "                  * * * * \n",
      "                * * * * * \n",
      "              * * * * * * \n",
      "            * * * * * * * \n",
      "          * * * * * * * * \n",
      "        * * * * * * * * * \n",
      "      * * * * * * * * * * \n",
      "    * * * * * * * * * * * \n",
      "  * * * * * * * * * * * * \n"
     ]
    }
   ],
   "source": [
    "for i in range(0,n):\n",
    "    for j in range(0,n-i):\n",
    "        print(\"  \",end=\"\")\n",
    "    for k in range(0,i+1):\n",
    "        print(\"*\",end=\" \")\n",
    "    print()\n",
    "    "
   ]
  },
  {
   "cell_type": "code",
   "execution_count": 25,
   "id": "68ec5f1d",
   "metadata": {},
   "outputs": [
    {
     "name": "stdout",
     "output_type": "stream",
     "text": [
      "                      * \n",
      "                    * * * \n",
      "                  * * * * * \n",
      "                * * * * * * * \n",
      "              * * * * * * * * * \n",
      "            * * * * * * * * * * * \n",
      "          * * * * * * * * * * * * * \n",
      "        * * * * * * * * * * * * * * * \n",
      "      * * * * * * * * * * * * * * * * * \n",
      "    * * * * * * * * * * * * * * * * * * * \n",
      "  * * * * * * * * * * * * * * * * * * * * * \n",
      "* * * * * * * * * * * * * * * * * * * * * * * \n"
     ]
    }
   ],
   "source": [
    "for i in range(1,n+1):\n",
    "    for j in range(0,n-i):\n",
    "        print(\"  \",end=\"\")\n",
    "    for k in range(0,2*(i-1)+1):\n",
    "        print(\"*\",end=\" \")\n",
    "    print()\n",
    "    "
   ]
  },
  {
   "cell_type": "code",
   "execution_count": 24,
   "id": "4a7766db",
   "metadata": {},
   "outputs": [
    {
     "name": "stdout",
     "output_type": "stream",
     "text": [
      "* * * * * * * * * * * * * * * * * * * * * * * * * \n",
      "  * * * * * * * * * * * * * * * * * * * * * * * \n",
      "    * * * * * * * * * * * * * * * * * * * * * \n",
      "      * * * * * * * * * * * * * * * * * * * \n",
      "        * * * * * * * * * * * * * * * * * \n",
      "          * * * * * * * * * * * * * * * \n",
      "            * * * * * * * * * * * * * \n",
      "              * * * * * * * * * * * \n",
      "                * * * * * * * * * \n",
      "                  * * * * * * * \n",
      "                    * * * * * \n",
      "                      * * * \n",
      "                        * \n"
     ]
    }
   ],
   "source": [
    "for i in range(n+1,0,-1):\n",
    "    for j in range(0,n-i+1):\n",
    "        print(\"  \",end=\"\")\n",
    "    for k in range(0,2*(i-1)+1):\n",
    "        print(\"*\",end=\" \")\n",
    "    print()\n",
    "    "
   ]
  },
  {
   "cell_type": "code",
   "execution_count": 31,
   "id": "621e9f52",
   "metadata": {},
   "outputs": [
    {
     "name": "stdout",
     "output_type": "stream",
     "text": [
      "                      * \n",
      "                    * * * \n",
      "                  * * * * * \n",
      "                * * * * * * * \n",
      "              * * * * * * * * * \n",
      "            * * * * * * * * * * * \n",
      "          * * * * * * * * * * * * * \n",
      "        * * * * * * * * * * * * * * * \n",
      "      * * * * * * * * * * * * * * * * * \n",
      "    * * * * * * * * * * * * * * * * * * * \n",
      "  * * * * * * * * * * * * * * * * * * * * * \n",
      "* * * * * * * * * * * * * * * * * * * * * * * \n",
      "* * * * * * * * * * * * * * * * * * * * * * * * * \n",
      "  * * * * * * * * * * * * * * * * * * * * * * * \n",
      "    * * * * * * * * * * * * * * * * * * * * * \n",
      "      * * * * * * * * * * * * * * * * * * * \n",
      "        * * * * * * * * * * * * * * * * * \n",
      "          * * * * * * * * * * * * * * * \n",
      "            * * * * * * * * * * * * * \n",
      "              * * * * * * * * * * * \n",
      "                * * * * * * * * * \n",
      "                  * * * * * * * \n",
      "                    * * * * * \n",
      "                      * * * \n",
      "                        * \n"
     ]
    }
   ],
   "source": [
    "for i in range(1,n+1):\n",
    "    for j in range(0,n-i):\n",
    "        print(\"  \",end=\"\")\n",
    "    for k in range(0,2*(i-1)+1):\n",
    "        print(\"*\",end=\" \")\n",
    "    print()\n",
    "for i in range(n+1,0,-1):\n",
    "    for j in range(0,n-i+1):\n",
    "        print(\"  \",end=\"\")\n",
    "    for k in range(0,2*(i-1)+1):\n",
    "        print(\"*\",end=\" \")\n",
    "    print()\n",
    "      "
   ]
  },
  {
   "cell_type": "code",
   "execution_count": 35,
   "id": "d1d55a1a",
   "metadata": {},
   "outputs": [
    {
     "name": "stdout",
     "output_type": "stream",
     "text": [
      "* \n",
      "* * \n",
      "* * * \n",
      "* * * * \n",
      "* * * * * \n",
      "* * * * * * \n",
      "* * * * * * * \n",
      "* * * * * * * * \n",
      "* * * * * * * * * \n",
      "* * * * * * * * * * \n",
      "* * * * * * * * * * * \n",
      "* * * * * * * * * * * * \n",
      "* * * * * * * * * * * \n",
      "* * * * * * * * * * \n",
      "* * * * * * * * * \n",
      "* * * * * * * * \n",
      "* * * * * * * \n",
      "* * * * * * \n",
      "* * * * * \n",
      "* * * * \n",
      "* * * \n",
      "* * \n",
      "* \n"
     ]
    }
   ],
   "source": [
    "for i in range(0,n-1):\n",
    "    for j in range(0,i+1):\n",
    "        print(\"*\",end=\" \")\n",
    "    print()\n",
    "for i in range(n,0,-1):\n",
    "    for j in range(0,i):\n",
    "        print(\"*\",end=\" \")\n",
    "    print()"
   ]
  },
  {
   "cell_type": "code",
   "execution_count": 41,
   "id": "652d94fc",
   "metadata": {},
   "outputs": [
    {
     "name": "stdout",
     "output_type": "stream",
     "text": [
      "1 \n",
      "0 1 \n",
      "1 0 1 \n",
      "0 1 0 1 \n"
     ]
    }
   ],
   "source": [
    "n= int(input())\n",
    "start =0\n",
    "for i in range(0,n):\n",
    "    if i % 2 == 0:\n",
    "        start =1\n",
    "    else:\n",
    "        start = 0\n",
    "    for i in range(0,i+1):\n",
    "        print(start,end=\" \")\n",
    "        start = 1-start\n",
    "    print()"
   ]
  },
  {
   "cell_type": "code",
   "execution_count": 46,
   "id": "51559ab2",
   "metadata": {},
   "outputs": [
    {
     "name": "stdout",
     "output_type": "stream",
     "text": [
      "2\n",
      "3\n",
      "5\n",
      "7\n",
      "11\n",
      "13\n",
      "17\n",
      "19\n",
      "23\n",
      "29\n",
      "31\n",
      "37\n",
      "41\n",
      "43\n",
      "47\n",
      "53\n",
      "59\n",
      "61\n",
      "67\n",
      "71\n",
      "73\n",
      "79\n",
      "83\n",
      "89\n",
      "97\n"
     ]
    }
   ],
   "source": [
    "# prime numbers\n",
    "import math as m;\n",
    "n1=int(input())\n",
    "n2=int(input())\n",
    "for i in range(n1,n2+1):\n",
    "    if i <=1:\n",
    "        continue\n",
    "    if i == 2:\n",
    "        print(i)\n",
    "        continue\n",
    "    isPrime = True\n",
    "    for j in range(2,int(m.sqrt(i))+1):\n",
    "        if i % j ==0:\n",
    "            isPrime = False\n",
    "            break;\n",
    "    if isPrime:\n",
    "        print(i)\n",
    "        "
   ]
  },
  {
   "cell_type": "code",
   "execution_count": 91,
   "id": "31939572",
   "metadata": {},
   "outputs": [
    {
     "name": "stdout",
     "output_type": "stream",
     "text": [
      "13\n",
      "2.718281828459045\n",
      "True\n",
      "12\n"
     ]
    }
   ],
   "source": [
    "m.ceil(12.01)\n",
    "print(m.floor(13.9))\n",
    "print(m.e)\n",
    "print(m.isfinite(12))\n",
    "m.isqrt(9)\n",
    "print(m.trunc(12.592))\n"
   ]
  },
  {
   "cell_type": "code",
   "execution_count": 92,
   "id": "c8acb7df",
   "metadata": {},
   "outputs": [
    {
     "name": "stdout",
     "output_type": "stream",
     "text": [
      "3\n"
     ]
    }
   ],
   "source": [
    "def add(a,b):\n",
    "    print(a+b)\n",
    "add(1,2)"
   ]
  },
  {
   "cell_type": "code",
   "execution_count": 93,
   "id": "07154aee",
   "metadata": {},
   "outputs": [
    {
     "name": "stdout",
     "output_type": "stream",
     "text": [
      "2 1\n"
     ]
    }
   ],
   "source": [
    "def add1(b,a=2):\n",
    "    print(a,b)\n",
    "add1(1)\n"
   ]
  },
  {
   "cell_type": "code",
   "execution_count": 94,
   "id": "e4300275",
   "metadata": {},
   "outputs": [
    {
     "name": "stdout",
     "output_type": "stream",
     "text": [
      "It Is Rainy Outside I Cannot Leave My House\n",
      "it is rainy outside i cannot leave my house\n",
      "IT IS RAINY OUTSIDE I CANNOT LEAVE MY HOUSE\n"
     ]
    }
   ],
   "source": [
    "name = \"It is rainy outside i cannot leave my house\"\n",
    "print(name.title())\n",
    "print(name.lower())\n",
    "print(name.upper())"
   ]
  },
  {
   "cell_type": "code",
   "execution_count": 97,
   "id": "118dd708",
   "metadata": {},
   "outputs": [
    {
     "name": "stdout",
     "output_type": "stream",
     "text": [
      "Thiru\n",
      "1\n",
      "2\n"
     ]
    }
   ],
   "source": [
    "x,y,z = \"Thiru\",1,2\n",
    "print(x,y,z,sep=\"\\n\")"
   ]
  },
  {
   "cell_type": "markdown",
   "id": "d2bbf13c",
   "metadata": {},
   "source": [
    "# List Data Type"
   ]
  },
  {
   "cell_type": "code",
   "execution_count": 99,
   "id": "6c7dba8f",
   "metadata": {},
   "outputs": [
    {
     "name": "stdout",
     "output_type": "stream",
     "text": [
      "Hello subash You are welcomed to join the party organised by sylender but sujan and sanjay is here\n"
     ]
    }
   ],
   "source": [
    "persons=[\"subash\",\"sylender\",\"sujan\",\"sanjay\"]\n",
    "print(f\"Hello {persons[0]} You are welcomed to join the party organised by {persons[1]} but {persons[2]} and {persons[3]} is here\")"
   ]
  },
  {
   "cell_type": "code",
   "execution_count": 100,
   "id": "289f5c06",
   "metadata": {},
   "outputs": [
    {
     "name": "stdout",
     "output_type": "stream",
     "text": [
      "['tejaswin', 'subash', 'sylender', 'sujan', 'sanjay']\n"
     ]
    }
   ],
   "source": [
    "# inserts at specific position\n",
    "persons.insert(0,\"tejaswin\")\n",
    "print(persons)"
   ]
  },
  {
   "cell_type": "code",
   "execution_count": 101,
   "id": "9c7d7c98",
   "metadata": {},
   "outputs": [],
   "source": [
    "persons.insert(2,\"king\")"
   ]
  },
  {
   "cell_type": "code",
   "execution_count": 102,
   "id": "e98c3da9",
   "metadata": {},
   "outputs": [
    {
     "name": "stdout",
     "output_type": "stream",
     "text": [
      "['tejaswin', 'subash', 'king', 'sylender', 'sujan', 'sanjay']\n"
     ]
    }
   ],
   "source": [
    "print(persons)"
   ]
  },
  {
   "cell_type": "code",
   "execution_count": 103,
   "id": "6654b859",
   "metadata": {},
   "outputs": [],
   "source": [
    "# appends at end of list\n",
    "persons.append(\"SanjayMask\")"
   ]
  },
  {
   "cell_type": "code",
   "execution_count": 104,
   "id": "7600aee5",
   "metadata": {},
   "outputs": [
    {
     "name": "stdout",
     "output_type": "stream",
     "text": [
      "['tejaswin', 'subash', 'king', 'sylender', 'sujan', 'sanjay', 'SanjayMask']\n"
     ]
    }
   ],
   "source": [
    "print(persons)"
   ]
  },
  {
   "cell_type": "code",
   "execution_count": 105,
   "id": "93f60e76",
   "metadata": {},
   "outputs": [],
   "source": [
    "persons[0]=\"Tejaswin\" # modifying this list"
   ]
  },
  {
   "cell_type": "code",
   "execution_count": 106,
   "id": "fb09bd38",
   "metadata": {},
   "outputs": [
    {
     "name": "stdout",
     "output_type": "stream",
     "text": [
      "['Tejaswin', 'subash', 'king', 'sylender', 'sujan', 'sanjay', 'SanjayMask']\n"
     ]
    }
   ],
   "source": [
    "print(persons)"
   ]
  },
  {
   "cell_type": "code",
   "execution_count": 107,
   "id": "291b2c4b",
   "metadata": {},
   "outputs": [
    {
     "name": "stdout",
     "output_type": "stream",
     "text": [
      "['subash', 'king', 'sylender', 'sujan', 'sanjay', 'SanjayMask']\n"
     ]
    }
   ],
   "source": [
    "del persons[0] # delete the particular\n",
    "print(persons)"
   ]
  },
  {
   "cell_type": "code",
   "execution_count": 108,
   "id": "d78f2ad0",
   "metadata": {},
   "outputs": [
    {
     "name": "stdout",
     "output_type": "stream",
     "text": [
      "['subash', 'king', 'sylender', 'sujan', 'sanjay']\n"
     ]
    }
   ],
   "source": [
    "persons.pop() #pops the last element by default\n",
    "print(persons)"
   ]
  },
  {
   "cell_type": "code",
   "execution_count": 109,
   "id": "4ebf9f2f",
   "metadata": {},
   "outputs": [
    {
     "data": {
      "text/plain": [
       "'king'"
      ]
     },
     "execution_count": 109,
     "metadata": {},
     "output_type": "execute_result"
    }
   ],
   "source": [
    "persons.pop(1) # pops specifiesd element and returns popped element"
   ]
  },
  {
   "cell_type": "code",
   "execution_count": 110,
   "id": "20411062",
   "metadata": {},
   "outputs": [
    {
     "name": "stdout",
     "output_type": "stream",
     "text": [
      "['sylender', 'sujan', 'sanjay']\n"
     ]
    }
   ],
   "source": [
    "persons.remove(\"subash\") # remove from list by value\n",
    "print(persons)"
   ]
  },
  {
   "cell_type": "code",
   "execution_count": 114,
   "id": "f49b9dde",
   "metadata": {},
   "outputs": [
    {
     "name": "stdout",
     "output_type": "stream",
     "text": [
      "['sanjay', 'sujan', 'sylender']\n",
      "['sylender', 'sujan', 'sanjay']\n"
     ]
    }
   ],
   "source": [
    "print(sorted(persons)) # temporaryly view the sorted list\n",
    "print(persons)"
   ]
  },
  {
   "cell_type": "code",
   "execution_count": 115,
   "id": "a45c3b04",
   "metadata": {},
   "outputs": [
    {
     "name": "stdout",
     "output_type": "stream",
     "text": [
      "['sanjay', 'sujan', 'sylender']\n"
     ]
    }
   ],
   "source": [
    "persons.sort() # sort the list\n",
    "print(persons)"
   ]
  },
  {
   "cell_type": "code",
   "execution_count": 116,
   "id": "285d41a7",
   "metadata": {},
   "outputs": [
    {
     "name": "stdout",
     "output_type": "stream",
     "text": [
      "['sylender', 'sujan', 'sanjay']\n"
     ]
    }
   ],
   "source": [
    "persons.reverse() # reverse the list\n",
    "print(persons)"
   ]
  },
  {
   "cell_type": "code",
   "execution_count": 118,
   "id": "91cd31f3",
   "metadata": {},
   "outputs": [
    {
     "name": "stdout",
     "output_type": "stream",
     "text": [
      "3\n"
     ]
    }
   ],
   "source": [
    "print(len(persons))"
   ]
  },
  {
   "cell_type": "code",
   "execution_count": 119,
   "id": "a1623bab",
   "metadata": {},
   "outputs": [
    {
     "name": "stdout",
     "output_type": "stream",
     "text": [
      "We invite the sylender to the party\n",
      "We invite the sujan to the party\n",
      "We invite the sanjay to the party\n",
      "Thank You for your arrival!\n"
     ]
    }
   ],
   "source": [
    "for person in persons:\n",
    "    print(f\"We invite the {person} to the party\")\n",
    "print(\"Thank You for your arrival!\")"
   ]
  },
  {
   "cell_type": "code",
   "execution_count": 121,
   "id": "1d7c3ff9",
   "metadata": {},
   "outputs": [
    {
     "name": "stdout",
     "output_type": "stream",
     "text": [
      "0\n",
      "1\n",
      "2\n",
      "3\n",
      "4\n",
      "5\n",
      "6\n",
      "7\n",
      "8\n",
      "9\n",
      "10\n",
      "11\n"
     ]
    }
   ],
   "source": [
    "\n",
    "for i in range(0,12):\n",
    "    print(i)"
   ]
  },
  {
   "cell_type": "code",
   "execution_count": 123,
   "id": "e8632048",
   "metadata": {},
   "outputs": [
    {
     "name": "stdout",
     "output_type": "stream",
     "text": [
      "[0, 2, 4, 6, 8, 10]\n"
     ]
    }
   ],
   "source": [
    "even_number = list(range(0,11,2))\n",
    "print(even_number)"
   ]
  },
  {
   "cell_type": "code",
   "execution_count": 124,
   "id": "b4e22293",
   "metadata": {},
   "outputs": [
    {
     "name": "stdout",
     "output_type": "stream",
     "text": [
      "[0, 1, 4, 9, 16, 25, 36, 49, 64, 81, 100]\n"
     ]
    }
   ],
   "source": [
    "square_numbers=[]\n",
    "for value in range(0,11):\n",
    "    squares = value**2\n",
    "    square_numbers.append(squares)\n",
    "print(square_numbers)"
   ]
  },
  {
   "cell_type": "code",
   "execution_count": 125,
   "id": "5c40b8eb",
   "metadata": {},
   "outputs": [
    {
     "data": {
      "text/plain": [
       "0"
      ]
     },
     "execution_count": 125,
     "metadata": {},
     "output_type": "execute_result"
    }
   ],
   "source": [
    "min(square_numbers) # minimum"
   ]
  },
  {
   "cell_type": "code",
   "execution_count": 126,
   "id": "aee3cd84",
   "metadata": {},
   "outputs": [
    {
     "data": {
      "text/plain": [
       "100"
      ]
     },
     "execution_count": 126,
     "metadata": {},
     "output_type": "execute_result"
    }
   ],
   "source": [
    "max(square_numbers) # maximum"
   ]
  },
  {
   "cell_type": "code",
   "execution_count": 127,
   "id": "dea3ad45",
   "metadata": {},
   "outputs": [
    {
     "data": {
      "text/plain": [
       "385"
      ]
     },
     "execution_count": 127,
     "metadata": {},
     "output_type": "execute_result"
    }
   ],
   "source": [
    "sum(square_numbers) # sum"
   ]
  },
  {
   "cell_type": "code",
   "execution_count": 128,
   "id": "0118b852",
   "metadata": {},
   "outputs": [
    {
     "data": {
      "text/plain": [
       "12"
      ]
     },
     "execution_count": 128,
     "metadata": {},
     "output_type": "execute_result"
    }
   ],
   "source": [
    "abs(-12) # absolute"
   ]
  },
  {
   "cell_type": "code",
   "execution_count": 6,
   "id": "19905e3a",
   "metadata": {},
   "outputs": [
    {
     "data": {
      "text/plain": [
       "\"'a'\""
      ]
     },
     "execution_count": 6,
     "metadata": {},
     "output_type": "execute_result"
    }
   ],
   "source": [
    "ascii('a') "
   ]
  },
  {
   "cell_type": "code",
   "execution_count": 130,
   "id": "11ea86cb",
   "metadata": {},
   "outputs": [
    {
     "data": {
      "text/plain": [
       "'97'"
      ]
     },
     "execution_count": 130,
     "metadata": {},
     "output_type": "execute_result"
    }
   ],
   "source": [
    "ascii(97)"
   ]
  },
  {
   "cell_type": "code",
   "execution_count": 7,
   "id": "c0babcee",
   "metadata": {},
   "outputs": [
    {
     "data": {
      "text/plain": [
       "11"
      ]
     },
     "execution_count": 7,
     "metadata": {},
     "output_type": "execute_result"
    }
   ],
   "source": [
    "eval(\"9+2\") # EVALUATE STRINGS\n"
   ]
  },
  {
   "cell_type": "code",
   "execution_count": 142,
   "id": "917f78e0",
   "metadata": {},
   "outputs": [],
   "source": [
    "even_numbers=[value*2 for value in range(0,4)]"
   ]
  },
  {
   "cell_type": "code",
   "execution_count": 143,
   "id": "988c2e06",
   "metadata": {},
   "outputs": [
    {
     "name": "stdout",
     "output_type": "stream",
     "text": [
      "[0, 2, 4, 6]\n"
     ]
    }
   ],
   "source": [
    "print(even_numbers)"
   ]
  },
  {
   "cell_type": "code",
   "execution_count": 144,
   "id": "58f837c5",
   "metadata": {},
   "outputs": [
    {
     "name": "stdout",
     "output_type": "stream",
     "text": [
      "11\n"
     ]
    }
   ],
   "source": [
    "print(i)"
   ]
  },
  {
   "cell_type": "code",
   "execution_count": 148,
   "id": "cff03a50",
   "metadata": {},
   "outputs": [],
   "source": [
    "cube_numbers = [value**3 for value in range(0,11)]"
   ]
  },
  {
   "cell_type": "code",
   "execution_count": 149,
   "id": "434787c1",
   "metadata": {},
   "outputs": [
    {
     "name": "stdout",
     "output_type": "stream",
     "text": [
      "[0, 1, 8, 27, 64, 125, 216, 343, 512, 729, 1000]\n"
     ]
    }
   ],
   "source": [
    "print(cube_numbers)"
   ]
  },
  {
   "cell_type": "code",
   "execution_count": 150,
   "id": "afae7736",
   "metadata": {},
   "outputs": [
    {
     "data": {
      "text/plain": [
       "list[slice(1, 3, None)]"
      ]
     },
     "execution_count": 150,
     "metadata": {},
     "output_type": "execute_result"
    }
   ],
   "source": [
    "list[1:3]"
   ]
  },
  {
   "cell_type": "code",
   "execution_count": 152,
   "id": "72b99160",
   "metadata": {},
   "outputs": [
    {
     "data": {
      "text/plain": [
       "[1, 8]"
      ]
     },
     "execution_count": 152,
     "metadata": {},
     "output_type": "execute_result"
    }
   ],
   "source": [
    "cube_numbers[1:3]"
   ]
  },
  {
   "cell_type": "code",
   "execution_count": 153,
   "id": "470dab26",
   "metadata": {},
   "outputs": [
    {
     "data": {
      "text/plain": [
       "1000"
      ]
     },
     "execution_count": 153,
     "metadata": {},
     "output_type": "execute_result"
    }
   ],
   "source": [
    "cube_numbers[-1]"
   ]
  },
  {
   "cell_type": "code",
   "execution_count": 154,
   "id": "2208aa11",
   "metadata": {},
   "outputs": [
    {
     "data": {
      "text/plain": [
       "[0, 1, 8, 27, 64]"
      ]
     },
     "execution_count": 154,
     "metadata": {},
     "output_type": "execute_result"
    }
   ],
   "source": [
    "cube_numbers[:5]"
   ]
  },
  {
   "cell_type": "code",
   "execution_count": 155,
   "id": "3fd217b2",
   "metadata": {},
   "outputs": [
    {
     "data": {
      "text/plain": [
       "[8, 27, 64, 125, 216, 343, 512, 729, 1000]"
      ]
     },
     "execution_count": 155,
     "metadata": {},
     "output_type": "execute_result"
    }
   ],
   "source": [
    "cube_numbers[2:]"
   ]
  },
  {
   "cell_type": "code",
   "execution_count": 164,
   "id": "7693a4be",
   "metadata": {},
   "outputs": [
    {
     "data": {
      "text/plain": [
       "[0, 1, 8, 27, 64, 125, 216, 343, 512, 729, 1000]"
      ]
     },
     "execution_count": 164,
     "metadata": {},
     "output_type": "execute_result"
    }
   ],
   "source": [
    "cube_numbers[-len(cube_numbers):]"
   ]
  },
  {
   "cell_type": "code",
   "execution_count": 166,
   "id": "38825170",
   "metadata": {},
   "outputs": [
    {
     "data": {
      "text/plain": [
       "[1000, 729, 512, 343, 216, 125, 64, 27, 8, 1, 0]"
      ]
     },
     "execution_count": 166,
     "metadata": {},
     "output_type": "execute_result"
    }
   ],
   "source": [
    "cube_numbers[len(cube_numbers)::-1]"
   ]
  },
  {
   "cell_type": "code",
   "execution_count": 173,
   "id": "73785580",
   "metadata": {},
   "outputs": [
    {
     "data": {
      "text/plain": [
       "[1000, 729, 512, 343, 216, 125, 64, 27, 8, 1, 0]"
      ]
     },
     "execution_count": 173,
     "metadata": {},
     "output_type": "execute_result"
    }
   ],
   "source": [
    "cube_numbers[-1::-1]"
   ]
  },
  {
   "cell_type": "code",
   "execution_count": 174,
   "id": "cf35688e",
   "metadata": {},
   "outputs": [
    {
     "name": "stdout",
     "output_type": "stream",
     "text": [
      "<class 'tuple'>\n"
     ]
    }
   ],
   "source": [
    "persons = (\"subash\",\"sriram\",\"rokithran\",\"sylender\")\n",
    "print(type(persons))"
   ]
  },
  {
   "cell_type": "code",
   "execution_count": 175,
   "id": "0922b2ac",
   "metadata": {},
   "outputs": [
    {
     "data": {
      "text/plain": [
       "1"
      ]
     },
     "execution_count": 175,
     "metadata": {},
     "output_type": "execute_result"
    }
   ],
   "source": [
    "persons.count(\"subash\") # count the occurence of value in tuple\n"
   ]
  },
  {
   "cell_type": "markdown",
   "id": "74a5ca64",
   "metadata": {},
   "source": [
    "index of occurence of value in tuple .  if there is no value raise an value error"
   ]
  },
  {
   "cell_type": "code",
   "execution_count": 178,
   "id": "33d213f7",
   "metadata": {},
   "outputs": [
    {
     "data": {
      "text/plain": [
       "1"
      ]
     },
     "execution_count": 178,
     "metadata": {},
     "output_type": "execute_result"
    }
   ],
   "source": [
    "persons.index(\"sriram\")"
   ]
  },
  {
   "cell_type": "code",
   "execution_count": 179,
   "id": "1a1aa1f1",
   "metadata": {},
   "outputs": [
    {
     "ename": "ValueError",
     "evalue": "tuple.index(x): x not in tuple",
     "output_type": "error",
     "traceback": [
      "\u001b[1;31m---------------------------------------------------------------------------\u001b[0m",
      "\u001b[1;31mValueError\u001b[0m                                Traceback (most recent call last)",
      "Cell \u001b[1;32mIn[179], line 1\u001b[0m\n\u001b[1;32m----> 1\u001b[0m \u001b[43mpersons\u001b[49m\u001b[38;5;241;43m.\u001b[39;49m\u001b[43mindex\u001b[49m\u001b[43m(\u001b[49m\u001b[38;5;124;43m\"\u001b[39;49m\u001b[38;5;124;43mp\u001b[39;49m\u001b[38;5;124;43m\"\u001b[39;49m\u001b[43m)\u001b[49m\n",
      "\u001b[1;31mValueError\u001b[0m: tuple.index(x): x not in tuple"
     ]
    }
   ],
   "source": [
    "persons.index(\"p\")"
   ]
  },
  {
   "cell_type": "code",
   "execution_count": 181,
   "id": "d3163355",
   "metadata": {},
   "outputs": [
    {
     "name": "stdout",
     "output_type": "stream",
     "text": [
      "['Mercedes', 'Tesla', 'RolceRoyce', 'Ford']\n"
     ]
    }
   ],
   "source": [
    "# copying the list\n",
    "cars=[\"Mercedes\",\"Tesla\",\"RolceRoyce\",\"Ford\"]\n",
    "cars1=cars;\n",
    "print(cars)"
   ]
  },
  {
   "cell_type": "code",
   "execution_count": 182,
   "id": "0b58b3bd",
   "metadata": {},
   "outputs": [
    {
     "name": "stdout",
     "output_type": "stream",
     "text": [
      "['Mercedes', 'Tesla', 'RolceRoyce', 'Ford']\n"
     ]
    }
   ],
   "source": [
    "print(cars1)"
   ]
  },
  {
   "cell_type": "markdown",
   "id": "eb2185c1",
   "metadata": {},
   "source": [
    "Here i reversed car but both list and copied list are modified"
   ]
  },
  {
   "cell_type": "code",
   "execution_count": 184,
   "id": "13196f46",
   "metadata": {},
   "outputs": [],
   "source": [
    "cars.reverse()"
   ]
  },
  {
   "cell_type": "code",
   "execution_count": 185,
   "id": "c4cdaf36",
   "metadata": {},
   "outputs": [
    {
     "name": "stdout",
     "output_type": "stream",
     "text": [
      "['Ford', 'RolceRoyce', 'Tesla', 'Mercedes']\n"
     ]
    }
   ],
   "source": [
    "print(cars1)"
   ]
  },
  {
   "cell_type": "markdown",
   "id": "5e026b0a",
   "metadata": {},
   "source": [
    "first it is copy of both  variables are pointed tolist but if we used the slicng to copy \n",
    "the list then changes won't reflected in another list"
   ]
  },
  {
   "cell_type": "code",
   "execution_count": 189,
   "id": "46305c40",
   "metadata": {},
   "outputs": [
    {
     "name": "stdout",
     "output_type": "stream",
     "text": [
      "['Mercedes', 'Tesla', 'RolceRoyce', 'Ford']\n"
     ]
    }
   ],
   "source": [
    "cars2=cars[:]\n",
    "print(cars2)"
   ]
  },
  {
   "cell_type": "code",
   "execution_count": 190,
   "id": "957004e9",
   "metadata": {},
   "outputs": [],
   "source": [
    "cars.reverse()"
   ]
  },
  {
   "cell_type": "code",
   "execution_count": 191,
   "id": "38baf53f",
   "metadata": {},
   "outputs": [
    {
     "name": "stdout",
     "output_type": "stream",
     "text": [
      "['Ford', 'RolceRoyce', 'Tesla', 'Mercedes']\n",
      "['Ford', 'RolceRoyce', 'Tesla', 'Mercedes']\n",
      "['Mercedes', 'Tesla', 'RolceRoyce', 'Ford']\n"
     ]
    }
   ],
   "source": [
    "print(cars)\n",
    "print(cars1)\n",
    "print(cars2)"
   ]
  },
  {
   "cell_type": "code",
   "execution_count": 192,
   "id": "4dabcc31",
   "metadata": {},
   "outputs": [
    {
     "name": "stdout",
     "output_type": "stream",
     "text": [
      "('subash', 'sriram', 'rokithran', 'sylender')\n"
     ]
    }
   ],
   "source": [
    "print(persons)"
   ]
  },
  {
   "cell_type": "code",
   "execution_count": 193,
   "id": "10b0aaf9",
   "metadata": {},
   "outputs": [
    {
     "ename": "TypeError",
     "evalue": "'tuple' object does not support item assignment",
     "output_type": "error",
     "traceback": [
      "\u001b[1;31m---------------------------------------------------------------------------\u001b[0m",
      "\u001b[1;31mTypeError\u001b[0m                                 Traceback (most recent call last)",
      "Cell \u001b[1;32mIn[193], line 1\u001b[0m\n\u001b[1;32m----> 1\u001b[0m \u001b[43mpersons\u001b[49m\u001b[43m[\u001b[49m\u001b[38;5;241;43m0\u001b[39;49m\u001b[43m]\u001b[49m\u001b[38;5;241m=\u001b[39m\u001b[38;5;124m\"\u001b[39m\u001b[38;5;124mP\u001b[39m\u001b[38;5;124m'\u001b[39m\u001b[38;5;124m\"\u001b[39m\n",
      "\u001b[1;31mTypeError\u001b[0m: 'tuple' object does not support item assignment"
     ]
    }
   ],
   "source": [
    "persons[0]=\"P'\"# tuple doesn't support item assignment"
   ]
  },
  {
   "cell_type": "code",
   "execution_count": 194,
   "id": "1264ac2f",
   "metadata": {},
   "outputs": [
    {
     "name": "stdout",
     "output_type": "stream",
     "text": [
      "subash\n"
     ]
    }
   ],
   "source": [
    "print(persons[0])"
   ]
  },
  {
   "cell_type": "code",
   "execution_count": 195,
   "id": "bad4676f",
   "metadata": {},
   "outputs": [
    {
     "name": "stdout",
     "output_type": "stream",
     "text": [
      "subash\n",
      "sriram\n",
      "rokithran\n",
      "sylender\n"
     ]
    }
   ],
   "source": [
    "for person in persons:\n",
    "    print(person)"
   ]
  },
  {
   "cell_type": "code",
   "execution_count": 206,
   "id": "3e8ca328",
   "metadata": {},
   "outputs": [
    {
     "data": {
      "text/plain": [
       "46.0"
      ]
     },
     "execution_count": 206,
     "metadata": {},
     "output_type": "execute_result"
    }
   ],
   "source": [
    "round(45.98,1)"
   ]
  },
  {
   "cell_type": "code",
   "execution_count": 210,
   "id": "a8b5a74b",
   "metadata": {},
   "outputs": [
    {
     "name": "stdout",
     "output_type": "stream",
     "text": [
      "Requirement already satisfied: diagram in d:\\program files\\python312\\lib\\site-packages (0.2.28)Note: you may need to restart the kernel to use updated packages.\n",
      "\n"
     ]
    },
    {
     "name": "stderr",
     "output_type": "stream",
     "text": [
      "\n",
      "[notice] A new release of pip is available: 24.0 -> 24.1\n",
      "[notice] To update, run: d:\\Program Files\\Python312\\python.exe -m pip install --upgrade pip\n"
     ]
    }
   ],
   "source": [
    "pip install diagram"
   ]
  },
  {
   "cell_type": "code",
   "execution_count": 223,
   "id": "cabe4933",
   "metadata": {},
   "outputs": [
    {
     "name": "stdout",
     "output_type": "stream",
     "text": [
      "<class 'tuple'>\n",
      "4\n"
     ]
    }
   ],
   "source": [
    "fruits=(\"oranges\",)\n",
    "print(type(fruits))\n",
    "fruits=(\"apple\",\"orange\",\"banana\",\"watermelon\")\n",
    "print(len(fruits))\n",
    "\n",
    "\n"
   ]
  },
  {
   "cell_type": "code",
   "execution_count": 226,
   "id": "c5c027d4",
   "metadata": {},
   "outputs": [
    {
     "name": "stdout",
     "output_type": "stream",
     "text": [
      "<class 'reversed'>\n",
      "('watermelon', 'banana', 'orange', 'apple')\n",
      "['apple', 'banana', 'orange', 'watermelon']\n"
     ]
    }
   ],
   "source": [
    "print(type(reversed(fruits)))\n",
    "print(tuple(reversed(fruits)))\n",
    "print(sorted(fruits)) # it returns list"
   ]
  },
  {
   "cell_type": "code",
   "execution_count": 227,
   "id": "ae7f62a8",
   "metadata": {},
   "outputs": [
    {
     "data": {
      "text/plain": [
       "('orange', 'banana')"
      ]
     },
     "execution_count": 227,
     "metadata": {},
     "output_type": "execute_result"
    }
   ],
   "source": [
    "fruits[1:3]"
   ]
  },
  {
   "cell_type": "code",
   "execution_count": 228,
   "id": "2c231a0a",
   "metadata": {},
   "outputs": [
    {
     "data": {
      "text/plain": [
       "('apple', 'orange', 'banana', 'watermelon')"
      ]
     },
     "execution_count": 228,
     "metadata": {},
     "output_type": "execute_result"
    }
   ],
   "source": [
    "fruits[0:]"
   ]
  },
  {
   "cell_type": "code",
   "execution_count": 229,
   "id": "c095a301",
   "metadata": {},
   "outputs": [
    {
     "data": {
      "text/plain": [
       "('apple', 'orange', 'banana', 'watermelon')"
      ]
     },
     "execution_count": 229,
     "metadata": {},
     "output_type": "execute_result"
    }
   ],
   "source": [
    "fruits[:5]"
   ]
  },
  {
   "cell_type": "code",
   "execution_count": 230,
   "id": "a1db4123",
   "metadata": {},
   "outputs": [
    {
     "data": {
      "text/plain": [
       "('watermelon', 'banana', 'orange', 'apple')"
      ]
     },
     "execution_count": 230,
     "metadata": {},
     "output_type": "execute_result"
    }
   ],
   "source": [
    "fruits[::-1]\n"
   ]
  },
  {
   "cell_type": "code",
   "execution_count": 231,
   "id": "154233f3",
   "metadata": {},
   "outputs": [
    {
     "data": {
      "text/plain": [
       "('watermelon', 'banana', 'orange', 'apple')"
      ]
     },
     "execution_count": 231,
     "metadata": {},
     "output_type": "execute_result"
    }
   ],
   "source": [
    "fruits[-1::-1]"
   ]
  },
  {
   "cell_type": "code",
   "execution_count": 232,
   "id": "17b85b12",
   "metadata": {},
   "outputs": [],
   "source": [
    "d = {}\n",
    "d[1, 2] = 3\n",
    "d[3, 4] = 7"
   ]
  },
  {
   "cell_type": "code",
   "execution_count": 233,
   "id": "9c69b532",
   "metadata": {},
   "outputs": [
    {
     "name": "stdout",
     "output_type": "stream",
     "text": [
      "{(1, 2): 3, (3, 4): 7}\n"
     ]
    }
   ],
   "source": [
    "print(d)"
   ]
  },
  {
   "cell_type": "code",
   "execution_count": 234,
   "id": "80c2e2ea",
   "metadata": {},
   "outputs": [
    {
     "name": "stdout",
     "output_type": "stream",
     "text": [
      "<class 'dict'>\n"
     ]
    }
   ],
   "source": [
    "print(type(d))"
   ]
  },
  {
   "cell_type": "code",
   "execution_count": 237,
   "id": "2de65bab",
   "metadata": {},
   "outputs": [
    {
     "name": "stdout",
     "output_type": "stream",
     "text": [
      "\u001b[1;31mType:\u001b[0m        module\n",
      "\u001b[1;31mString form:\u001b[0m <module 'math' (built-in)>\n",
      "\u001b[1;31mDocstring:\u001b[0m  \n",
      "This module provides access to the mathematical functions\n",
      "defined by the C standard."
     ]
    }
   ],
   "source": [
    "math??"
   ]
  },
  {
   "cell_type": "code",
   "execution_count": 2,
   "id": "2863e272",
   "metadata": {},
   "outputs": [
    {
     "name": "stdout",
     "output_type": "stream",
     "text": [
      "100.0\n",
      "100\n"
     ]
    }
   ],
   "source": [
    "import math as m\n",
    "def power(a=10,b=2):\n",
    "    print(m.pow(a,b))\n",
    "    print(a**b)\n",
    "power()"
   ]
  },
  {
   "cell_type": "code",
   "execution_count": 12,
   "id": "23dc8b63",
   "metadata": {},
   "outputs": [
    {
     "name": "stdout",
     "output_type": "stream",
     "text": [
      "3\n"
     ]
    }
   ],
   "source": [
    "data = int(input())\n",
    "\n",
    "def BinarySearch(*a):\n",
    "    left = 0\n",
    "    right = len(a)-1\n",
    "    isFound = False\n",
    "    for i in a:\n",
    "        mid = (left+right)//2\n",
    "        if a[mid] == data:\n",
    "            isFound = True\n",
    "            print(mid)\n",
    "            break\n",
    "        elif a[mid] < data:\n",
    "            left=mid+1\n",
    "        elif a[mid]>data:\n",
    "            right=mid-1\n",
    "    if not isFound:\n",
    "        print(-1)\n",
    "BinarySearch(1,2,3,4,5,6,7,8,9,10)        "
   ]
  },
  {
   "cell_type": "code",
   "execution_count": 19,
   "id": "504f0f4c",
   "metadata": {},
   "outputs": [],
   "source": [
    "def func(**dict):\n",
    "    for key,value in dict.items():\n",
    "        print(key,'=',value)"
   ]
  },
  {
   "cell_type": "code",
   "execution_count": 20,
   "id": "00041a69",
   "metadata": {},
   "outputs": [
    {
     "name": "stdout",
     "output_type": "stream",
     "text": [
      "name = ThiruMurugan\n",
      "age = 22\n"
     ]
    }
   ],
   "source": [
    "func(name=\"ThiruMurugan\", age=22)"
   ]
  },
  {
   "cell_type": "code",
   "execution_count": 21,
   "id": "383c2e6d",
   "metadata": {},
   "outputs": [
    {
     "name": "stdout",
     "output_type": "stream",
     "text": [
      "06/26/24\n"
     ]
    }
   ],
   "source": [
    "import time as t\n",
    "print(t.strftime(\"%D\"))\n"
   ]
  },
  {
   "cell_type": "code",
   "execution_count": 24,
   "id": "aac680b6",
   "metadata": {},
   "outputs": [
    {
     "name": "stdout",
     "output_type": "stream",
     "text": [
      "26\n"
     ]
    }
   ],
   "source": [
    "print(t.strftime(\"%d\"))"
   ]
  },
  {
   "cell_type": "code",
   "execution_count": 31,
   "id": "53fcf380",
   "metadata": {},
   "outputs": [
    {
     "name": "stdout",
     "output_type": "stream",
     "text": [
      "26-06-2024\n"
     ]
    }
   ],
   "source": [
    "print(t.strftime(\"%d-%m-%Y\"))"
   ]
  },
  {
   "cell_type": "code",
   "execution_count": 33,
   "id": "fbeefc09",
   "metadata": {},
   "outputs": [
    {
     "name": "stdout",
     "output_type": "stream",
     "text": [
      "21:00:24\n"
     ]
    }
   ],
   "source": [
    "print(t.strftime(\"%H:%M:%S\"))"
   ]
  },
  {
   "cell_type": "code",
   "execution_count": 35,
   "id": "7c4062f9",
   "metadata": {},
   "outputs": [
    {
     "name": "stdout",
     "output_type": "stream",
     "text": [
      "Jun\n"
     ]
    }
   ],
   "source": [
    "print(t.strftime(\"%h\"))"
   ]
  },
  {
   "cell_type": "code",
   "execution_count": 1,
   "id": "280c8d24",
   "metadata": {},
   "outputs": [
    {
     "name": "stdout",
     "output_type": "stream",
     "text": [
      "Hello\n"
     ]
    }
   ],
   "source": [
    "print(\"Hello\")"
   ]
  },
  {
   "cell_type": "code",
   "execution_count": 6,
   "id": "bf2f635a",
   "metadata": {},
   "outputs": [
    {
     "name": "stdout",
     "output_type": "stream",
     "text": [
      "['vijay', 'rajini', 'ajith', 'kamal', 'surya']\n",
      "vijay is acting in Movie Today\n",
      "rajini is acting in Movie Today\n",
      "ajith is acting in Movie Today\n",
      "kamal is acting in Movie Today\n",
      "surya is acting in Movie Today\n",
      "actors are successfully completed thier job\n"
     ]
    }
   ],
   "source": [
    "# recap of lists\n",
    "# iterating and printing\n",
    "actors=[\"vijay\",\"rajini\",\"ajith\",\"kamal\",\"surya\"]\n",
    "print(actors)\n",
    "for actor in actors:\n",
    "    print(f\"{actor} is acting in Movie Today\")\n",
    "print(\"actors are successfully completed thier job\")\n"
   ]
  },
  {
   "cell_type": "code",
   "execution_count": 7,
   "id": "bd926f32",
   "metadata": {},
   "outputs": [
    {
     "name": "stdout",
     "output_type": "stream",
     "text": [
      "<class 'list'>\n"
     ]
    }
   ],
   "source": [
    "print(type(actors))"
   ]
  },
  {
   "cell_type": "code",
   "execution_count": 8,
   "id": "339d0a1c",
   "metadata": {},
   "outputs": [
    {
     "name": "stdout",
     "output_type": "stream",
     "text": [
      "['vijay', 'rajini', 'ajith', 'kamal', 'surya', 'modi']\n",
      "['vijay', 'rajini', 'ajith', 'raja', 'kamal', 'surya', 'modi']\n",
      "modi\n",
      "['vijay', 'rajini', 'ajith', 'raja', 'kamal', 'surya']\n"
     ]
    }
   ],
   "source": [
    "actors.append(\"modi\") # add to last the list\n",
    "print(actors)\n",
    "actors.insert(3,\"raja\") # insert at any index position in list\n",
    "print(actors)\n",
    "removedActors = actors.pop() # remove the last element in list\n",
    "print(removedActors)\n",
    "print(actors)"
   ]
  },
  {
   "cell_type": "code",
   "execution_count": 9,
   "id": "4396f5f6",
   "metadata": {},
   "outputs": [
    {
     "name": "stdout",
     "output_type": "stream",
     "text": [
      "raja\n",
      "['vijay', 'rajini', 'ajith', 'kamal', 'surya']\n",
      "None\n",
      "['vijay', 'rajini', 'kamal', 'surya']\n",
      "['kamal', 'rajini', 'surya', 'vijay']\n"
     ]
    }
   ],
   "source": [
    "removedActors = actors.pop(3) # pops the element at index position i\n",
    "print(removedActors)\n",
    "print(actors)\n",
    "removedActors =actors.remove(\"ajith\") # it doesnot return anything\n",
    "print(removedActors)\n",
    "print(actors)\n",
    "print(sorted(actors)) # sorted temporarily and print\n"
   ]
  },
  {
   "cell_type": "code",
   "execution_count": 10,
   "id": "0de05680",
   "metadata": {},
   "outputs": [
    {
     "name": "stdout",
     "output_type": "stream",
     "text": [
      "['kamal', 'rajini', 'surya', 'vijay']\n",
      "['vijay', 'surya', 'rajini', 'kamal']\n"
     ]
    }
   ],
   "source": [
    "actors.sort() # sort the permananetly\n",
    "print(actors)\n",
    "actors.reverse() # reverse the list\n",
    "print(actors)"
   ]
  },
  {
   "cell_type": "code",
   "execution_count": 11,
   "id": "a443688b",
   "metadata": {},
   "outputs": [
    {
     "data": {
      "text/plain": [
       "1"
      ]
     },
     "execution_count": 11,
     "metadata": {},
     "output_type": "execute_result"
    }
   ],
   "source": [
    "actors.index(\"surya\") # return the index of particular value if not raises value error"
   ]
  },
  {
   "cell_type": "code",
   "execution_count": 32,
   "id": "a00635f9",
   "metadata": {},
   "outputs": [
    {
     "name": "stdout",
     "output_type": "stream",
     "text": [
      "['vijay', 'surya', 'rajini', 'kamal', 'horse', 'cat', 'dog']\n"
     ]
    }
   ],
   "source": [
    "actors.count(\"surya\");\n",
    "actors1 = [\"horse\",\"cat\",\"dog\"]\n",
    "actors.extend(actors1) # you can extend the list\n",
    "print(actors)\n"
   ]
  },
  {
   "cell_type": "code",
   "execution_count": 33,
   "id": "c4c83e10",
   "metadata": {},
   "outputs": [
    {
     "name": "stdout",
     "output_type": "stream",
     "text": [
      "['vijay', 'surya', 'rajini', 'kamal', 'horse', 'cat', 'dog']\n"
     ]
    }
   ],
   "source": [
    "print(actors)"
   ]
  },
  {
   "cell_type": "code",
   "execution_count": 35,
   "id": "56e7b3e1",
   "metadata": {},
   "outputs": [
    {
     "name": "stdout",
     "output_type": "stream",
     "text": [
      "['vijay', 'surya', 'rajini', 'kamal', 'horse', 'cat', 'dog']\n"
     ]
    }
   ],
   "source": [
    "actorNames =actors.copy() # id was diiferent don't affect\n",
    "print(actorNames)"
   ]
  },
  {
   "cell_type": "code",
   "execution_count": 36,
   "id": "c84d43f1",
   "metadata": {},
   "outputs": [
    {
     "data": {
      "text/plain": [
       "False"
      ]
     },
     "execution_count": 36,
     "metadata": {},
     "output_type": "execute_result"
    }
   ],
   "source": [
    "actorNames is actors"
   ]
  },
  {
   "cell_type": "code",
   "execution_count": 37,
   "id": "90c83797",
   "metadata": {},
   "outputs": [
    {
     "name": "stdout",
     "output_type": "stream",
     "text": [
      "['vijay', 'surya', 'rajini', 'kamal', 'horse', 'cat', 'dog']\n"
     ]
    }
   ],
   "source": [
    "ActorNames = actors # direct copy \n",
    "print(ActorNames)"
   ]
  },
  {
   "cell_type": "code",
   "execution_count": 38,
   "id": "def4c3af",
   "metadata": {},
   "outputs": [
    {
     "data": {
      "text/plain": [
       "True"
      ]
     },
     "execution_count": 38,
     "metadata": {},
     "output_type": "execute_result"
    }
   ],
   "source": [
    "ActorNames is actors # id was same"
   ]
  },
  {
   "cell_type": "code",
   "execution_count": 39,
   "id": "22f5574e",
   "metadata": {},
   "outputs": [
    {
     "data": {
      "text/plain": [
       "'dog'"
      ]
     },
     "execution_count": 39,
     "metadata": {},
     "output_type": "execute_result"
    }
   ],
   "source": [
    "ActorNames.pop() # so it affects one another"
   ]
  },
  {
   "cell_type": "code",
   "execution_count": 40,
   "id": "8885a1ed",
   "metadata": {},
   "outputs": [
    {
     "name": "stdout",
     "output_type": "stream",
     "text": [
      "['vijay', 'surya', 'rajini', 'kamal', 'horse', 'cat']\n"
     ]
    }
   ],
   "source": [
    "print(actors)"
   ]
  },
  {
   "cell_type": "code",
   "execution_count": 42,
   "id": "9b7a636d",
   "metadata": {},
   "outputs": [
    {
     "name": "stdout",
     "output_type": "stream",
     "text": [
      "[]\n"
     ]
    }
   ],
   "source": [
    "actors.clear() # clear the data inside list\n",
    "print(actors)"
   ]
  },
  {
   "cell_type": "code",
   "execution_count": 45,
   "id": "0b30f3c9",
   "metadata": {},
   "outputs": [
    {
     "name": "stdout",
     "output_type": "stream",
     "text": [
      "subash\n",
      "sriram\n",
      "sujan\n",
      "sylender\n",
      "sandeep\n"
     ]
    }
   ],
   "source": [
    "# tuple revision\n",
    "realActors = (\"subash\",\"sriram\",\"sujan\",\"sylender\",\"sandeep\")\n",
    "for realActor in realActors:\n",
    "    print(realActor)"
   ]
  },
  {
   "cell_type": "code",
   "execution_count": 48,
   "id": "4ed45fd0",
   "metadata": {},
   "outputs": [
    {
     "name": "stdout",
     "output_type": "stream",
     "text": [
      "1\n",
      "4\n"
     ]
    }
   ],
   "source": [
    "print(realActors.count(\"subash\"))\n",
    "print(realActors.index(\"sandeep\"))"
   ]
  },
  {
   "cell_type": "code",
   "execution_count": 49,
   "id": "6ca28f57",
   "metadata": {},
   "outputs": [
    {
     "name": "stdout",
     "output_type": "stream",
     "text": [
      "Hello World!\n"
     ]
    }
   ],
   "source": [
    "# recap\n",
    "print(\"Hello World!\")"
   ]
  },
  {
   "cell_type": "code",
   "execution_count": 54,
   "id": "04f47e2b",
   "metadata": {},
   "outputs": [
    {
     "name": "stdout",
     "output_type": "stream",
     "text": [
      "*\n",
      "**\n",
      "***\n"
     ]
    }
   ],
   "source": [
    "print(\"*\"*1)\n",
    "print(\"*\"*2)\n",
    "print(\"*\"*3)\n"
   ]
  },
  {
   "cell_type": "code",
   "execution_count": 64,
   "id": "36376d5c",
   "metadata": {},
   "outputs": [
    {
     "name": "stdout",
     "output_type": "stream",
     "text": [
      "Your guess is too high\n",
      "Your guess is too low\n",
      "Congrulations! You have guessed the number!\n"
     ]
    }
   ],
   "source": [
    "# Number guessing game and random module\n",
    "import random as rd\n",
    "count = 0\n",
    "guesses = False\n",
    "Secretnumber = rd.randrange(1,10)\n",
    "while not guesses:\n",
    "    guess = int(input(\"Enter a Number : \"))\n",
    "    if guess == Secretnumber:\n",
    "        print(\"Congrulations! You have guessed the number!\")\n",
    "        break\n",
    "    elif guess > Secretnumber:\n",
    "        print(\"Your guess is too high\")\n",
    "    elif guess < Secretnumber:\n",
    "        print(\"Your guess is too low\")\n",
    "    else:\n",
    "        print(\"Please try again later\")\n",
    "    count+=1\n",
    "    if count == 5:\n",
    "        print(\"You have run out of guesses\")\n",
    "        print(f\"Secret Number was {Secretnumber}\")\n",
    "        guesses = True\n"
   ]
  },
  {
   "cell_type": "code",
   "execution_count": 65,
   "id": "980996b8",
   "metadata": {},
   "outputs": [
    {
     "name": "stdout",
     "output_type": "stream",
     "text": [
      "Lorry starts now\n",
      "Lorry already started\n",
      "Kill the person using lorry\n",
      "Help the queue\n",
      "Surrender to the police\n",
      "Kill the person using lorry\n",
      "Lorry stops\n",
      "Lorry already stopped\n",
      "Lorry functionality quitted\n"
     ]
    }
   ],
   "source": [
    " command = \"\"\n",
    " isStarted = False\n",
    " isStopped = False\n",
    " while command.lower()!=\"quit\":\n",
    "     command = input(\">\")\n",
    "     if command.lower()==\"start\":\n",
    "         if isStarted:\n",
    "             print(\"Lorry already started\")\n",
    "         else:\n",
    "            print(\"Lorry starts now\")\n",
    "            isStarted = True\n",
    "     elif command.lower()==\"stop\":\n",
    "         if isStopped :\n",
    "            print(\"Lorry already stopped\")\n",
    "         else:\n",
    "            print(\"Lorry stops\")\n",
    "            isStopped = True\n",
    "     elif command.lower()==\"kill\":\n",
    "         print(\"Kill the person using lorry\")\n",
    "     elif command.lower()==\"police\":\n",
    "         print(\"Run away from police\")\n",
    "     elif command.lower()==\"help\":\n",
    "         print(\"Help the queue\")\n",
    "     elif command.lower()==\"surrender\":\n",
    "         print(\"Surrender to the police\")\n",
    " else:\n",
    "    print(\"Lorry functionality quitted\")\n",
    "         \n",
    "    "
   ]
  },
  {
   "cell_type": "code",
   "execution_count": 67,
   "id": "69ee1d8f",
   "metadata": {},
   "outputs": [
    {
     "name": "stdout",
     "output_type": "stream",
     "text": [
      "<class 'set'>\n"
     ]
    }
   ],
   "source": [
    "# sets\n",
    "actors = set(ActorNames)\n",
    "print(type(actors))"
   ]
  },
  {
   "cell_type": "code",
   "execution_count": 68,
   "id": "8a187cd2",
   "metadata": {},
   "outputs": [
    {
     "name": "stdout",
     "output_type": "stream",
     "text": [
      "{'proSubash'}\n"
     ]
    }
   ],
   "source": [
    "actors.add(\"proSubash\") #\n",
    "print(actors)"
   ]
  },
  {
   "cell_type": "code",
   "execution_count": 69,
   "id": "c462e0b4",
   "metadata": {},
   "outputs": [],
   "source": [
    "def addActors(*actor):\n",
    "    for person in actor:\n",
    "        actors.add(person)\n",
    "addActors(\"Sylender\",\"Sandeep\",\"Sujan\",\"Rokithran\",\"Sriram\")"
   ]
  },
  {
   "cell_type": "code",
   "execution_count": 70,
   "id": "db28795c",
   "metadata": {},
   "outputs": [
    {
     "name": "stdout",
     "output_type": "stream",
     "text": [
      "{'Sriram', 'Sujan', 'proSubash', 'Rokithran', 'Sandeep', 'Sylender'}\n"
     ]
    }
   ],
   "source": [
    "print(actors)"
   ]
  },
  {
   "cell_type": "code",
   "execution_count": 71,
   "id": "f6f0f61e",
   "metadata": {},
   "outputs": [],
   "source": [
    "actors.add(\"pro\")"
   ]
  },
  {
   "cell_type": "code",
   "execution_count": 72,
   "id": "c82dccd3",
   "metadata": {},
   "outputs": [
    {
     "name": "stdout",
     "output_type": "stream",
     "text": [
      "{'Sriram', 'Sujan', 'proSubash', 'Rokithran', 'pro', 'Sandeep', 'Sylender'}\n"
     ]
    }
   ],
   "source": [
    "print(actors)"
   ]
  },
  {
   "cell_type": "code",
   "execution_count": 73,
   "id": "aaf5dfcd",
   "metadata": {},
   "outputs": [
    {
     "name": "stdout",
     "output_type": "stream",
     "text": [
      "['p']\n"
     ]
    }
   ],
   "source": [
    "king=[\"p\"]\n",
    "print(king)"
   ]
  },
  {
   "cell_type": "code",
   "execution_count": 76,
   "id": "80c6aa6a",
   "metadata": {},
   "outputs": [
    {
     "name": "stdout",
     "output_type": "stream",
     "text": [
      "['pro', 'pro', 'p']\n"
     ]
    }
   ],
   "source": [
    "king.append(\"pro\")\n",
    "print(list(reversed(king)))"
   ]
  },
  {
   "cell_type": "code",
   "execution_count": 77,
   "id": "d94fd15d",
   "metadata": {},
   "outputs": [
    {
     "name": "stdout",
     "output_type": "stream",
     "text": [
      "['p', 'pro', 'pro']\n"
     ]
    }
   ],
   "source": [
    "print(king)"
   ]
  },
  {
   "cell_type": "code",
   "execution_count": 78,
   "id": "260e0ec7",
   "metadata": {},
   "outputs": [
    {
     "name": "stdout",
     "output_type": "stream",
     "text": [
      "['p', 'pro', 'pro']\n"
     ]
    }
   ],
   "source": [
    "print(sorted(king))"
   ]
  },
  {
   "cell_type": "code",
   "execution_count": 81,
   "id": "b72c0902",
   "metadata": {},
   "outputs": [],
   "source": [
    "king.insert(0,\"zoker\")\n"
   ]
  },
  {
   "cell_type": "code",
   "execution_count": 83,
   "id": "33e30f4b",
   "metadata": {},
   "outputs": [
    {
     "name": "stdout",
     "output_type": "stream",
     "text": [
      "['zoker', 'joker', 'p', 'pro', 'pro']\n",
      "['joker', 'p', 'pro', 'pro', 'zoker']\n",
      "['zoker', 'joker', 'p', 'pro', 'pro']\n"
     ]
    }
   ],
   "source": [
    "print(king)\n",
    "print(sorted(king))\n",
    "print(king)"
   ]
  },
  {
   "cell_type": "code",
   "execution_count": 84,
   "id": "d6daea6f",
   "metadata": {},
   "outputs": [
    {
     "data": {
      "text/plain": [
       "'Sriram'"
      ]
     },
     "execution_count": 84,
     "metadata": {},
     "output_type": "execute_result"
    }
   ],
   "source": [
    "actors.pop()"
   ]
  },
  {
   "cell_type": "code",
   "execution_count": 85,
   "id": "622ef6ca",
   "metadata": {},
   "outputs": [
    {
     "name": "stdout",
     "output_type": "stream",
     "text": [
      "{'Sujan', 'proSubash', 'Rokithran', 'pro', 'Sandeep', 'Sylender'}\n"
     ]
    }
   ],
   "source": [
    "print(actors)"
   ]
  },
  {
   "cell_type": "code",
   "execution_count": 86,
   "id": "b9b63b76",
   "metadata": {},
   "outputs": [
    {
     "data": {
      "text/plain": [
       "'Sujan'"
      ]
     },
     "execution_count": 86,
     "metadata": {},
     "output_type": "execute_result"
    }
   ],
   "source": [
    "actors.pop()"
   ]
  },
  {
   "cell_type": "code",
   "execution_count": 88,
   "id": "4ae5bf38",
   "metadata": {},
   "outputs": [],
   "source": [
    "gh =[\"Sujan\",\"Sriram\",\"Rokithran\",\"king\"]\n",
    "actors2 = set(gh)"
   ]
  },
  {
   "cell_type": "code",
   "execution_count": 89,
   "id": "f4a1b7f4",
   "metadata": {},
   "outputs": [
    {
     "name": "stdout",
     "output_type": "stream",
     "text": [
      "{'proSubash', 'Rokithran', 'pro', 'Sandeep', 'Sylender'}\n",
      "{'Sriram', 'Rokithran', 'king', 'Sujan'}\n",
      "{'Sriram', 'Sujan', 'proSubash', 'pro', 'Rokithran', 'king', 'Sandeep', 'Sylender'}\n"
     ]
    }
   ],
   "source": [
    "print(actors)\n",
    "print(actors2)\n",
    "newActors = actors.union(actors2) # union of two sets\n",
    "print(newActors)"
   ]
  },
  {
   "cell_type": "code",
   "execution_count": 90,
   "id": "0ee3dff2",
   "metadata": {},
   "outputs": [
    {
     "name": "stdout",
     "output_type": "stream",
     "text": [
      "{'Rokithran'}\n"
     ]
    }
   ],
   "source": [
    "newActors= actors.intersection(actors2)\n",
    "print(newActors)"
   ]
  },
  {
   "cell_type": "code",
   "execution_count": 91,
   "id": "97f43eb0",
   "metadata": {},
   "outputs": [
    {
     "name": "stdout",
     "output_type": "stream",
     "text": [
      "{'proSubash', 'pro', 'Sandeep', 'Sylender'}\n"
     ]
    }
   ],
   "source": [
    "newActors = actors.difference(actors2)\n",
    "print(newActors)"
   ]
  },
  {
   "cell_type": "code",
   "execution_count": 92,
   "id": "85d1f748",
   "metadata": {},
   "outputs": [
    {
     "name": "stdout",
     "output_type": "stream",
     "text": [
      "{'Sriram', 'Sujan', 'proSubash', 'Rokithran', 'pro', 'king', 'Sandeep', 'Sylender'}\n"
     ]
    }
   ],
   "source": [
    "actors.update(actors2)\n",
    "print(actors)\n"
   ]
  },
  {
   "cell_type": "code",
   "execution_count": 93,
   "id": "86cf88b5",
   "metadata": {},
   "outputs": [
    {
     "name": "stdout",
     "output_type": "stream",
     "text": [
      "{'Sriram', 'Rokithran', 'king', 'Sujan'}\n"
     ]
    }
   ],
   "source": [
    "print(actors2)"
   ]
  },
  {
   "cell_type": "code",
   "execution_count": 94,
   "id": "44359d13",
   "metadata": {},
   "outputs": [
    {
     "name": "stdout",
     "output_type": "stream",
     "text": [
      "{'Rokithran', 'vinay', 'zexan'}\n",
      "{'Rokithran'}\n"
     ]
    }
   ],
   "source": [
    "friends = {\"Rokithran\",\"zexan\",\"vinay\"}\n",
    "print(friends)\n",
    "actors.intersection_update(friends)\n",
    "print(actors)"
   ]
  },
  {
   "cell_type": "code",
   "execution_count": 95,
   "id": "4a0efd8b",
   "metadata": {},
   "outputs": [
    {
     "name": "stdout",
     "output_type": "stream",
     "text": [
      "{'vinay', 'zexan'}\n"
     ]
    }
   ],
   "source": [
    "friends.difference_update(actors2)\n",
    "print(friends)"
   ]
  },
  {
   "cell_type": "code",
   "execution_count": 96,
   "id": "c5610306",
   "metadata": {},
   "outputs": [
    {
     "name": "stdout",
     "output_type": "stream",
     "text": [
      "set()\n"
     ]
    }
   ],
   "source": [
    "friends.clear()\n",
    "print(friends)"
   ]
  },
  {
   "cell_type": "code",
   "execution_count": 107,
   "id": "391e0d9e",
   "metadata": {},
   "outputs": [
    {
     "name": "stdout",
     "output_type": "stream",
     "text": [
      "{'Sriram', 1, 2, 3, 'Rokithran'}\n"
     ]
    },
    {
     "data": {
      "text/plain": [
       "'Sriram'"
      ]
     },
     "execution_count": 107,
     "metadata": {},
     "output_type": "execute_result"
    }
   ],
   "source": [
    "friends = {\"Rokithran\",\"Sriram\",1,2,3}\n",
    "print(friends)\n",
    "friends.pop()"
   ]
  },
  {
   "cell_type": "code",
   "execution_count": 99,
   "id": "41caab83",
   "metadata": {},
   "outputs": [
    {
     "name": "stdout",
     "output_type": "stream",
     "text": [
      "{1, 2, 3, 'Rokithran'}\n"
     ]
    }
   ],
   "source": [
    "print(friends)"
   ]
  },
  {
   "cell_type": "code",
   "execution_count": 100,
   "id": "489407fc",
   "metadata": {},
   "outputs": [],
   "source": [
    "friends.remove(1)"
   ]
  },
  {
   "cell_type": "code",
   "execution_count": 101,
   "id": "0819928d",
   "metadata": {},
   "outputs": [
    {
     "name": "stdout",
     "output_type": "stream",
     "text": [
      "{2, 3, 'Rokithran'}\n"
     ]
    }
   ],
   "source": [
    "print(friends)"
   ]
  },
  {
   "cell_type": "code",
   "execution_count": 102,
   "id": "5e704a76",
   "metadata": {},
   "outputs": [
    {
     "name": "stdout",
     "output_type": "stream",
     "text": [
      "{3, 'Rokithran'}\n"
     ]
    }
   ],
   "source": [
    "friends.discard(2)\n",
    "print(friends)"
   ]
  },
  {
   "cell_type": "code",
   "execution_count": 103,
   "id": "98ae42ba",
   "metadata": {},
   "outputs": [
    {
     "data": {
      "text/plain": [
       "False"
      ]
     },
     "execution_count": 103,
     "metadata": {},
     "output_type": "execute_result"
    }
   ],
   "source": [
    "friends.isdisjoint(actors) # both sets have null intersection or not"
   ]
  },
  {
   "cell_type": "code",
   "execution_count": 104,
   "id": "037cc6f8",
   "metadata": {},
   "outputs": [
    {
     "name": "stdout",
     "output_type": "stream",
     "text": [
      "{'Rokithran'}\n"
     ]
    }
   ],
   "source": [
    "print(actors)"
   ]
  },
  {
   "cell_type": "code",
   "execution_count": 106,
   "id": "305eaaad",
   "metadata": {},
   "outputs": [
    {
     "data": {
      "text/plain": [
       "True"
      ]
     },
     "execution_count": 106,
     "metadata": {},
     "output_type": "execute_result"
    }
   ],
   "source": [
    "actors={2}\n",
    "actors.isdisjoint(friends)"
   ]
  },
  {
   "cell_type": "code",
   "execution_count": 109,
   "id": "34ac911a",
   "metadata": {},
   "outputs": [
    {
     "data": {
      "text/plain": [
       "True"
      ]
     },
     "execution_count": 109,
     "metadata": {},
     "output_type": "execute_result"
    }
   ],
   "source": [
    "actors = {\"Rokithran\"}\n",
    "actors.issubset(friends)"
   ]
  },
  {
   "cell_type": "code",
   "execution_count": 111,
   "id": "1abdec87",
   "metadata": {},
   "outputs": [
    {
     "data": {
      "text/plain": [
       "True"
      ]
     },
     "execution_count": 111,
     "metadata": {},
     "output_type": "execute_result"
    }
   ],
   "source": [
    "friends.issuperset(actors)"
   ]
  },
  {
   "cell_type": "code",
   "execution_count": 112,
   "id": "67f3e031",
   "metadata": {},
   "outputs": [
    {
     "name": "stdout",
     "output_type": "stream",
     "text": [
      "{1, 2, 3, 'Rokithran'}\n"
     ]
    }
   ],
   "source": [
    "print(friends)"
   ]
  },
  {
   "cell_type": "code",
   "execution_count": 113,
   "id": "752968f0",
   "metadata": {},
   "outputs": [
    {
     "data": {
      "text/plain": [
       "{'Cats', 'Elephant', 'Horse', 'Monkeys'}"
      ]
     },
     "execution_count": 113,
     "metadata": {},
     "output_type": "execute_result"
    }
   ],
   "source": [
    "animals1 = {\"Dogs\",\"Cats\",\"Horse\",\"Lion\",\"Elephant\"}\n",
    "animals2={\"Dogs\",\"Monkeys\",\"Lion\"}\n",
    "animals1.symmetric_difference(animals2)"
   ]
  },
  {
   "cell_type": "code",
   "execution_count": 114,
   "id": "27b87ac1",
   "metadata": {},
   "outputs": [],
   "source": [
    "animals2.symmetric_difference_update(animals1)"
   ]
  },
  {
   "cell_type": "code",
   "execution_count": 115,
   "id": "825f62ed",
   "metadata": {},
   "outputs": [
    {
     "name": "stdout",
     "output_type": "stream",
     "text": [
      "{'Cats', 'Monkeys', 'Elephant', 'Horse'}\n"
     ]
    }
   ],
   "source": [
    "print(animals2)"
   ]
  },
  {
   "cell_type": "code",
   "execution_count": 116,
   "id": "826ca816",
   "metadata": {},
   "outputs": [
    {
     "name": "stdout",
     "output_type": "stream",
     "text": [
      "{'name': 'ThiruMurugan', 'age': 18, 'gender': 'Male'}\n"
     ]
    }
   ],
   "source": [
    "# Dictionary it is like key-value pairs\n",
    "students={\n",
    "    \"name\":\"ThiruMurugan\",\n",
    "    \"age\":18,\n",
    "    \"gender\":\"Male\"\n",
    "}\n",
    "print(students)\n"
   ]
  },
  {
   "cell_type": "code",
   "execution_count": 117,
   "id": "a0105d56",
   "metadata": {},
   "outputs": [
    {
     "name": "stdout",
     "output_type": "stream",
     "text": [
      "<class 'dict'>\n"
     ]
    }
   ],
   "source": [
    "print(type(students))"
   ]
  },
  {
   "cell_type": "code",
   "execution_count": 118,
   "id": "7961bea5",
   "metadata": {},
   "outputs": [
    {
     "name": "stdout",
     "output_type": "stream",
     "text": [
      "name=ThiruMurugan\n",
      "age=18\n",
      "gender=Male\n"
     ]
    }
   ],
   "source": [
    "for key,value in students.items(): # to get keys and value\n",
    "    print(f\"{key}={value}\")"
   ]
  },
  {
   "cell_type": "code",
   "execution_count": 119,
   "id": "d2ddc72d",
   "metadata": {},
   "outputs": [
    {
     "name": "stdout",
     "output_type": "stream",
     "text": [
      "name\n",
      "age\n",
      "gender\n"
     ]
    }
   ],
   "source": [
    "for key in students.keys():\n",
    "    print(key)"
   ]
  },
  {
   "cell_type": "code",
   "execution_count": 120,
   "id": "5eca312c",
   "metadata": {},
   "outputs": [
    {
     "name": "stdout",
     "output_type": "stream",
     "text": [
      "ThiruMurugan\n",
      "18\n",
      "Male\n"
     ]
    }
   ],
   "source": [
    "for value in students.values():\n",
    "    print(value)"
   ]
  },
  {
   "cell_type": "code",
   "execution_count": 121,
   "id": "dec6ec37",
   "metadata": {},
   "outputs": [
    {
     "data": {
      "text/plain": [
       "dict_keys(['name', 'age', 'gender'])"
      ]
     },
     "execution_count": 121,
     "metadata": {},
     "output_type": "execute_result"
    }
   ],
   "source": [
    "students.keys()"
   ]
  },
  {
   "cell_type": "code",
   "execution_count": 122,
   "id": "f1fbe831",
   "metadata": {},
   "outputs": [
    {
     "data": {
      "text/plain": [
       "dict_values(['ThiruMurugan', 18, 'Male'])"
      ]
     },
     "execution_count": 122,
     "metadata": {},
     "output_type": "execute_result"
    }
   ],
   "source": [
    "students.values()"
   ]
  },
  {
   "cell_type": "code",
   "execution_count": 126,
   "id": "f2ad32a2",
   "metadata": {},
   "outputs": [
    {
     "name": "stdout",
     "output_type": "stream",
     "text": [
      "None\n"
     ]
    }
   ],
   "source": []
  },
  {
   "cell_type": "code",
   "execution_count": 1,
   "id": "d91dca9e",
   "metadata": {},
   "outputs": [
    {
     "name": "stdout",
     "output_type": "stream",
     "text": [
      "{'Tamil': 93, 'English': 55, 'Maths': 66, 'Science': 78}\n"
     ]
    }
   ],
   "source": [
    "# Dictionary data type\n",
    "marks={\n",
    "    \"Tamil\":93,\n",
    "    \"English\":55,\n",
    "    \"Maths\":66,\n",
    "    \"Science\":78,\n",
    "}\n",
    "print(marks)"
   ]
  },
  {
   "cell_type": "code",
   "execution_count": 2,
   "id": "e8e5aca1",
   "metadata": {},
   "outputs": [
    {
     "name": "stdout",
     "output_type": "stream",
     "text": [
      "<class 'dict'>\n"
     ]
    }
   ],
   "source": [
    "print(type(marks))"
   ]
  },
  {
   "cell_type": "code",
   "execution_count": 3,
   "id": "c3d44d3a",
   "metadata": {},
   "outputs": [
    {
     "name": "stdout",
     "output_type": "stream",
     "text": [
      "dict_keys(['Tamil', 'English', 'Maths', 'Science'])\n"
     ]
    }
   ],
   "source": [
    "print(marks.keys()) # to get keys"
   ]
  },
  {
   "cell_type": "code",
   "execution_count": 4,
   "id": "638cc214",
   "metadata": {},
   "outputs": [],
   "source": [
    "marks[\"Social Science\"]=85"
   ]
  },
  {
   "cell_type": "code",
   "execution_count": 5,
   "id": "179ea401",
   "metadata": {},
   "outputs": [
    {
     "name": "stdout",
     "output_type": "stream",
     "text": [
      "{'Tamil': 93, 'English': 55, 'Maths': 66, 'Science': 78, 'Social Science': 85}\n"
     ]
    }
   ],
   "source": [
    "print(marks)"
   ]
  },
  {
   "cell_type": "code",
   "execution_count": 6,
   "id": "e8fc50ea",
   "metadata": {},
   "outputs": [
    {
     "name": "stdout",
     "output_type": "stream",
     "text": [
      "dict_values([93, 55, 66, 78, 85])\n"
     ]
    }
   ],
   "source": [
    "print(marks.values())"
   ]
  },
  {
   "cell_type": "code",
   "execution_count": 7,
   "id": "a509cad8",
   "metadata": {},
   "outputs": [
    {
     "name": "stdout",
     "output_type": "stream",
     "text": [
      "Student has Tamil during this year\n",
      "Student has English during this year\n",
      "Student has Maths during this year\n",
      "Student has Science during this year\n",
      "Student has Social Science during this year\n"
     ]
    }
   ],
   "source": [
    "for subject in marks.keys():\n",
    "    print(f\"Student has {subject} during this year\")"
   ]
  },
  {
   "cell_type": "code",
   "execution_count": 8,
   "id": "52d717e4",
   "metadata": {},
   "outputs": [
    {
     "name": "stdout",
     "output_type": "stream",
     "text": [
      "Student has got 93 in this year\n",
      "Student has got 55 in this year\n",
      "Student has got 66 in this year\n",
      "Student has got 78 in this year\n",
      "Student has got 85 in this year\n"
     ]
    }
   ],
   "source": [
    "for mark in marks.values():\n",
    "    print(f\"Student has got {mark} in this year\")"
   ]
  },
  {
   "cell_type": "code",
   "execution_count": 79,
   "id": "2c669535",
   "metadata": {},
   "outputs": [
    {
     "name": "stdout",
     "output_type": "stream",
     "text": [
      "Student has got 93 in Tamil in this year\n",
      "Student has got 55 in English in this year\n",
      "Student has got 78 in Science in this year\n",
      "Student has got 85 in Social Science in this year\n",
      "Student has got 99 in Maths in this year\n",
      "Student has got 99 in Physics in this year\n",
      "No more marks\n"
     ]
    }
   ],
   "source": [
    "# to get key and value simulataneously\n",
    "for subject,mark in marks.items():\n",
    "    print(f\"Student has got {mark} in {subject} in this year\")\n",
    "else:\n",
    "    print(\"No more marks\")"
   ]
  },
  {
   "cell_type": "code",
   "execution_count": 16,
   "id": "4534f983",
   "metadata": {},
   "outputs": [
    {
     "name": "stdout",
     "output_type": "stream",
     "text": [
      "{'Tamil': 93, 'English': 55, 'Science': 78, 'Social Science': 85}\n"
     ]
    }
   ],
   "source": [
    "\n",
    "print(marks)\n"
   ]
  },
  {
   "cell_type": "code",
   "execution_count": 19,
   "id": "86fadc89",
   "metadata": {},
   "outputs": [
    {
     "name": "stdout",
     "output_type": "stream",
     "text": [
      "{'Tamil': 93, 'English': 55, 'Science': 78, 'Social Science': 85, 'Maths': 66}\n"
     ]
    }
   ],
   "source": [
    "marks[\"Maths\"]=85\n",
    "marks[\"Maths\"]=66\n",
    "print(marks)"
   ]
  },
  {
   "cell_type": "code",
   "execution_count": 20,
   "id": "bbc51203",
   "metadata": {},
   "outputs": [
    {
     "data": {
      "text/plain": [
       "('Maths', 66)"
      ]
     },
     "execution_count": 20,
     "metadata": {},
     "output_type": "execute_result"
    }
   ],
   "source": [
    "marks.popitem()"
   ]
  },
  {
   "cell_type": "code",
   "execution_count": 21,
   "id": "b94ca4f0",
   "metadata": {},
   "outputs": [
    {
     "name": "stdout",
     "output_type": "stream",
     "text": [
      "{'Tamil': 93, 'English': 55, 'Science': 78, 'Social Science': 85}\n"
     ]
    }
   ],
   "source": [
    "print(marks)"
   ]
  },
  {
   "cell_type": "code",
   "execution_count": 22,
   "id": "c9fa6dca",
   "metadata": {},
   "outputs": [],
   "source": [
    "marks1=marks.copy()"
   ]
  },
  {
   "cell_type": "code",
   "execution_count": 23,
   "id": "f6630585",
   "metadata": {},
   "outputs": [
    {
     "name": "stdout",
     "output_type": "stream",
     "text": [
      "{'Tamil': 93, 'English': 55, 'Science': 78, 'Social Science': 85}\n"
     ]
    }
   ],
   "source": [
    "print(marks1)"
   ]
  },
  {
   "cell_type": "code",
   "execution_count": 24,
   "id": "9fad89d3",
   "metadata": {},
   "outputs": [],
   "source": [
    "marks1.clear()"
   ]
  },
  {
   "cell_type": "code",
   "execution_count": 25,
   "id": "ddae081d",
   "metadata": {},
   "outputs": [
    {
     "name": "stdout",
     "output_type": "stream",
     "text": [
      "{}\n"
     ]
    }
   ],
   "source": [
    "print(marks1)"
   ]
  },
  {
   "cell_type": "code",
   "execution_count": 50,
   "id": "1f78c886",
   "metadata": {},
   "outputs": [],
   "source": [
    "marks1 =marks.fromkeys(marks.keys(),90)"
   ]
  },
  {
   "cell_type": "code",
   "execution_count": 51,
   "id": "eed9647c",
   "metadata": {},
   "outputs": [
    {
     "name": "stdout",
     "output_type": "stream",
     "text": [
      "{'Tamil': 93, 'English': 55, 'Science': 78, 'Social Science': 85}\n"
     ]
    }
   ],
   "source": [
    "print(marks)"
   ]
  },
  {
   "cell_type": "code",
   "execution_count": 52,
   "id": "6d0e18b6",
   "metadata": {},
   "outputs": [
    {
     "name": "stdout",
     "output_type": "stream",
     "text": [
      "{'Tamil': 90, 'English': 90, 'Science': 90, 'Social Science': 90}\n"
     ]
    }
   ],
   "source": [
    "print(marks1)"
   ]
  },
  {
   "cell_type": "code",
   "execution_count": 56,
   "id": "425221c3",
   "metadata": {},
   "outputs": [
    {
     "name": "stdout",
     "output_type": "stream",
     "text": [
      "78\n"
     ]
    }
   ],
   "source": [
    "print(marks.get(\"Science\")) # get the value by key"
   ]
  },
  {
   "cell_type": "code",
   "execution_count": 71,
   "id": "4e589623",
   "metadata": {},
   "outputs": [
    {
     "data": {
      "text/plain": [
       "99"
      ]
     },
     "execution_count": 71,
     "metadata": {},
     "output_type": "execute_result"
    }
   ],
   "source": [
    "marks.setdefault(\"Maths\",99)"
   ]
  },
  {
   "cell_type": "code",
   "execution_count": 72,
   "id": "a64b992e",
   "metadata": {},
   "outputs": [
    {
     "name": "stdout",
     "output_type": "stream",
     "text": [
      "{'Tamil': 93, 'English': 55, 'Science': 78, 'Social Science': 85, 'Maths': 99}\n"
     ]
    }
   ],
   "source": [
    "print(marks)"
   ]
  },
  {
   "cell_type": "code",
   "execution_count": 73,
   "id": "7fa76c02",
   "metadata": {},
   "outputs": [
    {
     "data": {
      "text/plain": [
       "96"
      ]
     },
     "execution_count": 73,
     "metadata": {},
     "output_type": "execute_result"
    }
   ],
   "source": [
    "marks.setdefault(\"Physics\",96) # set the key and value default if it is not present in dictionary"
   ]
  },
  {
   "cell_type": "code",
   "execution_count": 74,
   "id": "e949bbc1",
   "metadata": {},
   "outputs": [
    {
     "name": "stdout",
     "output_type": "stream",
     "text": [
      "{'Tamil': 93, 'English': 55, 'Science': 78, 'Social Science': 85, 'Maths': 99, 'Physics': 96}\n"
     ]
    }
   ],
   "source": [
    "print(marks)"
   ]
  },
  {
   "cell_type": "code",
   "execution_count": 77,
   "id": "6cdb16e4",
   "metadata": {},
   "outputs": [],
   "source": [
    "marks.update({\"Physics\":99})"
   ]
  },
  {
   "cell_type": "code",
   "execution_count": 78,
   "id": "35b3f57e",
   "metadata": {},
   "outputs": [
    {
     "name": "stdout",
     "output_type": "stream",
     "text": [
      "{'Tamil': 93, 'English': 55, 'Science': 78, 'Social Science': 85, 'Maths': 99, 'Physics': 99}\n"
     ]
    }
   ],
   "source": [
    "print(marks)"
   ]
  },
  {
   "cell_type": "code",
   "execution_count": 2,
   "id": "19e4b61a",
   "metadata": {},
   "outputs": [
    {
     "name": "stdout",
     "output_type": "stream",
     "text": [
      " 2\n",
      " subash\n",
      " 12.00\n",
      " joker\n",
      " 13.00\n"
     ]
    }
   ],
   "source": [
    "  records=[]\n",
    "  for i in range(int(input())):\n",
    "        name = input()\n",
    "        score = float(input())\n",
    "        records.append([name,score])\n",
    "    "
   ]
  },
  {
   "cell_type": "code",
   "execution_count": 3,
   "id": "1b565686-bff6-4fb8-8d0b-3d2f53ad2e5d",
   "metadata": {},
   "outputs": [
    {
     "data": {
      "text/plain": [
       "\u001b[1;31mSignature:\u001b[0m \u001b[0mrecords\u001b[0m\u001b[1;33m.\u001b[0m\u001b[0msort\u001b[0m\u001b[1;33m(\u001b[0m\u001b[1;33m*\u001b[0m\u001b[1;33m,\u001b[0m \u001b[0mkey\u001b[0m\u001b[1;33m=\u001b[0m\u001b[1;32mNone\u001b[0m\u001b[1;33m,\u001b[0m \u001b[0mreverse\u001b[0m\u001b[1;33m=\u001b[0m\u001b[1;32mFalse\u001b[0m\u001b[1;33m)\u001b[0m\u001b[1;33m\u001b[0m\u001b[1;33m\u001b[0m\u001b[0m\n",
       "\u001b[1;31mDocstring:\u001b[0m\n",
       "Sort the list in ascending order and return None.\n",
       "\n",
       "The sort is in-place (i.e. the list itself is modified) and stable (i.e. the\n",
       "order of two equal elements is maintained).\n",
       "\n",
       "If a key function is given, apply it once to each list item and sort them,\n",
       "ascending or descending, according to their function values.\n",
       "\n",
       "The reverse flag can be set to sort in descending order.\n",
       "\u001b[1;31mType:\u001b[0m      builtin_function_or_method"
      ]
     },
     "metadata": {},
     "output_type": "display_data"
    }
   ],
   "source": [
    "records.sort??\n"
   ]
  },
  {
   "cell_type": "code",
   "execution_count": 10,
   "id": "c57be54a-d197-4265-b467-c4e234975abd",
   "metadata": {},
   "outputs": [
    {
     "ename": "TypeError",
     "evalue": "'list' object is not callable",
     "output_type": "error",
     "traceback": [
      "\u001b[1;31m---------------------------------------------------------------------------\u001b[0m",
      "\u001b[1;31mTypeError\u001b[0m                                 Traceback (most recent call last)",
      "Cell \u001b[1;32mIn[10], line 1\u001b[0m\n\u001b[1;32m----> 1\u001b[0m \u001b[43mrecords\u001b[49m\u001b[38;5;241;43m.\u001b[39;49m\u001b[43msort\u001b[49m\u001b[43m(\u001b[49m\u001b[43mkey\u001b[49m\u001b[38;5;241;43m=\u001b[39;49m\u001b[43mrecords\u001b[49m\u001b[43m[\u001b[49m\u001b[38;5;241;43m0\u001b[39;49m\u001b[43m]\u001b[49m\u001b[43m)\u001b[49m\n",
      "\u001b[1;31mTypeError\u001b[0m: 'list' object is not callable"
     ]
    }
   ],
   "source": [
    "records.sort(key=records[0])"
   ]
  },
  {
   "cell_type": "code",
   "execution_count": 9,
   "id": "0610320a-2680-4afb-a5f3-4945c3dab027",
   "metadata": {},
   "outputs": [
    {
     "name": "stdout",
     "output_type": "stream",
     "text": [
      "[['joker', 13.0], ['subash', 12.0]]\n"
     ]
    },
    {
     "data": {
      "text/plain": [
       "13.0"
      ]
     },
     "execution_count": 9,
     "metadata": {},
     "output_type": "execute_result"
    }
   ],
   "source": [
    "print(records)\n",
    "records[0][1]"
   ]
  },
  {
   "cell_type": "markdown",
   "id": "b7e34cc6-65a3-4ce8-9d38-d6c547051832",
   "metadata": {},
   "source": [
    "\n",
    "# Exception Handling"
   ]
  },
  {
   "cell_type": "code",
   "execution_count": 11,
   "id": "130893be-e5bc-46c4-946d-0991e266af1a",
   "metadata": {},
   "outputs": [
    {
     "name": "stdout",
     "output_type": "stream",
     "text": [
      "Enter a number 12\n"
     ]
    },
    {
     "name": "stdout",
     "output_type": "stream",
     "text": [
      "Help on class ZeroDivisionError in module builtins:\n",
      "\n",
      "class ZeroDivisionError(ArithmeticError)\n",
      " |  Second argument to a division or modulo operation was zero.\n",
      " |  \n",
      " |  Method resolution order:\n",
      " |      ZeroDivisionError\n",
      " |      ArithmeticError\n",
      " |      Exception\n",
      " |      BaseException\n",
      " |      object\n",
      " |  \n",
      " |  Methods defined here:\n",
      " |  \n",
      " |  __init__(self, /, *args, **kwargs)\n",
      " |      Initialize self.  See help(type(self)) for accurate signature.\n",
      " |  \n",
      " |  ----------------------------------------------------------------------\n",
      " |  Static methods defined here:\n",
      " |  \n",
      " |  __new__(*args, **kwargs) from builtins.type\n",
      " |      Create and return a new object.  See help(type) for accurate signature.\n",
      " |  \n",
      " |  ----------------------------------------------------------------------\n",
      " |  Methods inherited from BaseException:\n",
      " |  \n",
      " |  __delattr__(self, name, /)\n",
      " |      Implement delattr(self, name).\n",
      " |  \n",
      " |  __getattribute__(self, name, /)\n",
      " |      Return getattr(self, name).\n",
      " |  \n",
      " |  __reduce__(...)\n",
      " |      Helper for pickle.\n",
      " |  \n",
      " |  __repr__(self, /)\n",
      " |      Return repr(self).\n",
      " |  \n",
      " |  __setattr__(self, name, value, /)\n",
      " |      Implement setattr(self, name, value).\n",
      " |  \n",
      " |  __setstate__(...)\n",
      " |  \n",
      " |  __str__(self, /)\n",
      " |      Return str(self).\n",
      " |  \n",
      " |  add_note(...)\n",
      " |      Exception.add_note(note) --\n",
      " |      add a note to the exception\n",
      " |  \n",
      " |  with_traceback(...)\n",
      " |      Exception.with_traceback(tb) --\n",
      " |      set self.__traceback__ to tb and return self.\n",
      " |  \n",
      " |  ----------------------------------------------------------------------\n",
      " |  Data descriptors inherited from BaseException:\n",
      " |  \n",
      " |  __cause__\n",
      " |      exception cause\n",
      " |  \n",
      " |  __context__\n",
      " |      exception context\n",
      " |  \n",
      " |  __dict__\n",
      " |  \n",
      " |  __suppress_context__\n",
      " |  \n",
      " |  __traceback__\n",
      " |  \n",
      " |  args\n",
      "\n",
      "None\n"
     ]
    }
   ],
   "source": [
    "number = int(input(\"Enter a number\"))\n",
    "try:\n",
    "    number = number//0\n",
    "    print(number)\n",
    "except ZeroDivisionError:\n",
    "    print(help(\"ZeroDivisionError\"))\n"
   ]
  },
  {
   "cell_type": "code",
   "execution_count": 17,
   "id": "82b42fb8-4998-4e8d-80a6-4e4ec3d81fe8",
   "metadata": {},
   "outputs": [
    {
     "name": "stdout",
     "output_type": "stream",
     "text": [
      "False\n"
     ]
    }
   ],
   "source": [
    "try:\n",
    "    h = h > 20\n",
    "    if(h== 20):\n",
    "        print(h\n",
    "except ValueError:\n",
    "    print(\"ValueError\")\n",
    "except NameError:\n",
    "    print(\"NameError\")"
   ]
  },
  {
   "cell_type": "code",
   "execution_count": 25,
   "id": "58827045-863b-4bf3-9bcf-c612e27ac9f2",
   "metadata": {},
   "outputs": [
    {
     "name": "stdout",
     "output_type": "stream",
     "text": [
      "something\n",
      "Error\n",
      "Resolve Error if found\n"
     ]
    }
   ],
   "source": [
    "try:\n",
    "    print(\"something\")\n",
    "    if num == 20:\n",
    "        print(num)\n",
    "except Exception:\n",
    "    print(\"Error\")\n",
    "    \n",
    "finally:\n",
    "    print(\"Resolve Error if found\")"
   ]
  },
  {
   "cell_type": "code",
   "execution_count": 9,
   "id": "b65da691-9cd7-47ff-b029-775df326d32f",
   "metadata": {},
   "outputs": [
    {
     "ename": "ValueError",
     "evalue": "Number cannot be negative",
     "output_type": "error",
     "traceback": [
      "\u001b[1;31m---------------------------------------------------------------------------\u001b[0m",
      "\u001b[1;31mValueError\u001b[0m                                Traceback (most recent call last)",
      "Cell \u001b[1;32mIn[9], line 3\u001b[0m\n\u001b[0;32m      1\u001b[0m a \u001b[38;5;241m=\u001b[39m \u001b[38;5;28mint\u001b[39m(\u001b[38;5;28minput\u001b[39m(\u001b[38;5;124m\"\u001b[39m\u001b[38;5;124mEnter a number : \u001b[39m\u001b[38;5;124m\"\u001b[39m))\n\u001b[0;32m      2\u001b[0m \u001b[38;5;28;01mif\u001b[39;00m a \u001b[38;5;241m<\u001b[39m\u001b[38;5;241m=\u001b[39m \u001b[38;5;241m0\u001b[39m:\n\u001b[1;32m----> 3\u001b[0m     \u001b[38;5;28;01mraise\u001b[39;00m \u001b[38;5;167;01mValueError\u001b[39;00m(\u001b[38;5;124m\"\u001b[39m\u001b[38;5;124mNumber cannot be negative\u001b[39m\u001b[38;5;124m\"\u001b[39m)\n",
      "\u001b[1;31mValueError\u001b[0m: Number cannot be negative"
     ]
    }
   ],
   "source": [
    "a = int(input(\"Enter a number : \"))\n",
    "if a <= 0:\n",
    "    raise ValueError(\"Number cannot be negative\")\n",
    "    "
   ]
  },
  {
   "cell_type": "code",
   "execution_count": null,
   "id": "711597cd-ba05-4774-9f27-5c0d3bf82a69",
   "metadata": {},
   "outputs": [],
   "source": []
  }
 ],
 "metadata": {
  "kernelspec": {
   "display_name": "Python 3 (ipykernel)",
   "language": "python",
   "name": "python3"
  },
  "language_info": {
   "codemirror_mode": {
    "name": "ipython",
    "version": 3
   },
   "file_extension": ".py",
   "mimetype": "text/x-python",
   "name": "python",
   "nbconvert_exporter": "python",
   "pygments_lexer": "ipython3",
   "version": "3.12.2"
  }
 },
 "nbformat": 4,
 "nbformat_minor": 5
}

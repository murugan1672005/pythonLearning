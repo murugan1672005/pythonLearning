{
 "cells": [
  {
   "cell_type": "markdown",
   "metadata": {},
   "source": [
    "# Game of Question and answer using lists"
   ]
  },
  {
   "cell_type": "code",
   "execution_count": 3,
   "metadata": {},
   "outputs": [
    {
     "name": "stdout",
     "output_type": "stream",
     "text": [
      "Which element is the most abudant element in the earth crust by weight? \n",
      "Option A : Oxygen\n",
      "Option B : Silicon\n",
      "Option C : Aluminium\n",
      "Option D : Iron\n"
     ]
    }
   ],
   "source": [
    "questions = [\n",
    "    [\"Which element is the most abudant element in the earth crust by weight? \",\"Oxygen\",\"Silicon\",\"Aluminium\",\"Iron\",\"Oxygen\"],\n",
    "    [\"In which year did the Battle of Plassey take place, marking a significant British victory in India?\",\"1757\",\"1782\",\"1745\",\"1799\",\"1757\"],\n",
    "    [\"Which of the following countries is not a member of the European Union (EU)?\",\"Norway\",\"Austria\",\"Belgium\",\"Portugal\",\"Norway\"],\n",
    "    [\"Who is the author of the famous 20th-century novel \\\"One Hundred Years of Solitude\\\"?\",\"Gabriel Garcia Marquez\",\" Pablo Neruda\",\"Jorge Luis Borges\",\"Isabel Allende\",\"Gabriel Garcia Marquez\"],\n",
    "    [\"What is the approximate value of the mathematical constant 'e'?\",\"2.718\",\"3.142\",\"1.618\",\"1.414\",\"2.718\"],\n",
    "    [\"Which planet in our solar system has the shortest day?\",\"Venus\",\"Mars\",\"Jupiter\",\"Mercury\",\"Jupiter\"],\n",
    "    [\"Which Indian state has the longest coastline?\",\"Maharastra\",\"Gujarat\",\"TamilNadu\",\"Andhra Pradesh\",\"Gujarat\"],\n",
    "    [\"In computing, what does the acronym \\\"HTML\\\"stand for?\",\"HyperText Markup Language\",\"HyperText Markdown Language\",\"HyperTransfer Markup Language\",\"HyperText Machine Language\",\"HyperText Markup Language\"],\n",
    "    [\"Which painting is often referred to as the most famous painting in the world?\",\" The Last Supper\",\" Mona Lisa\",\" Starry Night\",\"The Scream\",\"Mona Lisa\"],\n",
    "    [\"What is the capital city of Australia?\",\"Sydney\",\"Melbourne\",\" Canberra\",\"Perth\",\"Canberra\"]\n",
    "]\n",
    "amount = 0\n",
    "for question in questions:\n",
    "    print(question[0])\n",
    "    print(\"Option A : \"+question[1])\n",
    "    print(\"Option B : \"+question[2])\n",
    "    print(\"Option C : \"+question[3])\n",
    "    print(\"Option D : \"+question[4])\n",
    "    answer = input()\n",
    "    if answer.lower() == question[5].lower():\n",
    "        amount+=10000\n",
    "    else:\n",
    "        print(\" OOps !Loser!\")\n",
    "        break\n",
    "print(\"Amount of the winner earns \",amount)\n"
   ]
  },
  {
   "cell_type": "markdown",
   "metadata": {},
   "source": [
    "Hello It is Time to learn enumerate functions"
   ]
  },
  {
   "cell_type": "code",
   "execution_count": null,
   "metadata": {},
   "outputs": [
    {
     "name": "stdout",
     "output_type": "stream",
     "text": [
      "0 : Alice\n",
      "1 : Bob\n",
      "2 : Zexan\n",
      "3 : Vinay\n"
     ]
    }
   ],
   "source": [
    "students = [\"Alice\",\"Bob\",\"Zexan\",\"Vinay\"]\n",
    "for index,student in enumerate(students):\n",
    "    print(f\"{index} : {student}\")"
   ]
  },
  {
   "cell_type": "code",
   "execution_count": null,
   "metadata": {},
   "outputs": [
    {
     "name": "stdout",
     "output_type": "stream",
     "text": [
      "Help on class enumerate in module builtins:\n",
      "\n",
      "class enumerate(object)\n",
      " |  enumerate(iterable, start=0)\n",
      " |\n",
      " |  Return an enumerate object.\n",
      " |\n",
      " |    iterable\n",
      " |      an object supporting iteration\n",
      " |\n",
      " |  The enumerate object yields pairs containing a count (from start, which\n",
      " |  defaults to zero) and a value yielded by the iterable argument.\n",
      " |\n",
      " |  enumerate is useful for obtaining an indexed list:\n",
      " |      (0, seq[0]), (1, seq[1]), (2, seq[2]), ...\n",
      " |\n",
      " |  Methods defined here:\n",
      " |\n",
      " |  __getattribute__(self, name, /)\n",
      " |      Return getattr(self, name).\n",
      " |\n",
      " |  __iter__(self, /)\n",
      " |      Implement iter(self).\n",
      " |\n",
      " |  __next__(self, /)\n",
      " |      Implement next(self).\n",
      " |\n",
      " |  __reduce__(...)\n",
      " |      Return state information for pickling.\n",
      " |\n",
      " |  ----------------------------------------------------------------------\n",
      " |  Class methods defined here:\n",
      " |\n",
      " |  __class_getitem__(...) from builtins.type\n",
      " |      See PEP 585\n",
      " |\n",
      " |  ----------------------------------------------------------------------\n",
      " |  Static methods defined here:\n",
      " |\n",
      " |  __new__(*args, **kwargs) from builtins.type\n",
      " |      Create and return a new object.  See help(type) for accurate signature.\n",
      "\n"
     ]
    }
   ],
   "source": [
    "help(\"enumerate\")"
   ]
  },
  {
   "cell_type": "code",
   "execution_count": null,
   "metadata": {},
   "outputs": [
    {
     "name": "stdout",
     "output_type": "stream",
     "text": [
      "10 Alice\n",
      "11 Bob\n",
      "12 Zexan\n",
      "13 Vinay\n"
     ]
    }
   ],
   "source": [
    "for index,student in enumerate(students,start=10):\n",
    "    print(index ,student)"
   ]
  },
  {
   "cell_type": "markdown",
   "metadata": {},
   "source": [
    "# Lambda Functions\n"
   ]
  },
  {
   "cell_type": "code",
   "execution_count": null,
   "metadata": {},
   "outputs": [
    {
     "data": {
      "text/plain": [
       "3"
      ]
     },
     "execution_count": 14,
     "metadata": {},
     "output_type": "execute_result"
    }
   ],
   "source": [
    "Addition = lambda x,y:x+y\n",
    "Addition(1,2)"
   ]
  },
  {
   "cell_type": "code",
   "execution_count": null,
   "metadata": {},
   "outputs": [
    {
     "data": {
      "text/plain": [
       "[80, 111, 110, 103, 97, 108]"
      ]
     },
     "execution_count": 3,
     "metadata": {},
     "output_type": "execute_result"
    }
   ],
   "source": [
    "# Now our problem is to convert letters to asci characters\n",
    "convert_to_ascii = lambda x : [ord(c) for c in x]\n",
    "convert_to_ascii(\"Pongal\")"
   ]
  },
  {
   "cell_type": "code",
   "execution_count": null,
   "metadata": {},
   "outputs": [
    {
     "data": {
      "text/plain": [
       "'A'"
      ]
     },
     "execution_count": 4,
     "metadata": {},
     "output_type": "execute_result"
    }
   ],
   "source": [
    "ascii_to_convert = lambda x:  chr(x)\n",
    "ascii_to_convert(65)"
   ]
  },
  {
   "cell_type": "code",
   "execution_count": null,
   "metadata": {},
   "outputs": [
    {
     "data": {
      "text/plain": [
       "[83, 117, 98, 97, 115, 104]"
      ]
     },
     "execution_count": 5,
     "metadata": {},
     "output_type": "execute_result"
    }
   ],
   "source": [
    "convert_to_ascii(\"Subash\")"
   ]
  },
  {
   "cell_type": "markdown",
   "metadata": {},
   "source": [
    "# Virtual Environments\n",
    "in virutal environment some packages are  stored inside of environment without affecting global python documentation"
   ]
  },
  {
   "cell_type": "markdown",
   "metadata": {},
   "source": [
    "1) python -m venv myenv --> to create a virutal environment for python projects\n",
    "2) myenv/Scripts/activate - - > for windows to start the virtual environment\n",
    "3) source myenv/bin/activate --> for linux /Mac os to start the virtual environment\n",
    "4) deactivate -- > stop the virtual environment\n"
   ]
  },
  {
   "cell_type": "code",
   "execution_count": null,
   "metadata": {},
   "outputs": [
    {
     "name": "stdout",
     "output_type": "stream",
     "text": [
      "\n",
      "Here is a list of the Python keywords.  Enter any keyword to get more help.\n",
      "\n",
      "False               class               from                or\n",
      "None                continue            global              pass\n",
      "True                def                 if                  raise\n",
      "and                 del                 import              return\n",
      "as                  elif                in                  try\n",
      "assert              else                is                  while\n",
      "async               except              lambda              with\n",
      "await               finally             nonlocal            yield\n",
      "break               for                 not                 \n",
      "\n"
     ]
    }
   ],
   "source": [
    "help(\"keywords\")"
   ]
  },
  {
   "cell_type": "markdown",
   "metadata": {},
   "source": [
    "# global and Local Variables"
   ]
  },
  {
   "cell_type": "code",
   "execution_count": null,
   "metadata": {},
   "outputs": [
    {
     "name": "stdout",
     "output_type": "stream",
     "text": [
      "4\n"
     ]
    }
   ],
   "source": [
    "# Here x is intialised within function so it is said to be local variable\n",
    "# it cannot be accessed outside the funtciont\n",
    "def IntegerPrinting():\n",
    "    x=4\n",
    "    print(x)\n",
    "IntegerPrinting()"
   ]
  },
  {
   "cell_type": "code",
   "execution_count": null,
   "metadata": {},
   "outputs": [
    {
     "name": "stdout",
     "output_type": "stream",
     "text": [
      "Hello World\n"
     ]
    }
   ],
   "source": [
    "def StringPrinting():\n",
    "    global y\n",
    "    y=\"Hello World\"\n",
    "    \n",
    "StringPrinting()\n",
    "print(y) #accessibly globally after called the function is global keywords work"
   ]
  },
  {
   "cell_type": "code",
   "execution_count": null,
   "metadata": {},
   "outputs": [
    {
     "name": "stdout",
     "output_type": "stream",
     "text": [
      "zip\n"
     ]
    }
   ],
   "source": [
    "def outer_function():\n",
    "    z = \"initial\"  # `z` is defined in the enclosing function scope\n",
    "    \n",
    "    def Printing():\n",
    "        nonlocal z  # Refers to the `z` defined in `outer_function`\n",
    "        z = \"zip\"   # Modifies `z`\n",
    "    \n",
    "    Printing()  # Calls the inner function\n",
    "    print(z)    # Prints the modified `z`\n",
    "\n",
    "outer_function()  # Call the outer function to execute the code\n"
   ]
  },
  {
   "cell_type": "markdown",
   "metadata": {},
   "source": [
    "# Map Function"
   ]
  },
  {
   "cell_type": "code",
   "execution_count": null,
   "metadata": {},
   "outputs": [
    {
     "name": "stdout",
     "output_type": "stream",
     "text": [
      "[1, 4, 9, 16, 25]\n"
     ]
    }
   ],
   "source": [
    "def cube(x):\n",
    "    return x**3\n",
    "def square(x):\n",
    "    return x**2\n",
    "numbers =[1,2,3,4,5]\n",
    "cubed_numbers = list(map(square,numbers))\n",
    "print(cubed_numbers)"
   ]
  },
  {
   "cell_type": "code",
   "execution_count": null,
   "metadata": {},
   "outputs": [
    {
     "name": "stdout",
     "output_type": "stream",
     "text": [
      "[21, 34, 34]\n"
     ]
    }
   ],
   "source": [
    "matrix=[21,34,45,12,34]\n",
    "def betterAge(age):\n",
    "    return age >= 18 and age <=40\n",
    "newMatrix = list(filter(betterAge,matrix))\n",
    "print(newMatrix)"
   ]
  },
  {
   "cell_type": "code",
   "execution_count": null,
   "metadata": {},
   "outputs": [
    {
     "name": "stdout",
     "output_type": "stream",
     "text": [
      "21\n"
     ]
    }
   ],
   "source": [
    "from functools import reduce\n",
    "numbers=[1,2,3,4,5,6]\n",
    "sum =reduce(lambda x, y : x+y, numbers)\n",
    "print(sum)\n"
   ]
  },
  {
   "cell_type": "code",
   "execution_count": null,
   "metadata": {},
   "outputs": [
    {
     "name": "stdout",
     "output_type": "stream",
     "text": [
      "1229\n"
     ]
    }
   ],
   "source": [
    "import math\n",
    "def isPrime(x):\n",
    "    if x < 2:\n",
    "        return False\n",
    "    for i in range(2,int(math.sqrt(x))+1):\n",
    "        if x % i == 0:\n",
    "            return False\n",
    "    return True\n",
    "numbers = [x for x in range(10000)]\n",
    "primeNumbers = list(filter(isPrime,numbers))\n",
    "print(len(primeNumbers))\n"
   ]
  },
  {
   "cell_type": "code",
   "execution_count": null,
   "metadata": {},
   "outputs": [
    {
     "name": "stdout",
     "output_type": "stream",
     "text": [
      "17\n",
      "4\n",
      "All Armstrong numbers within 10000:  [0, 1, 2, 3, 4, 5, 6, 7, 8, 9, 153, 370, 371, 407, 1634, 8208, 9474]\n",
      "All Prime ArmStrong Numbers within 10000 [2, 3, 5, 7]\n"
     ]
    }
   ],
   "source": [
    "def isArmStrong(num):\n",
    "    import math\n",
    "    count = int(math.log10(num)+1) if num > 0 else 1\n",
    "    sum = 0\n",
    "    exp = num\n",
    "    while num !=0:\n",
    "        sum+= int((num%10)**count)\n",
    "        num//=10\n",
    "    if(exp==sum):\n",
    "        return True\n",
    "    else:\n",
    "        return False\n",
    "          \n",
    "numbers = [x for x in range(10000)]\n",
    "armstrong_numbers = list(filter(isArmStrong,numbers))\n",
    "print(len(armstrong_numbers))\n",
    "primeArmStrong = list(filter(isPrime,armstrong_numbers))\n",
    "print(len(primeArmStrong))\n",
    "print(\"All Armstrong numbers within 10000: \",end=\" \")\n",
    "print(armstrong_numbers)\n",
    "print(\"All Prime ArmStrong Numbers within 10000\",end=\" \")\n",
    "print(primeArmStrong)\n"
   ]
  },
  {
   "cell_type": "markdown",
   "metadata": {},
   "source": [
    "# Os Module\n",
    "The module which helps to manage with os paths"
   ]
  },
  {
   "cell_type": "code",
   "execution_count": null,
   "metadata": {},
   "outputs": [],
   "source": [
    "# Os Module\n",
    "import os\n",
    "os.mkdir(\"E://Python//Basics//p//tommorrow\")"
   ]
  },
  {
   "cell_type": "code",
   "execution_count": null,
   "metadata": {},
   "outputs": [
    {
     "data": {
      "text/plain": [
       "True"
      ]
     },
     "execution_count": 11,
     "metadata": {},
     "output_type": "execute_result"
    }
   ],
   "source": [
    "# to check whether path is exists or not\n",
    "os.path.exists(\"E://Python//Basics//p//today\") "
   ]
  },
  {
   "cell_type": "code",
   "execution_count": null,
   "metadata": {},
   "outputs": [],
   "source": [
    "os.mkdir(\"E://Python//Basics//Hello\")"
   ]
  },
  {
   "cell_type": "code",
   "execution_count": null,
   "metadata": {},
   "outputs": [],
   "source": [
    "for i in range(10):\n",
    "    os.mkdir(f\"E://Python//Basics//Hello//hello{i+1}\")"
   ]
  },
  {
   "cell_type": "code",
   "execution_count": null,
   "metadata": {},
   "outputs": [],
   "source": [
    "for i in range(10):\n",
    "    os.rename(f\"E://Python//Basics//Hello//hello{i+1}\",f\"E://Python//Basics//Hello//Tutorial {i+1}\")"
   ]
  },
  {
   "cell_type": "code",
   "execution_count": null,
   "metadata": {},
   "outputs": [],
   "source": [
    "os.rename(f\"E://Python//Basics//Hello\",f\"E://Python//Basics//Tutorial\")"
   ]
  },
  {
   "cell_type": "code",
   "execution_count": null,
   "metadata": {},
   "outputs": [
    {
     "name": "stdout",
     "output_type": "stream",
     "text": [
      "Tutorial 1\n",
      "Tutorial 10\n",
      "Tutorial 2\n",
      "Tutorial 3\n",
      "Tutorial 4\n",
      "Tutorial 5\n",
      "Tutorial 6\n",
      "Tutorial 7\n",
      "Tutorial 8\n",
      "Tutorial 9\n"
     ]
    }
   ],
   "source": [
    "folders = os.listdir(\"Tutorial\")\n",
    "for folder in folders:\n",
    "    print(folder)"
   ]
  },
  {
   "cell_type": "code",
   "execution_count": null,
   "metadata": {},
   "outputs": [
    {
     "name": "stdout",
     "output_type": "stream",
     "text": [
      "[]\n",
      "[]\n",
      "[]\n",
      "[]\n",
      "[]\n",
      "[]\n",
      "[]\n",
      "[]\n",
      "[]\n",
      "[]\n"
     ]
    }
   ],
   "source": [
    "for folder in folders:\n",
    "    print(os.listdir(f\"Tutorial//{folder}\"))"
   ]
  },
  {
   "cell_type": "code",
   "execution_count": null,
   "metadata": {},
   "outputs": [
    {
     "data": {
      "text/plain": [
       "'e:\\\\Python\\\\Basics'"
      ]
     },
     "execution_count": 23,
     "metadata": {},
     "output_type": "execute_result"
    }
   ],
   "source": [
    "os.getcwd()"
   ]
  },
  {
   "cell_type": "code",
   "execution_count": null,
   "metadata": {},
   "outputs": [
    {
     "ename": "PermissionError",
     "evalue": "[WinError 5] Access is denied: 'p'",
     "output_type": "error",
     "traceback": [
      "\u001b[1;31m---------------------------------------------------------------------------\u001b[0m",
      "\u001b[1;31mPermissionError\u001b[0m                           Traceback (most recent call last)",
      "Cell \u001b[1;32mIn[25], line 1\u001b[0m\n\u001b[1;32m----> 1\u001b[0m \u001b[43mos\u001b[49m\u001b[38;5;241;43m.\u001b[39;49m\u001b[43mremove\u001b[49m\u001b[43m(\u001b[49m\u001b[38;5;124;43m\"\u001b[39;49m\u001b[38;5;124;43mp\u001b[39;49m\u001b[38;5;124;43m\"\u001b[39;49m\u001b[43m)\u001b[49m\n",
      "\u001b[1;31mPermissionError\u001b[0m: [WinError 5] Access is denied: 'p'"
     ]
    }
   ],
   "source": [
    "os.remove(\"p\")"
   ]
  },
  {
   "cell_type": "markdown",
   "metadata": {},
   "source": [
    "# File Handling \n",
    "The handling of files in the directory is also important"
   ]
  },
  {
   "cell_type": "code",
   "execution_count": null,
   "metadata": {},
   "outputs": [
    {
     "name": "stdout",
     "output_type": "stream",
     "text": [
      "Hello Sandeep is coming here soon!\n"
     ]
    }
   ],
   "source": [
    "# reading mode  -> if not file not found throws filenotfoundException\n",
    "f = open(\"myfile.txt\",'r')\n",
    "print(f.read())"
   ]
  },
  {
   "cell_type": "code",
   "execution_count": null,
   "metadata": {},
   "outputs": [],
   "source": [
    "# writing mode ->if there is no file it will create and write in file\n",
    "f = open(\"myfil.txt\",'w')\n",
    "f.write(\"Hello Sandeep is coming here soon!\")\n",
    "f.close()"
   ]
  },
  {
   "cell_type": "code",
   "execution_count": null,
   "metadata": {},
   "outputs": [],
   "source": [
    "BiolerPlate = \"\"\"<!DOCTYPE html>\n",
    "<html lang=\"en\">\n",
    "<head>\n",
    "    <meta charset=\"UTF-8\">\n",
    "    <meta http-equiv=\"X-UA-Compatible\" content=\"IE=edge\">\n",
    "    <meta name=\"viewport\" content=\"width=device-width, initial-scale=1.0\">\n",
    "    <title>Your Page Title</title>\n",
    "    <!-- Link to CSS file or inline styles can go here -->\n",
    "    <!-- <link rel=\"stylesheet\" href=\"styles.css\"> -->\n",
    "    <!-- Add favicon if needed -->\n",
    "    <!-- <link rel=\"icon\" href=\"favicon.ico\" type=\"image/x-icon\"> -->\n",
    "</head>\n",
    "<body>\n",
    "    <!-- Your content goes here -->\n",
    "    <header>\n",
    "        <h1>Welcome to Your Website</h1>\n",
    "    </header>\n",
    "\n",
    "    <main>\n",
    "        <p>This is a basic HTML boilerplate. You can start building your content here.</p>\n",
    "        <img src=\"https://tse2.mm.bing.net/th?id=OIP.avb9nDfw3kq7NOoP0grM4wHaEK&pid=Api&P=0&h=180\"/>\n",
    "    </main>\n",
    "     \n",
    "    <footer>\n",
    "        <p>&copy; 2024 Your Company Name. All rights reserved.</p>\n",
    "    </footer>\n",
    "  \n",
    "    <!-- Link to JavaScript files or inline scripts can go here -->\n",
    "    <!-- <script src=\"script.js\"></script> -->\n",
    "</body>\n",
    "</html>\n",
    "\"\"\"\n",
    "with open('index.html','w') as f:\n",
    "       f.write(BoilerPlate)"
   ]
  },
  {
   "cell_type": "code",
   "execution_count": null,
   "metadata": {},
   "outputs": [
    {
     "name": "stdout",
     "output_type": "stream",
     "text": [
      "Help on built-in function open in module _io:\n",
      "\n",
      "open(file, mode='r', buffering=-1, encoding=None, errors=None, newline=None, closefd=True, opener=None)\n",
      "    Open file and return a stream.  Raise OSError upon failure.\n",
      "\n",
      "    file is either a text or byte string giving the name (and the path\n",
      "    if the file isn't in the current working directory) of the file to\n",
      "    be opened or an integer file descriptor of the file to be\n",
      "    wrapped. (If a file descriptor is given, it is closed when the\n",
      "    returned I/O object is closed, unless closefd is set to False.)\n",
      "\n",
      "    mode is an optional string that specifies the mode in which the file\n",
      "    is opened. It defaults to 'r' which means open for reading in text\n",
      "    mode.  Other common values are 'w' for writing (truncating the file if\n",
      "    it already exists), 'x' for creating and writing to a new file, and\n",
      "    'a' for appending (which on some Unix systems, means that all writes\n",
      "    append to the end of the file regardless of the current seek position).\n",
      "    In text mode, if encoding is not specified the encoding used is platform\n",
      "    dependent: locale.getencoding() is called to get the current locale encoding.\n",
      "    (For reading and writing raw bytes use binary mode and leave encoding\n",
      "    unspecified.) The available modes are:\n",
      "\n",
      "    ========= ===============================================================\n",
      "    Character Meaning\n",
      "    --------- ---------------------------------------------------------------\n",
      "    'r'       open for reading (default)\n",
      "    'w'       open for writing, truncating the file first\n",
      "    'x'       create a new file and open it for writing\n",
      "    'a'       open for writing, appending to the end of the file if it exists\n",
      "    'b'       binary mode\n",
      "    't'       text mode (default)\n",
      "    '+'       open a disk file for updating (reading and writing)\n",
      "    ========= ===============================================================\n",
      "\n",
      "    The default mode is 'rt' (open for reading text). For binary random\n",
      "    access, the mode 'w+b' opens and truncates the file to 0 bytes, while\n",
      "    'r+b' opens the file without truncation. The 'x' mode implies 'w' and\n",
      "    raises an `FileExistsError` if the file already exists.\n",
      "\n",
      "    Python distinguishes between files opened in binary and text modes,\n",
      "    even when the underlying operating system doesn't. Files opened in\n",
      "    binary mode (appending 'b' to the mode argument) return contents as\n",
      "    bytes objects without any decoding. In text mode (the default, or when\n",
      "    't' is appended to the mode argument), the contents of the file are\n",
      "    returned as strings, the bytes having been first decoded using a\n",
      "    platform-dependent encoding or using the specified encoding if given.\n",
      "\n",
      "    buffering is an optional integer used to set the buffering policy.\n",
      "    Pass 0 to switch buffering off (only allowed in binary mode), 1 to select\n",
      "    line buffering (only usable in text mode), and an integer > 1 to indicate\n",
      "    the size of a fixed-size chunk buffer.  When no buffering argument is\n",
      "    given, the default buffering policy works as follows:\n",
      "\n",
      "    * Binary files are buffered in fixed-size chunks; the size of the buffer\n",
      "      is chosen using a heuristic trying to determine the underlying device's\n",
      "      \"block size\" and falling back on `io.DEFAULT_BUFFER_SIZE`.\n",
      "      On many systems, the buffer will typically be 4096 or 8192 bytes long.\n",
      "\n",
      "    * \"Interactive\" text files (files for which isatty() returns True)\n",
      "      use line buffering.  Other text files use the policy described above\n",
      "      for binary files.\n",
      "\n",
      "    encoding is the name of the encoding used to decode or encode the\n",
      "    file. This should only be used in text mode. The default encoding is\n",
      "    platform dependent, but any encoding supported by Python can be\n",
      "    passed.  See the codecs module for the list of supported encodings.\n",
      "\n",
      "    errors is an optional string that specifies how encoding errors are to\n",
      "    be handled---this argument should not be used in binary mode. Pass\n",
      "    'strict' to raise a ValueError exception if there is an encoding error\n",
      "    (the default of None has the same effect), or pass 'ignore' to ignore\n",
      "    errors. (Note that ignoring encoding errors can lead to data loss.)\n",
      "    See the documentation for codecs.register or run 'help(codecs.Codec)'\n",
      "    for a list of the permitted encoding error strings.\n",
      "\n",
      "    newline controls how universal newlines works (it only applies to text\n",
      "    mode). It can be None, '', '\\n', '\\r', and '\\r\\n'.  It works as\n",
      "    follows:\n",
      "\n",
      "    * On input, if newline is None, universal newlines mode is\n",
      "      enabled. Lines in the input can end in '\\n', '\\r', or '\\r\\n', and\n",
      "      these are translated into '\\n' before being returned to the\n",
      "      caller. If it is '', universal newline mode is enabled, but line\n",
      "      endings are returned to the caller untranslated. If it has any of\n",
      "      the other legal values, input lines are only terminated by the given\n",
      "      string, and the line ending is returned to the caller untranslated.\n",
      "\n",
      "    * On output, if newline is None, any '\\n' characters written are\n",
      "      translated to the system default line separator, os.linesep. If\n",
      "      newline is '' or '\\n', no translation takes place. If newline is any\n",
      "      of the other legal values, any '\\n' characters written are translated\n",
      "      to the given string.\n",
      "\n",
      "    If closefd is False, the underlying file descriptor will be kept open\n",
      "    when the file is closed. This does not work when a file name is given\n",
      "    and must be True in that case.\n",
      "\n",
      "    A custom opener can be used by passing a callable as *opener*. The\n",
      "    underlying file descriptor for the file object is then obtained by\n",
      "    calling *opener* with (*file*, *flags*). *opener* must return an open\n",
      "    file descriptor (passing os.open as *opener* results in functionality\n",
      "    similar to passing None).\n",
      "\n",
      "    open() returns a file object whose type depends on the mode, and\n",
      "    through which the standard file operations such as reading and writing\n",
      "    are performed. When open() is used to open a file in a text mode ('w',\n",
      "    'r', 'wt', 'rt', etc.), it returns a TextIOWrapper. When used to open\n",
      "    a file in a binary mode, the returned class varies: in read binary\n",
      "    mode, it returns a BufferedReader; in write binary and append binary\n",
      "    modes, it returns a BufferedWriter, and in read/write mode, it returns\n",
      "    a BufferedRandom.\n",
      "\n",
      "    It is also possible to use a string or bytearray as a file for both\n",
      "    reading and writing. For strings StringIO can be used like a file\n",
      "    opened in a text mode, and for bytes a BytesIO can be used like a file\n",
      "    opened in a binary mode.\n",
      "\n"
     ]
    }
   ],
   "source": [
    "help(\"open\")"
   ]
  },
  {
   "cell_type": "code",
   "execution_count": null,
   "metadata": {},
   "outputs": [
    {
     "name": "stdout",
     "output_type": "stream",
     "text": [
      "55\n",
      "Hello World!\n",
      "Our Brand new Company Inaguration is today\n"
     ]
    }
   ],
   "source": [
    "with open(\"hello.txt\",'w') as f:\n",
    "    print(f.write(\"Hello World!\\nOur Brand new Company Inaguration is today\"))\n",
    "    f.close()\n",
    "# read returns as string\n",
    "with open(\"hello.txt\",'r') as f:\n",
    "    print(f.read())\n",
    "    f.close()\n"
   ]
  },
  {
   "cell_type": "code",
   "execution_count": null,
   "metadata": {},
   "outputs": [],
   "source": [
    "# append mode to append to if exists else create and write to file\n",
    "with open(\"hell.txt\",'a') as f:\n",
    "    f.write(\"\\n My grandparents are on tour\")"
   ]
  },
  {
   "cell_type": "markdown",
   "metadata": {},
   "source": [
    "# Read mode "
   ]
  },
  {
   "cell_type": "code",
   "execution_count": null,
   "metadata": {},
   "outputs": [
    {
     "name": "stdout",
     "output_type": "stream",
     "text": [
      "Hello World!\n",
      "Our Brand new Company Inaguration is today\n",
      " My grandparents are on tour\n",
      " My grandparents are on tour\n",
      "Hello World!\n",
      "\n",
      "<class 'list'>\n"
     ]
    }
   ],
   "source": [
    "# it read everything and make it string\n",
    "with open(\"hello.txt\",'r') as f:\n",
    "    print(f.read())\n",
    "    f.close()\n",
    "# read \n",
    "with open(\"hello.txt\",'r') as f:\n",
    "    print(f.readline())\n",
    "    f.close()\n",
    "    \n",
    "# read all the lines stores in list\n",
    "with open(\"hello.txt\",'r') as f:\n",
    "    print(type(f.readlines()))\n",
    "    f.close()"
   ]
  },
  {
   "cell_type": "code",
   "execution_count": null,
   "metadata": {},
   "outputs": [],
   "source": [
    "Report=\"\"\n",
    "with open(\"marks.txt\",'r') as f:\n",
    "    i=0\n",
    "    while True:\n",
    "        i+=1\n",
    "        line = f.readline()\n",
    "        if not line:\n",
    "            break\n",
    "        m1= int(line.split(\",\")[0])\n",
    "        m2=int(line.split(\",\")[1])\n",
    "        m3=int(line.split(\",\")[2])\n",
    "        m4=int(line.split(\",\")[3])\n",
    "        m5=int(line.split(\",\")[4])\n",
    "        total = m1+m2+m3+m4+m5\n",
    "        average = total/5\n",
    "        Report  = Report + f\"\"\"Student {i} got :\n",
    "              Tamil : {m1}\n",
    "              English:{m2}\n",
    "              Maths: {m3}\n",
    "              Science:{m4}\n",
    "              Social : {m5}\n",
    "              Total Marks : {total}\n",
    "              Average Marks : {average}\\n\"\"\"\n",
    "       \n",
    "\n",
    "    "
   ]
  },
  {
   "cell_type": "code",
   "execution_count": null,
   "metadata": {},
   "outputs": [],
   "source": [
    "with open (\"report.txt\",'w') as f:\n",
    "    f.write(Report)\n",
    "    f.close()"
   ]
  },
  {
   "cell_type": "markdown",
   "metadata": {},
   "source": [
    "Seek and Tell in File Handling\n",
    "1) seek helps to go to the position of the file\n",
    "2) tell gives the current position of file pointer\n",
    "3) truncate(10) from where the file pointer truncates the file inwrite mode"
   ]
  },
  {
   "cell_type": "code",
   "execution_count": null,
   "metadata": {},
   "outputs": [
    {
     "name": "stdout",
     "output_type": "stream",
     "text": [
      "5\n",
      " Wo\n"
     ]
    }
   ],
   "source": [
    "with open(\"hello.txt\",'r') as f:\n",
    "    # seek the character\n",
    "    f.seek(5)\n",
    "    # tell the file reads starts from byte position\n",
    "    print(f.tell())\n",
    "    print(f.read())"
   ]
  },
  {
   "cell_type": "code",
   "execution_count": null,
   "metadata": {},
   "outputs": [
    {
     "name": "stdout",
     "output_type": "stream",
     "text": [
      "5\n"
     ]
    }
   ],
   "source": [
    "with open(\"hello.txt\",'w') as f:\n",
    "    # seek the character\n",
    "    f.seek(5)\n",
    "    # tell the file reads starts from byte position\n",
    "    print(f.tell())\n",
    "    f.write(\"hello world\")"
   ]
  },
  {
   "cell_type": "code",
   "execution_count": null,
   "metadata": {},
   "outputs": [],
   "source": [
    "with open(\"hello.txt\",'w') as f:\n",
    "    f.write(\"Hello World\")\n",
    "    f.truncate(8)\n",
    "    f.close()"
   ]
  },
  {
   "cell_type": "markdown",
   "metadata": {},
   "source": [
    " # is and == difference"
   ]
  },
  {
   "cell_type": "markdown",
   "metadata": {},
   "source": [
    "1) is -> compare the location of object in memory\n",
    "2) == -> compare the values of objects"
   ]
  },
  {
   "cell_type": "code",
   "execution_count": null,
   "metadata": {},
   "outputs": [
    {
     "name": "stdout",
     "output_type": "stream",
     "text": [
      "False\n",
      "True\n"
     ]
    }
   ],
   "source": [
    "a=20\n",
    "b=100\n",
    "print(a == b)\n",
    "a= 30\n",
    "b=30\n",
    "print(a==b)"
   ]
  },
  {
   "cell_type": "code",
   "execution_count": null,
   "metadata": {},
   "outputs": [
    {
     "name": "stdout",
     "output_type": "stream",
     "text": [
      "True\n"
     ]
    }
   ],
   "source": [
    " print(a is b)"
   ]
  },
  {
   "cell_type": "code",
   "execution_count": null,
   "metadata": {},
   "outputs": [
    {
     "name": "stdout",
     "output_type": "stream",
     "text": [
      "True\n",
      "False\n"
     ]
    }
   ],
   "source": [
    "a=[1,2,4]\n",
    "b=[1,2,4]\n",
    "print(a==b)\n",
    "print(a is b)"
   ]
  },
  {
   "cell_type": "markdown",
   "metadata": {},
   "source": [
    "# Object Oriented Programming \n",
    "1) Class - BluePrint For Creation of Objects .\n",
    "2) Object - Instance of class which has its own methods and properties\n",
    "3) Method - behaviours of class (functions inside class)\n",
    "4) Attributes - properties or state (data type of variables)\n"
   ]
  },
  {
   "cell_type": "code",
   "execution_count": null,
   "metadata": {},
   "outputs": [
    {
     "name": "stdout",
     "output_type": "stream",
     "text": [
      "John is 20 years old\n"
     ]
    }
   ],
   "source": [
    "class Person:\n",
    "    name = \"John\"\n",
    "    age = 20\n",
    "    def info(self):\n",
    "        print(f\"{self.name} is {self.age} years old\")\n",
    "person = Person()\n",
    "person.info()\n",
    "    "
   ]
  },
  {
   "cell_type": "markdown",
   "metadata": {},
   "source": [
    "# Constructors"
   ]
  },
  {
   "cell_type": "code",
   "execution_count": null,
   "metadata": {},
   "outputs": [
    {
     "name": "stdout",
     "output_type": "stream",
     "text": [
      "Hariharan was 32 years old\n"
     ]
    }
   ],
   "source": [
    "class Person:\n",
    "    def __init__(self,name,age):\n",
    "        self.name = name\n",
    "        self.age = age\n",
    "    def info(self):\n",
    "        print(f\"{self.name} was {self.age} years old\")\n",
    "person =Person(\"Hariharan\",32)\n",
    "person.info()\n",
    "    "
   ]
  },
  {
   "cell_type": "code",
   "execution_count": null,
   "metadata": {},
   "outputs": [],
   "source": [
    "class ViceCity:\n",
    "    def __init__(self,name,health,policeStars,weapons):\n",
    "        self.name = name\n",
    "        self.health = health\n",
    "        self.policeStars  = policeStars\n",
    "        self.weapons = weapons\n",
    "    def attack(self):\n",
    "            print(f\"{self.name} attacks with {self.weapons}\")\n",
    "    def defend(self):\n",
    "            print(f\"{self.name} should defends with {self.weapons}\")\n",
    "    def policeAttack(self):\n",
    "            if self.policeStars == 0:\n",
    "                print(f\"{self.name} did not have Threat from Police\")\n",
    "            elif self.policeStars <= 3:\n",
    "                print(f\"Cops will attack using guns , bullets ,knives ,cars\")\n",
    "            elif self.policeStars <=4:\n",
    "                print(f\"{self.name} will be going to be attacked by helicopter\")\n",
    "            elif self.policeStars >=5:\n",
    "                print(f\"{self.name} will be attacked by boats,cannons,robots\")\n",
    "    def healthCheck(self):\n",
    "            if self.health <=0:\n",
    "                print(f\"{self.name} was dead\")\n",
    "            else:\n",
    "                print(f\"{self.name} was alive and healthy\")\n",
    "        "
   ]
  },
  {
   "cell_type": "code",
   "execution_count": null,
   "metadata": {},
   "outputs": [
    {
     "name": "stdout",
     "output_type": "stream",
     "text": [
      "Jameer was alive and healthy\n",
      "Jameer will be going to be attacked by helicopter\n",
      "Jameer attacks with Machine gun\n",
      "Jameer should defends with Machine gun\n"
     ]
    }
   ],
   "source": [
    "game = ViceCity(\"Jameer\",90,4,\"Machine gun\")\n",
    "game.healthCheck()\n",
    "game.policeAttack()\n",
    "game.attack()\n",
    "game.defend()"
   ]
  },
  {
   "cell_type": "code",
   "execution_count": null,
   "metadata": {},
   "outputs": [],
   "source": [
    "import math as Math\n",
    "class Number:\n",
    "    def __init__(self,number):\n",
    "        self.number = number\n",
    "    def reverse(self):\n",
    "        if int(self.number<0):\n",
    "            return -int(str(self.number)[::-1])\n",
    "        else:\n",
    "            return int(str(self.number)[::-1])\n",
    "    def factorial(self):\n",
    "        fact = 1\n",
    "        for i in range(1,self.number+1):\n",
    "            fact*=i\n",
    "        return fact\n",
    "    def isPrime(self):\n",
    "        if self.number < 2:\n",
    "            return False\n",
    "        for i in range(2,int(Math.sqrt(self.number)+1)):\n",
    "            if self.number % i == 0:\n",
    "                return False\n",
    "        return True\n",
    "    def fibanocci(self):\n",
    "        if self.number <=0:\n",
    "            return \"Input should be positive\"\n",
    "        else:\n",
    "            a = 0\n",
    "            b = 1\n",
    "            for i in range(2,self.number+1):\n",
    "                c=a+b\n",
    "                a=b\n",
    "                b=c\n",
    "            return b\n",
    "    def isPaindrome(self):\n",
    "        return str(self.number) == str(self.number)[::-1]\n",
    "    "
   ]
  },
  {
   "cell_type": "code",
   "execution_count": null,
   "metadata": {},
   "outputs": [
    {
     "data": {
      "text/plain": [
       "True"
      ]
     },
     "execution_count": 55,
     "metadata": {},
     "output_type": "execute_result"
    }
   ],
   "source": [
    "no = Number(23)\n",
    "no.isPrime()"
   ]
  },
  {
   "cell_type": "code",
   "execution_count": null,
   "metadata": {},
   "outputs": [
    {
     "name": "stdout",
     "output_type": "stream",
     "text": [
      "thiru scores 123 in this  game\n"
     ]
    }
   ],
   "source": [
    "class Player:\n",
    "    def __init__(self,name,score):\n",
    "        self.name = name\n",
    "        self.score = score\n",
    "    def info(self):\n",
    "        print(f\"{self.name} scores {self.score} in this  game\")\n",
    "name = input(\"Enter the name of the Player : \")\n",
    "score = input(\"Enter the Score of the Player : \")\n",
    "player = Player(name,score)\n",
    "player.info()\n",
    "        "
   ]
  },
  {
   "cell_type": "code",
   "execution_count": null,
   "metadata": {},
   "outputs": [],
   "source": [
    "import math as m\n",
    "class Problem:\n",
    "    def __init__(self,number):\n",
    "        self.number = number\n",
    "    def square(self):\n",
    "        return self.number ** 2\n",
    "    def cube(self):\n",
    "        return self.number ** 3\n",
    "    def printPrime(self):\n",
    "        for i in range(1,self.number+1):\n",
    "            isPrime = True\n",
    "            if i == 1:\n",
    "                continue\n",
    "            for j in range(2,int(m.sqrt(i))+1):\n",
    "                if i % j == 0:\n",
    "                    isPrime = False\n",
    "                    break \n",
    "            \n",
    "            if isPrime:\n",
    "                print(i,end=\" \")                 "
   ]
  },
  {
   "cell_type": "code",
   "execution_count": null,
   "metadata": {},
   "outputs": [
    {
     "name": "stdout",
     "output_type": "stream",
     "text": [
      "2 3 5 7 11 "
     ]
    }
   ],
   "source": [
    "problem = Problem(12)\n",
    "problem.printPrime()"
   ]
  },
  {
   "cell_type": "code",
   "execution_count": null,
   "metadata": {},
   "outputs": [
    {
     "name": "stdout",
     "output_type": "stream",
     "text": [
      "sriram\n",
      "sriram\n",
      "sriram\n",
      "sriram\n",
      "sriram\n",
      "sriram\n",
      "sriram\n",
      "sriram\n",
      "sriram\n",
      "sriram\n",
      "\n"
     ]
    }
   ],
   "source": [
    "print(\"sriram\\n\"*10)"
   ]
  },
  {
   "cell_type": "code",
   "execution_count": null,
   "metadata": {},
   "outputs": [],
   "source": [
    "with open(\"hello.txt\",'w') as f:\n",
    "    f.write(\"The data is stored in college should be erased by some unknown\")"
   ]
  },
  {
   "cell_type": "markdown",
   "metadata": {},
   "source": [
    "# Decorators \n",
    "1)  it  takes another function as  argument and return a function"
   ]
  },
  {
   "cell_type": "code",
   "execution_count": 5,
   "metadata": {},
   "outputs": [
    {
     "name": "stdout",
     "output_type": "stream",
     "text": [
      "Hello World\n",
      "Hello friends\n",
      "Have a nice dinner!\n"
     ]
    }
   ],
   "source": [
    "def greet(sayHello):\n",
    "    def intermediate():\n",
    "        print(\"Hello World\")\n",
    "        sayHello()\n",
    "        print(\"Have a nice dinner!\")\n",
    "    return intermediate\n",
    "    \n",
    "@greet\n",
    "def sayHello():\n",
    "    print(\"Hello friends\")\n",
    "sayHello()"
   ]
  },
  {
   "cell_type": "markdown",
   "metadata": {},
   "source": [
    "# Getters and Setters\n",
    "1) getters - - > getters are used to get the varibales\n",
    "2) setters -- > change the state of variables or properties"
   ]
  },
  {
   "cell_type": "markdown",
   "metadata": {},
   "source": [
    "1) @property --> allowing to access like attribute rather than method\n",
    "2) @getter_func_name.setter ->setter decorator\n"
   ]
  },
  {
   "cell_type": "code",
   "execution_count": 27,
   "metadata": {},
   "outputs": [
    {
     "ename": "RecursionError",
     "evalue": "maximum recursion depth exceeded",
     "output_type": "error",
     "traceback": [
      "\u001b[1;31m---------------------------------------------------------------------------\u001b[0m",
      "\u001b[1;31mRecursionError\u001b[0m                            Traceback (most recent call last)",
      "Cell \u001b[1;32mIn[27], line 18\u001b[0m\n\u001b[0;32m     15\u001b[0m     \u001b[38;5;129m@age\u001b[39m\u001b[38;5;241m.\u001b[39msetter\n\u001b[0;32m     16\u001b[0m     \u001b[38;5;28;01mdef\u001b[39;00m \u001b[38;5;21mage\u001b[39m(\u001b[38;5;28mself\u001b[39m,newage):\n\u001b[0;32m     17\u001b[0m         \u001b[38;5;28mself\u001b[39m\u001b[38;5;241m.\u001b[39mage \u001b[38;5;241m=\u001b[39m newage\n\u001b[1;32m---> 18\u001b[0m person \u001b[38;5;241m=\u001b[39m \u001b[43mStudent\u001b[49m\u001b[43m(\u001b[49m\u001b[38;5;124;43m\"\u001b[39;49m\u001b[38;5;124;43mAlice\u001b[39;49m\u001b[38;5;124;43m\"\u001b[39;49m\u001b[43m,\u001b[49m\u001b[38;5;241;43m24\u001b[39;49m\u001b[43m)\u001b[49m\n",
      "Cell \u001b[1;32mIn[27], line 4\u001b[0m, in \u001b[0;36mStudent.__init__\u001b[1;34m(self, name, age)\u001b[0m\n\u001b[0;32m      3\u001b[0m \u001b[38;5;28;01mdef\u001b[39;00m \u001b[38;5;21m__init__\u001b[39m(\u001b[38;5;28mself\u001b[39m,name,age):\n\u001b[1;32m----> 4\u001b[0m     \u001b[38;5;28;43mself\u001b[39;49m\u001b[38;5;241;43m.\u001b[39;49m\u001b[43mname\u001b[49m \u001b[38;5;241m=\u001b[39m name\n\u001b[0;32m      5\u001b[0m     \u001b[38;5;28mself\u001b[39m\u001b[38;5;241m.\u001b[39mage \u001b[38;5;241m=\u001b[39m age\n",
      "Cell \u001b[1;32mIn[27], line 11\u001b[0m, in \u001b[0;36mStudent.name\u001b[1;34m(self, newName)\u001b[0m\n\u001b[0;32m      9\u001b[0m \u001b[38;5;129m@name\u001b[39m\u001b[38;5;241m.\u001b[39msetter\n\u001b[0;32m     10\u001b[0m \u001b[38;5;28;01mdef\u001b[39;00m \u001b[38;5;21mname\u001b[39m(\u001b[38;5;28mself\u001b[39m,newName):\n\u001b[1;32m---> 11\u001b[0m     \u001b[38;5;28;43mself\u001b[39;49m\u001b[38;5;241;43m.\u001b[39;49m\u001b[43mname\u001b[49m \u001b[38;5;241m=\u001b[39m newName\n",
      "Cell \u001b[1;32mIn[27], line 11\u001b[0m, in \u001b[0;36mStudent.name\u001b[1;34m(self, newName)\u001b[0m\n\u001b[0;32m      9\u001b[0m \u001b[38;5;129m@name\u001b[39m\u001b[38;5;241m.\u001b[39msetter\n\u001b[0;32m     10\u001b[0m \u001b[38;5;28;01mdef\u001b[39;00m \u001b[38;5;21mname\u001b[39m(\u001b[38;5;28mself\u001b[39m,newName):\n\u001b[1;32m---> 11\u001b[0m     \u001b[38;5;28;43mself\u001b[39;49m\u001b[38;5;241;43m.\u001b[39;49m\u001b[43mname\u001b[49m \u001b[38;5;241m=\u001b[39m newName\n",
      "    \u001b[1;31m[... skipping similar frames: Student.name at line 11 (1487 times)]\u001b[0m\n",
      "Cell \u001b[1;32mIn[27], line 11\u001b[0m, in \u001b[0;36mStudent.name\u001b[1;34m(self, newName)\u001b[0m\n\u001b[0;32m      9\u001b[0m \u001b[38;5;129m@name\u001b[39m\u001b[38;5;241m.\u001b[39msetter\n\u001b[0;32m     10\u001b[0m \u001b[38;5;28;01mdef\u001b[39;00m \u001b[38;5;21mname\u001b[39m(\u001b[38;5;28mself\u001b[39m,newName):\n\u001b[1;32m---> 11\u001b[0m     \u001b[38;5;28;43mself\u001b[39;49m\u001b[38;5;241;43m.\u001b[39;49m\u001b[43mname\u001b[49m \u001b[38;5;241m=\u001b[39m newName\n",
      "\u001b[1;31mRecursionError\u001b[0m: maximum recursion depth exceeded"
     ]
    }
   ],
   "source": [
    "# We attempt to use  when we used getter and setters using public attribute\n",
    "class Student:\n",
    "    def __init__(self,name,age):\n",
    "        self.name = name\n",
    "        self.age = age\n",
    "    @property\n",
    "    def name(self):\n",
    "        return self.name\n",
    "    @name.setter\n",
    "    def name(self,newName):\n",
    "        self.name = newName\n",
    "    @property\n",
    "    def age(self):\n",
    "        return self.age\n",
    "    @age.setter\n",
    "    def age(self,newage):\n",
    "        self.age = newage\n",
    "person = Student(\"Alice\",24)\n",
    "    \n",
    "    "
   ]
  },
  {
   "cell_type": "markdown",
   "metadata": {},
   "source": [
    "1) In the above Program When we use @property is used we tend to access the variables name an age by using its decorators \n",
    "2) But , when we modify using setter method name.setter it is again calling itself resulting in internalRecursionError (InfiniteRecursion)"
   ]
  },
  {
   "cell_type": "code",
   "execution_count": 29,
   "metadata": {},
   "outputs": [
    {
     "name": "stdout",
     "output_type": "stream",
     "text": [
      "Alice 24\n",
      "Bob 21\n"
     ]
    }
   ],
   "source": [
    "#Internally store in other variable by putting underscore\n",
    "class Student:\n",
    "    def __init__(self,name,age):\n",
    "        self.name = name\n",
    "        self.age = age\n",
    "    @property\n",
    "    def name(self):\n",
    "        return self._name\n",
    "    @name.setter\n",
    "    def name(self,newName):\n",
    "        self._name = newName\n",
    "    @property\n",
    "    def age(self):\n",
    "        return self._age\n",
    "    @age.setter\n",
    "    def age(self,newage):\n",
    "        self._age = newage\n",
    "person = Student(\"Alice\",24)\n",
    "print(person.name,person.age)\n",
    "person.name=\"Bob\"\n",
    "person.age = 21\n",
    "print(person.name,person.age)\n",
    "    "
   ]
  },
  {
   "cell_type": "code",
   "execution_count": 35,
   "metadata": {},
   "outputs": [
    {
     "data": {
      "text/plain": [
       "'Student'"
      ]
     },
     "execution_count": 35,
     "metadata": {},
     "output_type": "execute_result"
    }
   ],
   "source": [
    "# We attempt to use  when we used getter and setters\n",
    "class Student:\n",
    "    def __init__(self,name,age):\n",
    "        self._name = name\n",
    "        self._age = age\n",
    "    @property\n",
    "    def name(self):\n",
    "        return self._name\n",
    "    @name.setter\n",
    "    def name(self,newName):\n",
    "        self._name = newName\n",
    "    @property\n",
    "    def age(self):\n",
    "        return self._age\n",
    "    @age.setter\n",
    "    def age(self,newage):\n",
    "        self._age = newage\n",
    "person = Student(\"Alice\",24)\n",
    "person._name=\"Student\"\n",
    "person._name\n",
    "    "
   ]
  },
  {
   "cell_type": "code",
   "execution_count": 43,
   "metadata": {},
   "outputs": [
    {
     "name": "stdout",
     "output_type": "stream",
     "text": [
      "35 Alice\n",
      "23 Bob\n",
      "'Student' object has no attribute '__name'\n"
     ]
    }
   ],
   "source": [
    "# We attempt to use  when we used getter and setters using private Attribute\n",
    "class Student:\n",
    "    def __init__(self,name,age):\n",
    "        self.__name = name\n",
    "        self.__age = age\n",
    "    @property\n",
    "    def name(self):\n",
    "        return self.__name\n",
    "    @name.setter\n",
    "    def name(self,newName):\n",
    "        self.__name = newName\n",
    "    @property\n",
    "    def age(self):\n",
    "        return self.__age\n",
    "    @age.setter\n",
    "    def age(self,newage):\n",
    "        self.__age = newage\n",
    "person = Student(\"Alice\",35)\n",
    "print(person.age,person.name) \n",
    "person.age = 23\n",
    "person.name = \"Bob\"\n",
    "print(person.age,person.name)\n",
    "# raises an attribute error when try to access directlty\n",
    "try:\n",
    "    print(person.__name)\n",
    "except AttributeError as e:\n",
    "    print(e)\n"
   ]
  },
  {
   "cell_type": "markdown",
   "metadata": {},
   "source": [
    "# Encapsulation\n",
    "Hiding of objects encapsuled together "
   ]
  },
  {
   "cell_type": "code",
   "execution_count": 6,
   "metadata": {},
   "outputs": [],
   "source": [
    "# getter ,setter practice\n",
    "class Employee:\n",
    "    def __init__(self,id=None,name=None,salary=None):\n",
    "        self.__id=id\n",
    "        self.__name = name\n",
    "        self.__salary = salary\n",
    "    @property\n",
    "    def getId(self):\n",
    "        return self.__id\n",
    "    @getId.setter\n",
    "    def setId(self,newId):\n",
    "        self.__id=newId\n",
    "    @property\n",
    "    def getName(self):\n",
    "        return self.__name\n",
    "    @getName.setter\n",
    "    def setName(self,name):\n",
    "        self.__name = name\n",
    "    @property\n",
    "    def getSalary(self):\n",
    "        return self.__salary\n",
    "    @getSalary.setter\n",
    "    def setSalary(self,salary):\n",
    "        self.__salary = salary\n",
    "    "
   ]
  },
  {
   "cell_type": "code",
   "execution_count": 18,
   "metadata": {},
   "outputs": [],
   "source": [
    "n = int(input(\"Enter the number of employees : \"))\n",
    "id = 1\n",
    "employeeList = list()\n",
    "for i in range(n):\n",
    "    name = input(\"Enter the name of employee : \")\n",
    "    salary = float(input(\"Enter the salary :\"))\n",
    "    employee = Employee(id,name,salary)\n",
    "    employeeList.append(employee)\n",
    "    id+=1"
   ]
  },
  {
   "cell_type": "code",
   "execution_count": 19,
   "metadata": {},
   "outputs": [
    {
     "name": "stdout",
     "output_type": "stream",
     "text": [
      "1 john 12000.0\n",
      "2 josehp 12345.0\n",
      "3 joe 120000.0\n"
     ]
    }
   ],
   "source": [
    "for employee in employeeList:\n",
    "    print(employee.getId,employee.getName,employee.getSalary)\n"
   ]
  },
  {
   "cell_type": "markdown",
   "metadata": {},
   "source": [
    "# Inheritance\n",
    "When class derrives from another class like children class children class inherits all the  public and protected properties of parents "
   ]
  },
  {
   "cell_type": "code",
   "execution_count": 24,
   "metadata": {},
   "outputs": [
    {
     "name": "stdout",
     "output_type": "stream",
     "text": [
      "horse\n"
     ]
    }
   ],
   "source": [
    "class Employee:\n",
    "    def __init__(self,id,name,salary):\n",
    "        self._id =id\n",
    "        self._name = name\n",
    "        self_salary = salary\n",
    "    def info(self):\n",
    "        print(f\"{self._name} was Working for {self._salary}\")\n",
    "class Programmer(Employee):\n",
    "    def __init__(self,skills):\n",
    "        \n",
    "        self._skills = skills\n",
    "    def skillsList(self):\n",
    "        print(f\"{self._skills}\")\n",
    "programmer = Programmer(\"horse\")\n",
    "programmer.skillsList()"
   ]
  },
  {
   "cell_type": "markdown",
   "metadata": {},
   "source": [
    "# Access Modifiers\n",
    "in general oops concept \n",
    "1) private -- > cannot be accessed outside class\n",
    "2) protected -- > can be accessed with child class or within class\n",
    "3) public -- > can be accessed everywhere"
   ]
  },
  {
   "cell_type": "markdown",
   "metadata": {},
   "source": [
    "In general Python has no private ,protected it allows all of them act as public"
   ]
  },
  {
   "cell_type": "markdown",
   "metadata": {},
   "source": [
    "However Naming convention diifers\n",
    "1) _name -- > public\n",
    "2) _name -->protected\n",
    "3) __name -->private -> which enforces python to use encapsulation this is strictly private accessed by getters and setters"
   ]
  },
  {
   "cell_type": "code",
   "execution_count": 43,
   "metadata": {},
   "outputs": [
    {
     "name": "stdout",
     "output_type": "stream",
     "text": [
      "Yak 34\n",
      "Yak\n",
      "34\n"
     ]
    }
   ],
   "source": [
    "class Hero:\n",
    "    def __init__(self,name,age):\n",
    "        self.name = name\n",
    "        self.age = age\n",
    "    def info(self):\n",
    "        print(self.name,self.age)\n",
    "h = Hero(\"Yak\",34)\n",
    "h.info()\n",
    "print(h.name,h.age,sep=\"\\n\")"
   ]
  },
  {
   "cell_type": "code",
   "execution_count": 44,
   "metadata": {},
   "outputs": [
    {
     "name": "stdout",
     "output_type": "stream",
     "text": [
      "Mercedes Office\n",
      "Office , Mercedes\n"
     ]
    }
   ],
   "source": [
    "class Car:\n",
    "    def __init__(self,type,brand):\n",
    "        self._type=type\n",
    "        self._brand = brand\n",
    "    def info(self):\n",
    "        print(self._type,self._brand)\n",
    "c = Car(\"Mercedes\",\"Office\")\n",
    "c.info()\n",
    "print(c._brand,c._type,sep=\" , \" )\n",
    "        "
   ]
  },
  {
   "cell_type": "code",
   "execution_count": 45,
   "metadata": {},
   "outputs": [
    {
     "name": "stdout",
     "output_type": "stream",
     "text": [
      "'Money' object has no attribute '__income'\n",
      "12000\n"
     ]
    }
   ],
   "source": [
    "class Money:\n",
    "    def __init__(self,income,invest,saving):\n",
    "        self.__income = income\n",
    "        self.__invest = invest\n",
    "        self.__saving = saving\n",
    "    @property\n",
    "    def getIncome(self):\n",
    "        return self.__income\n",
    "m = Money(12000,10000,3000)\n",
    "# error raises beacuse __ double underscores python will think it is private and enforces encapsulation\n",
    "try:\n",
    "    print(m.__income)\n",
    "except AttributeError as e:\n",
    "    print(e)\n",
    "print(m.getIncome)"
   ]
  },
  {
   "cell_type": "code",
   "execution_count": 3,
   "metadata": {},
   "outputs": [
    {
     "name": "stdout",
     "output_type": "stream",
     "text": [
      "Same! Try again\n",
      "Same! Try again\n",
      "Same! Try again\n",
      "Same! Try again\n",
      "Same! Try again\n",
      "Same! Try again\n",
      "Same! Try again\n",
      "Same! Try again\n",
      "Same! Try again\n",
      "Same! Try again\n",
      "Same! Try again\n",
      "Same! Try again\n",
      "Same! Try again\n",
      "Same! Try again\n",
      "Same! Try again\n",
      "Player Wins!\n",
      "🤣\n"
     ]
    }
   ],
   "source": [
    "# Lets Play fun gaem snake water gun\n",
    "import random as rd\n",
    "try:\n",
    "    computer = rd.randint(0,2)\n",
    "    score1 =0 # computer score\n",
    "    score2 = 0 #player score\n",
    "    while score1 < 5 and score2 < 5:\n",
    "        guess = int(input(\"Enter the number 0 for snake 1 for water 2 for gun\"))\n",
    "        if computer == guess:\n",
    "            print(\"Same! Try again\")\n",
    "            continue\n",
    "        elif computer == 0:\n",
    "            if guess == 2:\n",
    "                score2+=1\n",
    "            else:\n",
    "                score1+=1\n",
    "        elif computer == 1:\n",
    "            if guess == 2:\n",
    "                score1+=1\n",
    "            else:\n",
    "                score2+=1\n",
    "        elif computer == 2:\n",
    "            if guess == 0:\n",
    "                score1+=1\n",
    "            else:\n",
    "                score2+=1\n",
    "    if score1==score2:\n",
    "          print(\"Tie!\")\n",
    "    elif score1 >score2:\n",
    "        print(\"Computer Wins!\")\n",
    "        print(\"\\U0001f600\")\n",
    "    else:\n",
    "        print(\"Player Wins!\")\n",
    "        print(\"\\U0001F923\")\n",
    "except:\n",
    "      pass\n",
    "        "
   ]
  },
  {
   "cell_type": "code",
   "execution_count": null,
   "metadata": {},
   "outputs": [],
   "source": []
  }
 ],
 "metadata": {
  "kernelspec": {
   "display_name": "Python 3 (ipykernel)",
   "language": "python",
   "name": "python3"
  },
  "language_info": {
   "codemirror_mode": {
    "name": "ipython",
    "version": 3
   },
   "file_extension": ".py",
   "mimetype": "text/x-python",
   "name": "python",
   "nbconvert_exporter": "python",
   "pygments_lexer": "ipython3",
   "version": "3.12.5"
  },
  "widgets": {
   "application/vnd.jupyter.widget-state+json": {
    "state": {},
    "version_major": 2,
    "version_minor": 0
   }
  }
 },
 "nbformat": 4,
 "nbformat_minor": 4
}
